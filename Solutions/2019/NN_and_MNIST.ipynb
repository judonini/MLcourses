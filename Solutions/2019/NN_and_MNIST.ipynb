{
 "cells": [
  {
   "cell_type": "markdown",
   "metadata": {},
   "source": [
    "# MNIST Handwritten Digit Recognition in PyTorch\n",
    "\n",
    "Example taken from:\n",
    "\n",
    "* Main source: https://towardsdatascience.com/a-simple-starter-guide-to-build-a-neural-network-3c2cf07b8d7c\n",
    "\n",
    "* Complemented with: https://nextjournal.com/gkoehler/pytorch-mnist\n",
    "\n",
    "* Application to recognise drawn digits: https://ashok.tanka.la/assets/examples/mnist/mnist.html\n",
    "\n",
    "About variables and autograd, see: https://jhui.github.io/2018/02/09/PyTorch-Variables-functionals-and-Autograd/"
   ]
  },
  {
   "cell_type": "markdown",
   "metadata": {},
   "source": [
    "## Import PyTorch"
   ]
  },
  {
   "cell_type": "code",
   "execution_count": 1,
   "metadata": {},
   "outputs": [],
   "source": [
    "import torch\n",
    "import torch.nn as nn\n",
    "import torchvision.datasets as dsets\n",
    "import torchvision.transforms as transforms\n",
    "from torch.autograd import Variable\n",
    "\n",
    "import matplotlib.pyplot as plt"
   ]
  },
  {
   "cell_type": "markdown",
   "metadata": {},
   "source": [
    "## Initialize Hyper-parameters"
   ]
  },
  {
   "cell_type": "code",
   "execution_count": 2,
   "metadata": {},
   "outputs": [],
   "source": [
    "input_size = 784       # The image size = 28 x 28 = 784\n",
    "hidden_size = 500      # The number of nodes at the hidden layer\n",
    "num_classes = 10       # The number of output classes. In this case, from 0 to 9\n",
    "num_epochs = 5         # The number of times entire dataset is trained\n",
    "batch_size = 100       # The size of input data took for one iteration\n",
    "learning_rate = 0.001  # The speed of convergence"
   ]
  },
  {
   "cell_type": "markdown",
   "metadata": {},
   "source": [
    "## Download MNIST Dataset"
   ]
  },
  {
   "cell_type": "code",
   "execution_count": 3,
   "metadata": {},
   "outputs": [],
   "source": [
    "train_dataset = dsets.MNIST(root='./data',\n",
    "                           train=True,\n",
    "                           transform=transforms.ToTensor(),\n",
    "                           download=False)\n",
    "\n",
    "test_dataset = dsets.MNIST(root='./data',\n",
    "                           train=False,\n",
    "                           transform=transforms.ToTensor())"
   ]
  },
  {
   "cell_type": "markdown",
   "metadata": {},
   "source": [
    "## Load the Dataset"
   ]
  },
  {
   "cell_type": "markdown",
   "metadata": {},
   "source": [
    "We shuffle the loading process of train_dataset to make the learning process independent of data orderness, but the order of test_loader remains to examine whether we can handle unspecified bias order of inputs."
   ]
  },
  {
   "cell_type": "code",
   "execution_count": 4,
   "metadata": {},
   "outputs": [],
   "source": [
    "train_loader = torch.utils.data.DataLoader(dataset=train_dataset,\n",
    "                                          batch_size=batch_size,\n",
    "                                          shuffle=True)\n",
    "\n",
    "test_loader = torch.utils.data.DataLoader(dataset=test_dataset,\n",
    "                                          batch_size=batch_size,\n",
    "                                          shuffle=False)"
   ]
  },
  {
   "cell_type": "markdown",
   "metadata": {},
   "source": [
    "## Let's take a look at some examples. \n",
    "We'll use the test_loader for this."
   ]
  },
  {
   "cell_type": "code",
   "execution_count": 5,
   "metadata": {},
   "outputs": [
    {
     "name": "stdout",
     "output_type": "stream",
     "text": [
      "batch data: torch.Size([100, 1, 28, 28])\n",
      "Target data shape: torch.Size([100])\n"
     ]
    }
   ],
   "source": [
    "examples = enumerate(test_loader)\n",
    "batch_idx, (example_data, example_targets) = next(examples)\n",
    "\n",
    "# Let's see what one test data batch consists of\n",
    "# --> we have [batch_size] examples of 28x28 pixels in grayscale (i.e. no rgb channels, hence the one). \n",
    "print(\"batch data:\", example_data.shape)\n",
    "\n",
    "print(\"Target data shape:\", example_targets.shape)"
   ]
  },
  {
   "cell_type": "markdown",
   "metadata": {},
   "source": [
    "## Exercice: print pixel content of 1st image and its target value\n",
    "\n",
    "Not very instructive but at least we see the raw values"
   ]
  },
  {
   "cell_type": "code",
   "execution_count": 6,
   "metadata": {},
   "outputs": [
    {
     "name": "stdout",
     "output_type": "stream",
     "text": [
      "Print pixel content of 1st image: tensor([[0.0000, 0.0000, 0.0000, 0.0000, 0.0000, 0.0000, 0.0000, 0.0000, 0.0000,\n",
      "         0.0000, 0.0000, 0.0000, 0.0000, 0.0000, 0.0000, 0.0000, 0.0000, 0.0000,\n",
      "         0.0000, 0.0000, 0.0000, 0.0000, 0.0000, 0.0000, 0.0000, 0.0000, 0.0000,\n",
      "         0.0000],\n",
      "        [0.0000, 0.0000, 0.0000, 0.0000, 0.0000, 0.0000, 0.0000, 0.0000, 0.0000,\n",
      "         0.0000, 0.0000, 0.0000, 0.0000, 0.0000, 0.0000, 0.0000, 0.0000, 0.0000,\n",
      "         0.0000, 0.0000, 0.0000, 0.0000, 0.0000, 0.0000, 0.0000, 0.0000, 0.0000,\n",
      "         0.0000],\n",
      "        [0.0000, 0.0000, 0.0000, 0.0000, 0.0000, 0.0000, 0.0000, 0.0000, 0.0000,\n",
      "         0.0000, 0.0000, 0.0000, 0.0000, 0.0000, 0.0000, 0.0000, 0.0000, 0.0000,\n",
      "         0.0000, 0.0000, 0.0000, 0.0000, 0.0000, 0.0000, 0.0000, 0.0000, 0.0000,\n",
      "         0.0000],\n",
      "        [0.0000, 0.0000, 0.0000, 0.0000, 0.0000, 0.0000, 0.0000, 0.0000, 0.0000,\n",
      "         0.0000, 0.0000, 0.0000, 0.0000, 0.0000, 0.0000, 0.0000, 0.0000, 0.0000,\n",
      "         0.0000, 0.0000, 0.0000, 0.0000, 0.0000, 0.0000, 0.0000, 0.0000, 0.0000,\n",
      "         0.0000],\n",
      "        [0.0000, 0.0000, 0.0000, 0.0000, 0.0000, 0.0000, 0.0000, 0.0000, 0.0000,\n",
      "         0.0000, 0.0000, 0.0000, 0.0000, 0.0000, 0.0000, 0.0000, 0.0000, 0.0000,\n",
      "         0.0000, 0.0000, 0.0000, 0.0000, 0.0000, 0.0000, 0.0000, 0.0000, 0.0000,\n",
      "         0.0000],\n",
      "        [0.0000, 0.0000, 0.0000, 0.0000, 0.0000, 0.0000, 0.0000, 0.0000, 0.0000,\n",
      "         0.0000, 0.0000, 0.0000, 0.0000, 0.0000, 0.0000, 0.0000, 0.0000, 0.0000,\n",
      "         0.0000, 0.0000, 0.0000, 0.0000, 0.0000, 0.0000, 0.0000, 0.0000, 0.0000,\n",
      "         0.0000],\n",
      "        [0.0000, 0.0000, 0.0000, 0.0000, 0.0000, 0.0000, 0.0000, 0.0000, 0.0000,\n",
      "         0.0000, 0.0000, 0.0000, 0.0000, 0.0000, 0.0000, 0.0000, 0.0000, 0.0000,\n",
      "         0.0000, 0.0000, 0.0000, 0.0000, 0.0000, 0.0000, 0.0000, 0.0000, 0.0000,\n",
      "         0.0000],\n",
      "        [0.0000, 0.0000, 0.0000, 0.0000, 0.0000, 0.0000, 0.3294, 0.7255, 0.6235,\n",
      "         0.5922, 0.2353, 0.1412, 0.0000, 0.0000, 0.0000, 0.0000, 0.0000, 0.0000,\n",
      "         0.0000, 0.0000, 0.0000, 0.0000, 0.0000, 0.0000, 0.0000, 0.0000, 0.0000,\n",
      "         0.0000],\n",
      "        [0.0000, 0.0000, 0.0000, 0.0000, 0.0000, 0.0000, 0.8706, 0.9961, 0.9961,\n",
      "         0.9961, 0.9961, 0.9451, 0.7765, 0.7765, 0.7765, 0.7765, 0.7765, 0.7765,\n",
      "         0.7765, 0.7765, 0.6667, 0.2039, 0.0000, 0.0000, 0.0000, 0.0000, 0.0000,\n",
      "         0.0000],\n",
      "        [0.0000, 0.0000, 0.0000, 0.0000, 0.0000, 0.0000, 0.2627, 0.4471, 0.2824,\n",
      "         0.4471, 0.6392, 0.8902, 0.9961, 0.8824, 0.9961, 0.9961, 0.9961, 0.9804,\n",
      "         0.8980, 0.9961, 0.9961, 0.5490, 0.0000, 0.0000, 0.0000, 0.0000, 0.0000,\n",
      "         0.0000],\n",
      "        [0.0000, 0.0000, 0.0000, 0.0000, 0.0000, 0.0000, 0.0000, 0.0000, 0.0000,\n",
      "         0.0000, 0.0000, 0.0667, 0.2588, 0.0549, 0.2627, 0.2627, 0.2627, 0.2314,\n",
      "         0.0824, 0.9255, 0.9961, 0.4157, 0.0000, 0.0000, 0.0000, 0.0000, 0.0000,\n",
      "         0.0000],\n",
      "        [0.0000, 0.0000, 0.0000, 0.0000, 0.0000, 0.0000, 0.0000, 0.0000, 0.0000,\n",
      "         0.0000, 0.0000, 0.0000, 0.0000, 0.0000, 0.0000, 0.0000, 0.0000, 0.0000,\n",
      "         0.3255, 0.9922, 0.8196, 0.0706, 0.0000, 0.0000, 0.0000, 0.0000, 0.0000,\n",
      "         0.0000],\n",
      "        [0.0000, 0.0000, 0.0000, 0.0000, 0.0000, 0.0000, 0.0000, 0.0000, 0.0000,\n",
      "         0.0000, 0.0000, 0.0000, 0.0000, 0.0000, 0.0000, 0.0000, 0.0000, 0.0863,\n",
      "         0.9137, 1.0000, 0.3255, 0.0000, 0.0000, 0.0000, 0.0000, 0.0000, 0.0000,\n",
      "         0.0000],\n",
      "        [0.0000, 0.0000, 0.0000, 0.0000, 0.0000, 0.0000, 0.0000, 0.0000, 0.0000,\n",
      "         0.0000, 0.0000, 0.0000, 0.0000, 0.0000, 0.0000, 0.0000, 0.0000, 0.5059,\n",
      "         0.9961, 0.9333, 0.1725, 0.0000, 0.0000, 0.0000, 0.0000, 0.0000, 0.0000,\n",
      "         0.0000],\n",
      "        [0.0000, 0.0000, 0.0000, 0.0000, 0.0000, 0.0000, 0.0000, 0.0000, 0.0000,\n",
      "         0.0000, 0.0000, 0.0000, 0.0000, 0.0000, 0.0000, 0.0000, 0.2314, 0.9765,\n",
      "         0.9961, 0.2431, 0.0000, 0.0000, 0.0000, 0.0000, 0.0000, 0.0000, 0.0000,\n",
      "         0.0000],\n",
      "        [0.0000, 0.0000, 0.0000, 0.0000, 0.0000, 0.0000, 0.0000, 0.0000, 0.0000,\n",
      "         0.0000, 0.0000, 0.0000, 0.0000, 0.0000, 0.0000, 0.0000, 0.5216, 0.9961,\n",
      "         0.7333, 0.0196, 0.0000, 0.0000, 0.0000, 0.0000, 0.0000, 0.0000, 0.0000,\n",
      "         0.0000],\n",
      "        [0.0000, 0.0000, 0.0000, 0.0000, 0.0000, 0.0000, 0.0000, 0.0000, 0.0000,\n",
      "         0.0000, 0.0000, 0.0000, 0.0000, 0.0000, 0.0000, 0.0353, 0.8039, 0.9725,\n",
      "         0.2275, 0.0000, 0.0000, 0.0000, 0.0000, 0.0000, 0.0000, 0.0000, 0.0000,\n",
      "         0.0000],\n",
      "        [0.0000, 0.0000, 0.0000, 0.0000, 0.0000, 0.0000, 0.0000, 0.0000, 0.0000,\n",
      "         0.0000, 0.0000, 0.0000, 0.0000, 0.0000, 0.0000, 0.4941, 0.9961, 0.7137,\n",
      "         0.0000, 0.0000, 0.0000, 0.0000, 0.0000, 0.0000, 0.0000, 0.0000, 0.0000,\n",
      "         0.0000],\n",
      "        [0.0000, 0.0000, 0.0000, 0.0000, 0.0000, 0.0000, 0.0000, 0.0000, 0.0000,\n",
      "         0.0000, 0.0000, 0.0000, 0.0000, 0.0000, 0.2941, 0.9843, 0.9412, 0.2235,\n",
      "         0.0000, 0.0000, 0.0000, 0.0000, 0.0000, 0.0000, 0.0000, 0.0000, 0.0000,\n",
      "         0.0000],\n",
      "        [0.0000, 0.0000, 0.0000, 0.0000, 0.0000, 0.0000, 0.0000, 0.0000, 0.0000,\n",
      "         0.0000, 0.0000, 0.0000, 0.0000, 0.0745, 0.8667, 0.9961, 0.6510, 0.0000,\n",
      "         0.0000, 0.0000, 0.0000, 0.0000, 0.0000, 0.0000, 0.0000, 0.0000, 0.0000,\n",
      "         0.0000],\n",
      "        [0.0000, 0.0000, 0.0000, 0.0000, 0.0000, 0.0000, 0.0000, 0.0000, 0.0000,\n",
      "         0.0000, 0.0000, 0.0000, 0.0118, 0.7961, 0.9961, 0.8588, 0.1373, 0.0000,\n",
      "         0.0000, 0.0000, 0.0000, 0.0000, 0.0000, 0.0000, 0.0000, 0.0000, 0.0000,\n",
      "         0.0000],\n",
      "        [0.0000, 0.0000, 0.0000, 0.0000, 0.0000, 0.0000, 0.0000, 0.0000, 0.0000,\n",
      "         0.0000, 0.0000, 0.0000, 0.1490, 0.9961, 0.9961, 0.3020, 0.0000, 0.0000,\n",
      "         0.0000, 0.0000, 0.0000, 0.0000, 0.0000, 0.0000, 0.0000, 0.0000, 0.0000,\n",
      "         0.0000],\n",
      "        [0.0000, 0.0000, 0.0000, 0.0000, 0.0000, 0.0000, 0.0000, 0.0000, 0.0000,\n",
      "         0.0000, 0.0000, 0.1216, 0.8784, 0.9961, 0.4510, 0.0039, 0.0000, 0.0000,\n",
      "         0.0000, 0.0000, 0.0000, 0.0000, 0.0000, 0.0000, 0.0000, 0.0000, 0.0000,\n",
      "         0.0000],\n",
      "        [0.0000, 0.0000, 0.0000, 0.0000, 0.0000, 0.0000, 0.0000, 0.0000, 0.0000,\n",
      "         0.0000, 0.0000, 0.5216, 0.9961, 0.9961, 0.2039, 0.0000, 0.0000, 0.0000,\n",
      "         0.0000, 0.0000, 0.0000, 0.0000, 0.0000, 0.0000, 0.0000, 0.0000, 0.0000,\n",
      "         0.0000],\n",
      "        [0.0000, 0.0000, 0.0000, 0.0000, 0.0000, 0.0000, 0.0000, 0.0000, 0.0000,\n",
      "         0.0000, 0.2392, 0.9490, 0.9961, 0.9961, 0.2039, 0.0000, 0.0000, 0.0000,\n",
      "         0.0000, 0.0000, 0.0000, 0.0000, 0.0000, 0.0000, 0.0000, 0.0000, 0.0000,\n",
      "         0.0000],\n",
      "        [0.0000, 0.0000, 0.0000, 0.0000, 0.0000, 0.0000, 0.0000, 0.0000, 0.0000,\n",
      "         0.0000, 0.4745, 0.9961, 0.9961, 0.8588, 0.1569, 0.0000, 0.0000, 0.0000,\n",
      "         0.0000, 0.0000, 0.0000, 0.0000, 0.0000, 0.0000, 0.0000, 0.0000, 0.0000,\n",
      "         0.0000],\n",
      "        [0.0000, 0.0000, 0.0000, 0.0000, 0.0000, 0.0000, 0.0000, 0.0000, 0.0000,\n",
      "         0.0000, 0.4745, 0.9961, 0.8118, 0.0706, 0.0000, 0.0000, 0.0000, 0.0000,\n",
      "         0.0000, 0.0000, 0.0000, 0.0000, 0.0000, 0.0000, 0.0000, 0.0000, 0.0000,\n",
      "         0.0000],\n",
      "        [0.0000, 0.0000, 0.0000, 0.0000, 0.0000, 0.0000, 0.0000, 0.0000, 0.0000,\n",
      "         0.0000, 0.0000, 0.0000, 0.0000, 0.0000, 0.0000, 0.0000, 0.0000, 0.0000,\n",
      "         0.0000, 0.0000, 0.0000, 0.0000, 0.0000, 0.0000, 0.0000, 0.0000, 0.0000,\n",
      "         0.0000]])\n",
      "Print target value of 1st image: tensor(7)\n"
     ]
    }
   ],
   "source": [
    "print(\"Print pixel content of 1st image:\", example_data[0][0])\n",
    "\n",
    "print(\"Print target value of 1st image:\", example_targets[0])"
   ]
  },
  {
   "cell_type": "code",
   "execution_count": 7,
   "metadata": {},
   "outputs": [
    {
     "data": {
      "image/png": "[encoded data removed]",
      "text/plain": [
       "<Figure size 432x288 with 6 Axes>"
      ]
     },
     "metadata": {},
     "output_type": "display_data"
    }
   ],
   "source": [
    "# Plot some examples with matplotlib\n",
    "fig = plt.figure()\n",
    "for i in range(6):\n",
    "  plt.subplot(2,3,i+1)\n",
    "  plt.tight_layout()\n",
    "  plt.imshow(example_data[i][0], cmap='gray', interpolation='none')\n",
    "  plt.title(\"Ground Truth: {}\".format(example_targets[i]))\n",
    "  plt.xticks([])\n",
    "  plt.yticks([])\n",
    "    \n",
    "plt.show()"
   ]
  },
  {
   "cell_type": "markdown",
   "metadata": {},
   "source": [
    "## Feedforward Neural Network Model using nn.Sequential\n",
    "\n",
    "Use the nn package to define our model as a sequence of layers. nn.Sequential is a Module which contains other Modules, and applies them in sequence to produce its output. Each Linear Module computes output from input using a linear function, and holds internal Tensors for its weight and bias."
   ]
  },
  {
   "cell_type": "raw",
   "metadata": {},
   "source": [
    "# 2-layer NN\n",
    "net = torch.nn.Sequential(\n",
    "    torch.nn.Linear(input_size, hidden_size),     # 1st Full-Connected Layer: 784 (input data) -> 500 (hidden node)\n",
    "    torch.nn.ReLU(),                              # Non-Linear ReLU Layer: max(0,x)\n",
    "    torch.nn.Linear(hidden_size, num_classes),    # Last Full-Connected Layer: 500 (hidden node) -> 10 (output class)\n",
    ")"
   ]
  },
  {
   "cell_type": "markdown",
   "metadata": {},
   "source": [
    "### Exercice: test with dropout"
   ]
  },
  {
   "cell_type": "raw",
   "metadata": {},
   "source": [
    "# 2-layer NN\n",
    "\n",
    "p_dropout = 0.2\n",
    "\n",
    "net = torch.nn.Sequential(\n",
    "    torch.nn.Linear(input_size, hidden_size),     # 1st Full-Connected Layer: 784 (input data) -> 500 (hidden node)\n",
    "    torch.nn.ReLU(),                              # Non-Linear ReLU Layer: max(0,x)\n",
    "    torch.nn.Dropout(p_dropout),\n",
    "    torch.nn.Linear(hidden_size, num_classes),    # Last Full-Connected Layer: 500 (hidden node) -> 10 (output class)\n",
    ")"
   ]
  },
  {
   "cell_type": "markdown",
   "metadata": {},
   "source": [
    "### Exercice: implementation with two more layers"
   ]
  },
  {
   "cell_type": "code",
   "execution_count": 8,
   "metadata": {},
   "outputs": [],
   "source": [
    "# Added two extra layers w.r.t default example\n",
    "net = torch.nn.Sequential(\n",
    "    torch.nn.Linear(input_size, hidden_size),     # 1st Full-Connected Layer: 784 (input data) -> 500 (hidden node)\n",
    "    torch.nn.ReLU(),                              # Non-Linear ReLU Layer: max(0,x)\n",
    "    torch.nn.Linear(hidden_size, 250),            # Added extra Full-Connected Layer (test): 500 -> 250\n",
    "    torch.nn.ReLU(),                              # Also with ReLU\n",
    "    torch.nn.Linear(250,100),                     # Added extra Full-Connected Layer (test): 250 -> 100\n",
    "    torch.nn.ReLU(),                              # Also with ReLU\n",
    "    torch.nn.Linear(100, num_classes),            # Last Full-Connected Layer: 500 (hidden node) -> 10 (output class)\n",
    "    torch.nn.Sigmoid(),                           # Add Sigmoid activation function on output layer\n",
    ")"
   ]
  },
  {
   "cell_type": "markdown",
   "metadata": {},
   "source": [
    "## Enable GPU "
   ]
  },
  {
   "cell_type": "code",
   "execution_count": 9,
   "metadata": {},
   "outputs": [],
   "source": [
    "# net.cuda()    # You can comment out this line to disable GPU"
   ]
  },
  {
   "cell_type": "markdown",
   "metadata": {},
   "source": [
    "## Loss Function and Optimizer"
   ]
  },
  {
   "cell_type": "code",
   "execution_count": 10,
   "metadata": {},
   "outputs": [],
   "source": [
    "criterion = nn.CrossEntropyLoss()\n",
    "optimizer = torch.optim.Adam(net.parameters(), lr=learning_rate)\n",
    "\n",
    "# alternative Stochastic Gradient Descent (give worse results and needs 20xlr and 20 epochs)\n",
    "#optimizer = torch.optim.SGD(net.parameters(), lr=learning_rate)"
   ]
  },
  {
   "cell_type": "code",
   "execution_count": 11,
   "metadata": {},
   "outputs": [],
   "source": [
    "train_losses = []\n",
    "train_counter = []\n",
    "test_losses = []\n",
    "test_counter = [i*len(train_loader.dataset) for i in range(num_epochs + 1)]"
   ]
  },
  {
   "cell_type": "code",
   "execution_count": 12,
   "metadata": {},
   "outputs": [
    {
     "name": "stdout",
     "output_type": "stream",
     "text": [
      "[0, 60000, 120000, 180000, 240000, 300000]\n"
     ]
    }
   ],
   "source": [
    "print(test_counter)"
   ]
  },
  {
   "cell_type": "markdown",
   "metadata": {},
   "source": [
    "## Train the FNN Model\n",
    "\n",
    "Note: torch.nn only supports mini-batches. The entire torch.nn package only supports inputs that are a mini-batch of samples, and not a single sample. If you have a single sample, just use input.unsqueeze(0) to add a fake batch dimension."
   ]
  },
  {
   "cell_type": "code",
   "execution_count": 13,
   "metadata": {},
   "outputs": [
    {
     "name": "stdout",
     "output_type": "stream",
     "text": [
      "Epoch [1/5], Step [100/600], Loss: 1.6037\n",
      "Epoch [1/5], Step [200/600], Loss: 1.5362\n",
      "Epoch [1/5], Step [300/600], Loss: 1.5604\n",
      "Epoch [1/5], Step [400/600], Loss: 1.5178\n",
      "Epoch [1/5], Step [500/600], Loss: 1.5014\n",
      "Epoch [1/5], Step [600/600], Loss: 1.5070\n",
      "Epoch [2/5], Step [100/600], Loss: 1.4693\n",
      "Epoch [2/5], Step [200/600], Loss: 1.4811\n",
      "Epoch [2/5], Step [300/600], Loss: 1.5016\n",
      "Epoch [2/5], Step [400/600], Loss: 1.5016\n",
      "Epoch [2/5], Step [500/600], Loss: 1.4887\n",
      "Epoch [2/5], Step [600/600], Loss: 1.4982\n",
      "Epoch [3/5], Step [100/600], Loss: 1.4865\n",
      "Epoch [3/5], Step [200/600], Loss: 1.4674\n",
      "Epoch [3/5], Step [300/600], Loss: 1.4898\n",
      "Epoch [3/5], Step [400/600], Loss: 1.4996\n",
      "Epoch [3/5], Step [500/600], Loss: 1.4881\n",
      "Epoch [3/5], Step [600/600], Loss: 1.4882\n",
      "Epoch [4/5], Step [100/600], Loss: 1.4714\n",
      "Epoch [4/5], Step [200/600], Loss: 1.5099\n",
      "Epoch [4/5], Step [300/600], Loss: 1.4729\n",
      "Epoch [4/5], Step [400/600], Loss: 1.4822\n",
      "Epoch [4/5], Step [500/600], Loss: 1.4877\n",
      "Epoch [4/5], Step [600/600], Loss: 1.4671\n",
      "Epoch [5/5], Step [100/600], Loss: 1.4871\n",
      "Epoch [5/5], Step [200/600], Loss: 1.4687\n",
      "Epoch [5/5], Step [300/600], Loss: 1.5003\n",
      "Epoch [5/5], Step [400/600], Loss: 1.4783\n",
      "Epoch [5/5], Step [500/600], Loss: 1.4737\n",
      "Epoch [5/5], Step [600/600], Loss: 1.4855\n"
     ]
    }
   ],
   "source": [
    "for epoch in range(num_epochs):\n",
    "    for i, (images, labels) in enumerate(train_loader):   # Load a batch of images with its (index, data, class)\n",
    "        images = Variable(images.view(-1, 28*28))         # Convert torch tensor to Variable: change image from a matrix of 28 x 28 from to a vector of size 784 (view works as numpy's reshape function)\n",
    "        labels = Variable(labels)        \n",
    "        \n",
    "        optimizer.zero_grad()                             # Intialize the hidden weight to all zeros\n",
    "        outputs = net(images)                             # Forward pass: compute the output class given a image\n",
    "        loss = criterion(outputs, labels)                 # Compute the loss: difference between the output class and the pre-given label\n",
    "        loss.backward()                                   # Backward pass: compute the weight\n",
    "        optimizer.step()                                  # Optimizer: update the weights of hidden nodes\n",
    "        \n",
    "        if (i+1) % 100 == 0:                              # Logging\n",
    "            print('Epoch [%d/%d], Step [%d/%d], Loss: %.4f'\n",
    "                 %(epoch+1, num_epochs, i+1, len(train_dataset)//batch_size, loss.item()))\n",
    "            \n",
    "        if (i+1) % 10 == 0:                              # keep track of loss value\n",
    "            train_losses.append(loss.item())\n",
    "            train_counter.append(((i+1)*batch_size) + ((epoch)*len(train_loader.dataset)))"
   ]
  },
  {
   "cell_type": "markdown",
   "metadata": {},
   "source": [
    "## Evaluating the Model's Performance"
   ]
  },
  {
   "cell_type": "code",
   "execution_count": 14,
   "metadata": {},
   "outputs": [
    {
     "data": {
      "text/plain": [
       "Text(0, 0.5, 'Loss')"
      ]
     },
     "execution_count": 14,
     "metadata": {},
     "output_type": "execute_result"
    },
    {
     "data": {
      "image/png": "[encoded data removed]",
      "text/plain": [
       "<Figure size 432x288 with 1 Axes>"
      ]
     },
     "metadata": {
      "needs_background": "light"
     },
     "output_type": "display_data"
    }
   ],
   "source": [
    "fig = plt.figure()\n",
    "plt.plot(train_counter, train_losses, color='blue')\n",
    "#plt.plot(test_counter, test_losses, color='red')\n",
    "#plt.legend(['Train Loss', 'Test Loss'], loc='upper right')\n",
    "plt.legend(['Train Loss'], loc='upper right')\n",
    "plt.xlabel('number of training examples seen')\n",
    "plt.ylabel('Loss')\n"
   ]
  },
  {
   "cell_type": "markdown",
   "metadata": {},
   "source": [
    "## Test the FNN Model"
   ]
  },
  {
   "cell_type": "markdown",
   "metadata": {},
   "source": [
    "Similar to training the neural network, we also need to load batches of test images and collect the outputs. The differences are that:\n",
    "(1) No loss & weights calculation\n",
    "(2) No weights update\n",
    "(3) Has correct prediction calculation"
   ]
  },
  {
   "cell_type": "code",
   "execution_count": 15,
   "metadata": {},
   "outputs": [
    {
     "name": "stdout",
     "output_type": "stream",
     "text": [
      "Accuracy of the network on the 10K test images: 97 %\n"
     ]
    }
   ],
   "source": [
    "correct = 0\n",
    "total = 0\n",
    "for images, labels in test_loader:\n",
    "    images = Variable(images.view(-1, 28*28))\n",
    "    outputs = net(images)\n",
    "    _, predicted = torch.max(outputs.data, 1)  # Choose the best class from the output: The class with the best score\n",
    "    total += labels.size(0)                    # Increment the total count\n",
    "    correct += (predicted == labels).sum()     # Increment the correct count\n",
    "    \n",
    "print('Accuracy of the network on the 10K test images: %d %%' % (100 * correct / total))"
   ]
  },
  {
   "cell_type": "code",
   "execution_count": 19,
   "metadata": {},
   "outputs": [
    {
     "name": "stdout",
     "output_type": "stream",
     "text": [
      "tensor([[2.2098e-04, 6.7354e-06, 1.7316e-06, 2.8605e-07, 4.5592e-07, 5.5065e-04,\n",
      "         2.7666e-04, 9.0499e-09, 1.0000e+00, 1.3469e-09],\n",
      "        [3.6932e-08, 5.2896e-13, 2.4443e-11, 8.0638e-11, 1.5990e-06, 4.4117e-09,\n",
      "         9.1727e-18, 1.9598e-09, 7.8197e-09, 1.0000e+00],\n",
      "        [1.0000e+00, 4.3221e-24, 1.9334e-10, 1.5971e-13, 3.8311e-16, 2.5207e-11,\n",
      "         1.5496e-08, 3.6873e-11, 1.9234e-11, 5.1604e-10],\n",
      "        [8.7299e-18, 1.0000e+00, 3.8254e-08, 9.8084e-13, 5.4680e-04, 1.9788e-13,\n",
      "         2.6560e-11, 1.8558e-08, 4.2196e-09, 1.4119e-14],\n",
      "        [9.8180e-01, 4.7256e-10, 9.9923e-01, 1.7355e-01, 6.4312e-07, 2.6220e-04,\n",
      "         7.3889e-06, 2.4633e-07, 1.7869e-04, 1.3065e-06],\n",
      "        [1.1309e-07, 2.9944e-10, 2.8700e-03, 9.9981e-01, 1.1176e-16, 1.6197e-08,\n",
      "         6.3138e-23, 3.0660e-04, 2.2441e-03, 4.9666e-03],\n",
      "        [2.3255e-05, 2.1596e-08, 1.3131e-04, 5.7340e-12, 1.0000e+00, 1.0965e-06,\n",
      "         5.1370e-06, 4.0638e-07, 5.7455e-09, 3.1258e-07],\n",
      "        [3.7737e-06, 4.7956e-13, 7.9658e-12, 1.0813e-10, 1.9246e-12, 1.0000e+00,\n",
      "         9.2194e-06, 8.7579e-13, 8.8163e-06, 1.3465e-11],\n",
      "        [4.6922e-09, 6.9620e-13, 1.1141e-15, 4.2610e-19, 8.2436e-11, 1.2949e-07,\n",
      "         1.0000e+00, 3.2986e-26, 1.3249e-13, 3.3985e-25],\n",
      "        [2.7525e-14, 1.5441e-15, 4.4705e-11, 2.5538e-14, 2.8951e-25, 1.5752e-17,\n",
      "         1.0040e-31, 1.0000e+00, 8.8455e-13, 1.1660e-13],\n",
      "        [1.0699e-06, 9.5887e-10, 4.0074e-12, 8.6141e-12, 5.7536e-13, 4.9965e-03,\n",
      "         6.8746e-07, 3.0213e-13, 1.0000e+00, 2.1571e-13],\n",
      "        [1.0000e+00, 9.8566e-32, 1.2288e-12, 5.7340e-18, 6.8923e-21, 2.2866e-15,\n",
      "         3.1182e-12, 4.6189e-14, 1.1989e-17, 2.3222e-16],\n",
      "        [3.3018e-19, 1.0000e+00, 6.3771e-06, 2.2376e-14, 5.8583e-07, 1.2956e-13,\n",
      "         8.4478e-10, 1.0026e-10, 3.0512e-10, 4.6063e-20],\n",
      "        [5.5527e-13, 1.1886e-08, 1.0000e+00, 6.9164e-07, 4.8636e-14, 8.6375e-14,\n",
      "         2.8915e-18, 2.4528e-09, 7.1320e-10, 5.3223e-17],\n",
      "        [6.8611e-10, 7.9166e-12, 2.2882e-11, 1.0000e+00, 5.0524e-16, 1.3354e-05,\n",
      "         1.0997e-24, 1.6440e-13, 3.0451e-05, 6.4625e-07],\n",
      "        [6.5617e-12, 4.0223e-09, 1.3323e-09, 1.1213e-16, 1.0000e+00, 3.6000e-10,\n",
      "         3.3852e-08, 1.5255e-10, 2.9391e-13, 2.9119e-15],\n",
      "        [3.6401e-09, 1.9402e-14, 1.2997e-08, 8.8504e-11, 5.1052e-19, 5.1839e-15,\n",
      "         1.0765e-24, 1.0000e+00, 4.3455e-09, 6.5864e-05],\n",
      "        [1.0303e-05, 2.2709e-09, 1.2691e-08, 1.2854e-12, 1.6780e-08, 2.8542e-10,\n",
      "         2.7806e-07, 1.0334e-10, 1.0000e+00, 2.3601e-13],\n",
      "        [8.5031e-08, 7.2116e-11, 9.8373e-08, 5.1164e-09, 2.6345e-07, 4.1585e-08,\n",
      "         8.3868e-17, 2.3454e-07, 3.4174e-09, 1.0000e+00],\n",
      "        [6.4212e-12, 1.3556e-17, 1.2199e-14, 3.8849e-17, 2.0833e-21, 3.2220e-15,\n",
      "         5.0078e-29, 1.0000e+00, 5.0067e-16, 2.2182e-08],\n",
      "        [1.2890e-03, 2.2419e-08, 7.6333e-06, 1.2278e-08, 1.9883e-10, 4.6526e-08,\n",
      "         5.4919e-07, 7.1368e-08, 1.0000e+00, 1.7750e-11],\n",
      "        [4.4487e-08, 4.9345e-10, 2.7085e-11, 3.8467e-14, 4.3616e-09, 1.8192e-03,\n",
      "         1.0000e+00, 2.0747e-21, 1.4011e-09, 4.4521e-18],\n",
      "        [1.2532e-06, 1.1879e-08, 7.3088e-12, 1.0975e-11, 6.6866e-01, 3.7886e-02,\n",
      "         3.0141e-10, 3.9260e-06, 1.4926e-06, 9.8096e-01],\n",
      "        [2.7780e-22, 1.0000e+00, 1.6584e-08, 4.4357e-17, 1.1526e-06, 7.7069e-14,\n",
      "         4.5817e-10, 5.7081e-13, 1.0804e-13, 1.4185e-20],\n",
      "        [2.5988e-06, 2.7025e-16, 3.0522e-10, 6.2079e-13, 4.0346e-09, 1.9329e-10,\n",
      "         1.0173e-19, 8.8112e-08, 9.9276e-10, 1.0000e+00],\n",
      "        [2.9689e-07, 6.6192e-10, 6.4254e-04, 9.9992e-01, 5.5489e-14, 4.2686e-03,\n",
      "         2.0139e-17, 3.1089e-10, 2.3826e-01, 2.4631e-11],\n",
      "        [5.3076e-06, 1.4694e-04, 3.5669e-06, 1.8825e-07, 2.6536e-06, 1.6042e-04,\n",
      "         2.0983e-04, 1.3920e-08, 1.0000e+00, 2.9673e-10],\n",
      "        [7.7500e-08, 8.8148e-10, 4.5744e-06, 7.3866e-16, 1.0000e+00, 3.9019e-10,\n",
      "         3.0056e-06, 2.6014e-08, 8.4784e-11, 4.1082e-08],\n",
      "        [1.0109e-09, 2.8542e-12, 4.2850e-09, 2.5039e-19, 1.0000e+00, 1.5890e-11,\n",
      "         1.4469e-11, 1.4690e-09, 8.3417e-15, 2.4028e-07],\n",
      "        [3.2711e-10, 1.4120e-14, 3.9073e-09, 5.9667e-11, 1.3236e-21, 3.4835e-15,\n",
      "         2.9942e-26, 1.0000e+00, 2.5532e-09, 2.1946e-07],\n",
      "        [1.0000e+00, 9.4047e-26, 5.6875e-10, 1.2664e-13, 4.7505e-18, 3.1908e-12,\n",
      "         8.7306e-10, 4.6301e-13, 2.5519e-14, 2.3992e-15],\n",
      "        [3.3637e-19, 1.0000e+00, 1.3692e-08, 1.5071e-13, 6.9986e-06, 7.7542e-12,\n",
      "         9.1115e-10, 2.3349e-09, 3.2901e-12, 7.8644e-16],\n",
      "        [2.5774e-06, 1.9269e-13, 1.4311e-06, 3.3323e-08, 1.2047e-09, 9.1195e-09,\n",
      "         5.1603e-18, 3.2009e-07, 1.7273e-09, 1.0000e+00],\n",
      "        [5.6547e-15, 3.8811e-10, 1.0000e+00, 1.1323e-12, 1.0972e-10, 9.4823e-20,\n",
      "         2.1750e-17, 2.2335e-12, 1.0395e-14, 1.6497e-21],\n",
      "        [9.3033e-05, 3.3567e-08, 3.7222e-08, 1.2710e-08, 1.0975e-09, 2.2230e-09,\n",
      "         2.0950e-08, 1.1293e-08, 1.0000e+00, 7.3741e-11],\n",
      "        [1.8663e-12, 6.5190e-14, 5.0002e-10, 9.2966e-13, 4.8703e-22, 1.9033e-15,\n",
      "         2.8858e-28, 1.0000e+00, 1.6717e-13, 5.5897e-12],\n",
      "        [2.0393e-04, 5.7791e-12, 1.1323e-08, 9.1177e-09, 4.5603e-14, 2.7120e-04,\n",
      "         2.6216e-08, 1.5873e-12, 1.0000e+00, 1.9219e-13],\n",
      "        [2.0572e-09, 1.2669e-10, 1.0000e+00, 1.1521e-07, 1.0299e-09, 1.4845e-17,\n",
      "         1.0291e-14, 3.4272e-10, 2.1450e-13, 1.3913e-18],\n",
      "        [5.8625e-08, 2.7199e-13, 3.8223e-15, 7.6545e-18, 7.2474e-11, 9.9811e-07,\n",
      "         1.0000e+00, 8.5432e-26, 1.7092e-14, 3.5200e-25],\n",
      "        [1.0000e+00, 5.1451e-38, 6.1520e-15, 2.3532e-20, 6.8897e-26, 9.1114e-16,\n",
      "         5.2410e-14, 2.2667e-17, 2.1501e-20, 1.8089e-20],\n",
      "        [1.4435e-02, 3.0284e-10, 1.0978e-09, 4.2468e-15, 9.5777e-04, 1.7549e-08,\n",
      "         9.9961e-01, 1.7943e-11, 2.0366e-12, 1.6383e-13],\n",
      "        [6.7496e-08, 8.4368e-07, 2.3627e-10, 3.6096e-07, 1.4527e-09, 9.9998e-01,\n",
      "         2.3127e-02, 9.0657e-14, 3.6274e-03, 1.8355e-10],\n",
      "        [7.0319e-16, 6.3897e-14, 1.3971e-17, 1.0000e+00, 2.6765e-20, 1.0275e-07,\n",
      "         1.4194e-31, 9.4185e-22, 8.2534e-08, 2.3016e-13],\n",
      "        [4.8827e-10, 6.0741e-08, 2.3154e-09, 9.9995e-01, 1.3520e-12, 3.5594e-02,\n",
      "         5.4471e-18, 8.6026e-13, 3.8404e-05, 3.1057e-09],\n",
      "        [1.8789e-08, 2.9254e-10, 1.8708e-05, 6.2774e-01, 8.2360e-13, 2.3210e-02,\n",
      "         2.1985e-16, 1.6434e-12, 9.9997e-01, 9.0992e-07],\n",
      "        [9.6771e-09, 6.3566e-13, 2.9217e-12, 5.4385e-11, 6.9325e-09, 3.1782e-06,\n",
      "         2.6583e-19, 1.5487e-08, 4.1974e-09, 1.0000e+00],\n",
      "        [1.0756e-18, 1.0000e+00, 4.6231e-08, 4.3141e-13, 2.6699e-06, 1.4631e-11,\n",
      "         8.1269e-10, 1.7409e-09, 1.7913e-11, 1.4402e-15],\n",
      "        [1.2747e-07, 2.2677e-10, 3.1197e-07, 2.6008e-16, 1.0000e+00, 9.9808e-11,\n",
      "         2.6463e-06, 4.2639e-07, 4.3214e-15, 5.7030e-11],\n",
      "        [1.0000e+00, 1.4946e-25, 1.8439e-10, 3.2768e-14, 6.2344e-21, 5.1412e-09,\n",
      "         3.3650e-11, 3.0396e-11, 3.5702e-13, 2.0365e-18],\n",
      "        [1.2766e-08, 1.1384e-11, 5.9952e-14, 3.7963e-19, 2.1406e-10, 5.4500e-10,\n",
      "         1.0000e+00, 6.3103e-24, 8.2231e-13, 6.7333e-25],\n",
      "        [3.6330e-18, 1.0000e+00, 7.9809e-08, 1.2260e-13, 8.0404e-06, 5.3182e-11,\n",
      "         2.3477e-08, 1.1742e-10, 7.4366e-11, 1.1181e-16],\n",
      "        [1.0000e+00, 8.1333e-27, 1.2606e-10, 4.9382e-14, 4.0947e-20, 5.5020e-11,\n",
      "         3.2913e-12, 1.0262e-09, 1.0370e-11, 9.0874e-14],\n",
      "        [1.0000e+00, 0.0000e+00, 1.9038e-15, 2.7699e-22, 9.3859e-27, 5.0493e-18,\n",
      "         4.2187e-15, 5.7078e-18, 2.2614e-22, 6.9620e-23],\n",
      "        [2.4781e-03, 1.4679e-10, 4.3964e-11, 3.3964e-15, 1.8303e-07, 3.8871e-06,\n",
      "         9.9999e-01, 1.7413e-15, 8.1394e-10, 2.5267e-14],\n",
      "        [1.8194e-01, 5.0933e-11, 9.9886e-01, 3.1018e-02, 2.5854e-10, 6.2990e-10,\n",
      "         4.2761e-12, 4.4331e-05, 3.1910e-02, 1.5338e-03],\n",
      "        [8.7572e-16, 1.0000e+00, 3.0625e-03, 1.6427e-15, 8.0870e-07, 1.2920e-13,\n",
      "         1.0206e-07, 1.3664e-09, 2.3278e-10, 2.9828e-19],\n",
      "        [5.7735e-19, 1.0000e+00, 3.4985e-05, 9.8630e-15, 2.9432e-07, 5.3172e-13,\n",
      "         1.2827e-09, 5.9440e-10, 3.0262e-12, 2.1061e-18],\n",
      "        [7.0846e-11, 4.7941e-13, 5.6431e-09, 6.5597e-11, 2.0383e-20, 4.3266e-15,\n",
      "         3.9027e-26, 1.0000e+00, 3.6228e-11, 6.2562e-09],\n",
      "        [9.4335e-13, 1.7192e-08, 6.2581e-09, 8.8368e-10, 1.5775e-17, 3.0360e-19,\n",
      "         3.7102e-26, 1.0000e+00, 2.6171e-12, 5.6430e-11],\n",
      "        [2.4829e-03, 1.0055e-05, 7.5806e-05, 5.1426e-06, 2.3686e-07, 1.4668e-07,\n",
      "         2.8172e-06, 1.1079e-04, 1.0000e+00, 1.5277e-07],\n",
      "        [4.1333e-14, 1.8349e-10, 1.2433e-13, 1.7313e-20, 1.0000e+00, 2.0017e-14,\n",
      "         1.8984e-12, 7.9876e-08, 1.5971e-17, 3.3894e-11],\n",
      "        [2.3383e-09, 1.0359e-10, 1.7179e-12, 2.6919e-18, 2.7659e-10, 6.1264e-10,\n",
      "         1.0000e+00, 1.4699e-23, 4.7710e-11, 3.4835e-25],\n",
      "        [1.0000e+00, 1.5829e-23, 1.6391e-08, 1.1523e-11, 1.0511e-16, 1.3390e-09,\n",
      "         6.3386e-10, 7.2498e-11, 7.9503e-12, 6.8107e-12],\n",
      "        [3.7143e-11, 4.2669e-15, 5.0809e-10, 6.2343e-12, 3.1282e-22, 3.0804e-14,\n",
      "         3.9197e-28, 1.0000e+00, 2.9080e-13, 2.3651e-12],\n",
      "        [1.0000e+00, 1.5092e-22, 5.8542e-10, 5.3734e-12, 5.2663e-15, 5.9004e-11,\n",
      "         6.8762e-08, 6.1269e-11, 1.7798e-11, 4.7903e-12],\n",
      "        [5.1701e-14, 1.5402e-10, 3.5671e-13, 1.0000e+00, 8.9532e-17, 2.9924e-10,\n",
      "         5.2927e-28, 1.3637e-15, 4.1853e-08, 1.2727e-10],\n",
      "        [2.8631e-10, 4.4879e-11, 3.8510e-14, 1.6805e-19, 6.8016e-10, 1.0622e-08,\n",
      "         1.0000e+00, 9.1116e-25, 3.7493e-14, 2.4013e-25],\n",
      "        [3.5262e-04, 1.0303e-11, 5.1481e-10, 2.6796e-07, 4.4302e-13, 1.1146e-04,\n",
      "         5.5966e-09, 2.7764e-13, 1.0000e+00, 5.4412e-12],\n",
      "        [1.5752e-14, 5.8183e-13, 1.0757e-09, 5.5506e-14, 7.1025e-23, 7.5361e-18,\n",
      "         2.4897e-29, 1.0000e+00, 2.1174e-13, 2.7717e-16],\n",
      "        [6.9478e-19, 1.0000e+00, 2.3674e-08, 9.4225e-14, 1.4165e-05, 4.9228e-11,\n",
      "         1.0287e-08, 5.1094e-11, 2.8182e-11, 1.1198e-16],\n",
      "        [2.8912e-16, 4.8914e-12, 4.8283e-19, 1.1976e-06, 1.0022e-15, 1.0000e+00,\n",
      "         1.2335e-12, 6.3540e-23, 8.5239e-10, 2.7932e-14],\n",
      "        [1.6042e-06, 1.5968e-12, 1.0000e+00, 7.5920e-07, 5.1055e-11, 1.6852e-12,\n",
      "         4.0366e-15, 1.3697e-09, 3.4032e-10, 1.3278e-11],\n",
      "        [5.6962e-14, 2.1709e-10, 1.7916e-12, 3.8227e-20, 1.0000e+00, 5.2186e-13,\n",
      "         1.9291e-11, 2.5998e-10, 1.4449e-15, 6.4700e-13],\n",
      "        [2.1215e-09, 1.7321e-16, 1.3547e-11, 7.6810e-14, 8.1295e-10, 6.5801e-12,\n",
      "         1.3104e-22, 2.1966e-10, 1.1566e-10, 1.0000e+00],\n",
      "        [1.4878e-11, 8.7835e-12, 1.0104e-10, 5.4543e-20, 1.0000e+00, 1.3276e-12,\n",
      "         7.9659e-12, 1.3342e-09, 7.5085e-16, 4.9368e-11],\n",
      "        [1.0953e-06, 1.7554e-07, 1.4717e-02, 9.9998e-01, 6.6244e-11, 7.7478e-07,\n",
      "         1.0201e-15, 4.2059e-07, 1.0834e-02, 1.7243e-08],\n",
      "        [3.3057e-05, 8.3546e-11, 1.1694e-10, 2.1964e-16, 2.2687e-06, 1.0589e-09,\n",
      "         1.0000e+00, 4.3875e-17, 8.2358e-09, 2.5156e-18],\n",
      "        [7.5782e-09, 8.2607e-10, 5.0303e-10, 2.5075e-16, 1.0000e+00, 8.2888e-10,\n",
      "         1.1158e-09, 8.1155e-07, 6.6485e-13, 1.5938e-07],\n",
      "        [7.0599e-22, 1.0000e+00, 1.2457e-09, 6.2508e-15, 1.2473e-06, 3.4904e-14,\n",
      "         2.5368e-12, 2.4081e-10, 4.5468e-13, 3.1464e-18],\n",
      "        [1.8454e-12, 5.5604e-15, 4.1878e-13, 4.4523e-17, 1.0144e-19, 4.7998e-17,\n",
      "         2.7280e-27, 1.0000e+00, 3.8989e-15, 2.8702e-11],\n",
      "        [6.5449e-04, 3.5406e-08, 9.7890e-01, 8.6513e-01, 9.4084e-10, 2.3536e-08,\n",
      "         1.1376e-13, 1.0497e-01, 5.5701e-06, 6.6838e-08],\n",
      "        [9.4635e-05, 3.9270e-12, 8.8389e-11, 2.0244e-12, 2.3564e-08, 1.1045e-04,\n",
      "         1.0000e+00, 3.0370e-20, 9.6419e-13, 3.1178e-20],\n",
      "        [1.7080e-07, 6.2793e-09, 2.0810e-10, 5.7813e-07, 2.5766e-10, 9.9030e-01,\n",
      "         9.9949e-01, 6.7510e-19, 2.4361e-08, 1.5116e-16],\n",
      "        [1.0000e+00, 0.0000e+00, 5.2152e-17, 8.8967e-26, 4.9183e-33, 3.5559e-21,\n",
      "         1.5355e-18, 1.7674e-19, 6.2874e-26, 3.9162e-29],\n",
      "        [4.0683e-19, 1.0000e+00, 3.1862e-10, 4.8308e-12, 3.7223e-07, 8.5689e-11,\n",
      "         6.2142e-10, 1.6493e-09, 4.5752e-10, 3.0675e-13],\n",
      "        [5.5137e-11, 3.5945e-10, 1.0000e+00, 2.2778e-11, 2.7583e-18, 1.0042e-17,\n",
      "         1.9034e-16, 3.3976e-10, 1.6505e-11, 4.0293e-23],\n",
      "        [1.5302e-11, 1.7352e-08, 1.0085e-08, 1.0000e+00, 9.5793e-16, 1.6605e-07,\n",
      "         8.9784e-25, 5.1553e-12, 1.8612e-07, 1.3263e-08],\n",
      "        [1.9296e-16, 2.8220e-13, 2.5500e-15, 4.2659e-24, 1.0000e+00, 8.7797e-16,\n",
      "         8.2417e-15, 3.5604e-12, 1.3523e-18, 8.9360e-15],\n",
      "        [1.1698e-13, 1.0775e-22, 6.6001e-23, 1.0952e-15, 1.4521e-21, 1.0000e+00,\n",
      "         2.1365e-14, 7.5947e-25, 2.5123e-10, 6.9414e-19],\n",
      "        [4.9564e-10, 4.3677e-15, 1.9841e-17, 8.3884e-23, 3.2643e-13, 2.2959e-11,\n",
      "         1.0000e+00, 2.2321e-30, 7.6594e-15, 5.2128e-31],\n",
      "        [3.7347e-15, 1.1913e-12, 1.0487e-10, 2.9202e-15, 3.3013e-22, 2.9510e-23,\n",
      "         2.0829e-30, 1.0000e+00, 5.3979e-15, 1.2185e-15],\n",
      "        [1.3543e-03, 1.1192e-08, 1.2084e-06, 1.0937e-08, 1.0051e-10, 9.6087e-08,\n",
      "         5.8821e-07, 8.2160e-09, 1.0000e+00, 4.6177e-12],\n",
      "        [3.7414e-10, 2.2970e-15, 9.4531e-11, 1.7950e-16, 1.3275e-05, 2.1950e-13,\n",
      "         2.8557e-21, 5.3244e-10, 3.0615e-15, 1.0000e+00],\n",
      "        [1.0000e+00, 3.4103e-28, 2.8848e-10, 3.2617e-14, 3.0295e-22, 6.9430e-12,\n",
      "         7.8226e-11, 9.2435e-16, 2.9127e-10, 7.2625e-14],\n",
      "        [1.9263e-22, 1.0000e+00, 4.8737e-09, 5.7203e-17, 1.1896e-07, 9.7826e-13,\n",
      "         5.1112e-08, 2.8254e-14, 2.2340e-13, 2.4672e-21],\n",
      "        [3.4515e-14, 5.0672e-11, 1.0000e+00, 1.7967e-12, 2.2792e-20, 4.1794e-21,\n",
      "         6.0668e-21, 7.1700e-13, 3.0549e-17, 3.5708e-28],\n",
      "        [7.9571e-16, 8.4758e-09, 1.0766e-12, 1.0000e+00, 1.0236e-17, 1.1519e-07,\n",
      "         1.1534e-27, 2.7130e-15, 1.2647e-11, 1.9755e-10],\n",
      "        [1.3336e-12, 1.4154e-11, 2.7938e-14, 7.9152e-21, 1.0000e+00, 1.2183e-13,\n",
      "         2.4721e-12, 1.2214e-08, 1.6872e-14, 1.6334e-09],\n",
      "        [1.1022e-12, 2.1696e-18, 2.5913e-19, 1.3183e-14, 1.9979e-18, 1.0000e+00,\n",
      "         1.3611e-11, 6.1811e-19, 1.4202e-08, 2.0900e-15],\n",
      "        [7.4881e-12, 1.5749e-15, 2.1450e-18, 1.2933e-24, 1.6452e-13, 1.2003e-10,\n",
      "         1.0000e+00, 9.9775e-33, 2.4618e-16, 1.0408e-31]])\n"
     ]
    }
   ],
   "source": [
    "print(outputs.data)"
   ]
  },
  {
   "cell_type": "code",
   "execution_count": 16,
   "metadata": {},
   "outputs": [
    {
     "data": {
      "text/plain": [
       "torch.return_types.max(\n",
       "values=tensor([1.0000, 1.0000, 1.0000, 1.0000, 0.9992, 0.9998, 1.0000, 1.0000, 1.0000,\n",
       "        1.0000, 1.0000, 1.0000, 1.0000, 1.0000, 1.0000, 1.0000, 1.0000, 1.0000,\n",
       "        1.0000, 1.0000, 1.0000, 1.0000, 0.9810, 1.0000, 1.0000, 0.9999, 1.0000,\n",
       "        1.0000, 1.0000, 1.0000, 1.0000, 1.0000, 1.0000, 1.0000, 1.0000, 1.0000,\n",
       "        1.0000, 1.0000, 1.0000, 1.0000, 0.9996, 1.0000, 1.0000, 1.0000, 1.0000,\n",
       "        1.0000, 1.0000, 1.0000, 1.0000, 1.0000, 1.0000, 1.0000, 1.0000, 1.0000,\n",
       "        0.9989, 1.0000, 1.0000, 1.0000, 1.0000, 1.0000, 1.0000, 1.0000, 1.0000,\n",
       "        1.0000, 1.0000, 1.0000, 1.0000, 1.0000, 1.0000, 1.0000, 1.0000, 1.0000,\n",
       "        1.0000, 1.0000, 1.0000, 1.0000, 1.0000, 1.0000, 1.0000, 1.0000, 0.9789,\n",
       "        1.0000, 0.9995, 1.0000, 1.0000, 1.0000, 1.0000, 1.0000, 1.0000, 1.0000,\n",
       "        1.0000, 1.0000, 1.0000, 1.0000, 1.0000, 1.0000, 1.0000, 1.0000, 1.0000,\n",
       "        1.0000]),\n",
       "indices=tensor([8, 9, 0, 1, 2, 3, 4, 5, 6, 7, 8, 0, 1, 2, 3, 4, 7, 8, 9, 7, 8, 6, 9, 1,\n",
       "        9, 3, 8, 4, 4, 7, 0, 1, 9, 2, 8, 7, 8, 2, 6, 0, 6, 5, 3, 3, 8, 9, 1, 4,\n",
       "        0, 6, 1, 0, 0, 6, 2, 1, 1, 7, 7, 8, 4, 6, 0, 7, 0, 3, 6, 8, 7, 1, 5, 2,\n",
       "        4, 9, 4, 3, 6, 4, 1, 7, 2, 6, 6, 0, 1, 2, 3, 4, 5, 6, 7, 8, 9, 0, 1, 2,\n",
       "        3, 4, 5, 6]))"
      ]
     },
     "execution_count": 16,
     "metadata": {},
     "output_type": "execute_result"
    }
   ],
   "source": [
    "torch.max(outputs.data,1)"
   ]
  },
  {
   "cell_type": "code",
   "execution_count": 17,
   "metadata": {},
   "outputs": [
    {
     "data": {
      "text/plain": [
       "Dataset MNIST\n",
       "    Number of datapoints: 10000\n",
       "    Root location: ./data\n",
       "    Split: Test\n",
       "    StandardTransform\n",
       "Transform: ToTensor()"
      ]
     },
     "execution_count": 17,
     "metadata": {},
     "output_type": "execute_result"
    }
   ],
   "source": [
    "test_dataset"
   ]
  },
  {
   "cell_type": "code",
   "execution_count": 18,
   "metadata": {},
   "outputs": [],
   "source": [
    "# Save the model for future implementations\n",
    "#torch.save(net.state_dict(), 'fnn_model.pkl')"
   ]
  }
 ],
 "metadata": {
  "kernelspec": {
   "display_name": "Python 3",
   "language": "python",
   "name": "python3"
  },
  "language_info": {
   "codemirror_mode": {
    "name": "ipython",
    "version": 3
   },
   "file_extension": ".py",
   "mimetype": "text/x-python",
   "name": "python",
   "nbconvert_exporter": "python",
   "pygments_lexer": "ipython3",
   "version": "3.7.4"
  }
 },
 "nbformat": 4,
 "nbformat_minor": 2
}
