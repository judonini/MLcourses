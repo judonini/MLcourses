{
 "cells": [
  {
   "cell_type": "markdown",
   "metadata": {},
   "source": [
    "# Autoencoder for credit card detection (Pytorch)\n",
    "\n",
    "The objective of this exercice is to build a model able to detect fraudulous credit card transactions among normal transactions. For this we train a special type of neural network called autoencoder. This network has as many input nodes as output nodes, and several hidden layers with, usually lower dimensions. \n",
    "\n",
    "The dataset we're going to use can be downloaded from [Kaggle](https://www.kaggle.com/mlg-ulb/creditcardfraud) (big file: 144 MB). It contains data about credit card transactions that occurred during a period of two days, with 492 frauds out of 284,807 transactions.\n",
    "\n",
    "All 30 features in the dataset are numerical. The data has been transformed using PCA transformation(s) due to privacy reasons. The two features that haven't been changed are Time and Amount. Time contains the seconds elapsed between each transaction and the first transaction in the dataset.\n",
    "\n",
    "The dataset also contains the class of event: 0 = normal transaction; 1 = fraudulous transaction.\n",
    "\n",
    "See example here: \n",
    "\n",
    "* This example: https://github.com/curiousily/Credit-Card-Fraud-Detection-using-Autoencoders-in-Keras/blob/master/fraud_detection.ipynb\n",
    "\n",
    "* Another example: https://github.com/GitiHubi/deepAI/blob/master/GTC_2018_Lab.ipynb\n"
   ]
  },
  {
   "cell_type": "markdown",
   "metadata": {},
   "source": [
    "## Initialize"
   ]
  },
  {
   "cell_type": "code",
   "execution_count": 1,
   "metadata": {},
   "outputs": [
    {
     "name": "stdout",
     "output_type": "stream",
     "text": [
      "3.8.8 (default, Apr 13 2021, 19:58:26) \n",
      "[GCC 7.3.0]\n",
      "<module 'torch.version' from '/home/donini/anaconda3/lib/python3.8/site-packages/torch/version.py'>\n",
      "cuda: 10.2\n",
      "\n",
      "Run on cpu\n"
     ]
    }
   ],
   "source": [
    "import matplotlib.pyplot as plt\n",
    "%matplotlib inline\n",
    "import numpy as np\n",
    "import seaborn as sns\n",
    "\n",
    "from sklearn.utils import shuffle\n",
    "\n",
    "import pandas as pd\n",
    "\n",
    "from sklearn.model_selection import train_test_split\n",
    "\n",
    "from sklearn.preprocessing import MinMaxScaler\n",
    "\n",
    "import torch\n",
    "import torch.nn as nn\n",
    "\n",
    "import sys\n",
    "print(sys.version)\n",
    "print(torch.version)\n",
    "print('cuda:',torch.version.cuda)\n",
    "\n",
    "# Choose cpu/gpu\n",
    "use_gpu=0\n",
    "if (use_gpu):\n",
    "    print('\\nEnable gpu')\n",
    "    dtype = torch.cuda.FloatTensor\n",
    "    device = torch.device(\"cuda\") # Uncomment this to run on GPU\n",
    "    \n",
    "else:\n",
    "    print('\\nRun on cpu')\n",
    "    dtype = torch.FloatTensor\n",
    "    device = torch.device(\"cpu\")\n"
   ]
  },
  {
   "cell_type": "markdown",
   "metadata": {},
   "source": [
    "## 1. Explore Data\n",
    "\n",
    "a) Download the dataset and load it in a panda dataframe. Look at the first 10 examples.\n",
    "\n",
    "b) Separate the data in two classes `normal` and `fraud`, then remove the class label from these datasets in order to conserve only the features.\n",
    "\n",
    "c) Plot the first 5 features of both normal and fraud data (plotting all features is time consuming).\n",
    "\n",
    "d) Split the `normal` dataset into a training and a test sample (each of same size).\n",
    "\n",
    "After the last step you should have 3 datasets:\n",
    "* normal data used for training\n",
    "* normal data used for testing\n",
    "* fraud data used for testing"
   ]
  },
  {
   "cell_type": "code",
   "execution_count": 2,
   "metadata": {},
   "outputs": [
    {
     "name": "stdout",
     "output_type": "stream",
     "text": [
      "   Time        V1        V2        V3        V4        V5        V6        V7  \\\n",
      "0   0.0 -1.359807 -0.072781  2.536347  1.378155 -0.338321  0.462388  0.239599   \n",
      "1   0.0  1.191857  0.266151  0.166480  0.448154  0.060018 -0.082361 -0.078803   \n",
      "2   1.0 -1.358354 -1.340163  1.773209  0.379780 -0.503198  1.800499  0.791461   \n",
      "3   1.0 -0.966272 -0.185226  1.792993 -0.863291 -0.010309  1.247203  0.237609   \n",
      "4   2.0 -1.158233  0.877737  1.548718  0.403034 -0.407193  0.095921  0.592941   \n",
      "5   2.0 -0.425966  0.960523  1.141109 -0.168252  0.420987 -0.029728  0.476201   \n",
      "6   4.0  1.229658  0.141004  0.045371  1.202613  0.191881  0.272708 -0.005159   \n",
      "7   7.0 -0.644269  1.417964  1.074380 -0.492199  0.948934  0.428118  1.120631   \n",
      "8   7.0 -0.894286  0.286157 -0.113192 -0.271526  2.669599  3.721818  0.370145   \n",
      "9   9.0 -0.338262  1.119593  1.044367 -0.222187  0.499361 -0.246761  0.651583   \n",
      "\n",
      "         V8        V9  ...       V21       V22       V23       V24       V25  \\\n",
      "0  0.098698  0.363787  ... -0.018307  0.277838 -0.110474  0.066928  0.128539   \n",
      "1  0.085102 -0.255425  ... -0.225775 -0.638672  0.101288 -0.339846  0.167170   \n",
      "2  0.247676 -1.514654  ...  0.247998  0.771679  0.909412 -0.689281 -0.327642   \n",
      "3  0.377436 -1.387024  ... -0.108300  0.005274 -0.190321 -1.175575  0.647376   \n",
      "4 -0.270533  0.817739  ... -0.009431  0.798278 -0.137458  0.141267 -0.206010   \n",
      "5  0.260314 -0.568671  ... -0.208254 -0.559825 -0.026398 -0.371427 -0.232794   \n",
      "6  0.081213  0.464960  ... -0.167716 -0.270710 -0.154104 -0.780055  0.750137   \n",
      "7 -3.807864  0.615375  ...  1.943465 -1.015455  0.057504 -0.649709 -0.415267   \n",
      "8  0.851084 -0.392048  ... -0.073425 -0.268092 -0.204233  1.011592  0.373205   \n",
      "9  0.069539 -0.736727  ... -0.246914 -0.633753 -0.120794 -0.385050 -0.069733   \n",
      "\n",
      "        V26       V27       V28  Amount  Class  \n",
      "0 -0.189115  0.133558 -0.021053  149.62      0  \n",
      "1  0.125895 -0.008983  0.014724    2.69      0  \n",
      "2 -0.139097 -0.055353 -0.059752  378.66      0  \n",
      "3 -0.221929  0.062723  0.061458  123.50      0  \n",
      "4  0.502292  0.219422  0.215153   69.99      0  \n",
      "5  0.105915  0.253844  0.081080    3.67      0  \n",
      "6 -0.257237  0.034507  0.005168    4.99      0  \n",
      "7 -0.051634 -1.206921 -1.085339   40.80      0  \n",
      "8 -0.384157  0.011747  0.142404   93.20      0  \n",
      "9  0.094199  0.246219  0.083076    3.68      0  \n",
      "\n",
      "[10 rows x 31 columns]\n",
      "x_train= (142157, 30) x_test_back= (142158, 30) x_test_signal= (492, 30)\n"
     ]
    }
   ],
   "source": [
    "# Load data\n",
    "df = pd.read_csv(\"../../tutorial/data/creditcard.csv\")\n",
    "\n",
    "# Print fisrt 10 entries\n",
    "print(df[:10])\n",
    "\n",
    "# Get events for each class\n",
    "#--------------------------\n",
    "fraud  = df[df['Class']==1]  # Fraud\n",
    "normal = df[df['Class']==0]  # Normal transactions\n",
    "\n",
    "# Remove target (not needed)\n",
    "drop=['Class']\n",
    "fraud  = fraud.drop(columns=drop)\n",
    "normal = normal.drop(columns=drop)\n",
    "\n",
    "varname = list(normal)\n",
    "\n",
    "# Split normal class in two parts (train and test)\n",
    "x_train_normal,x_test_normal = train_test_split(normal.values,test_size=0.5,random_state=13) \n",
    "\n",
    "# test fraud\n",
    "x_test_fraud = fraud.values\n",
    "\n",
    "print('x_train=', x_train_normal.shape,  'x_test_back=', x_test_normal.shape, 'x_test_signal=', x_test_fraud.shape)"
   ]
  },
  {
   "cell_type": "markdown",
   "metadata": {},
   "source": [
    "### Look at data"
   ]
  },
  {
   "cell_type": "code",
   "execution_count": 3,
   "metadata": {},
   "outputs": [
    {
     "name": "stdout",
     "output_type": "stream",
     "text": [
      "Original Images\n"
     ]
    },
    {
     "data": {
      "image/png": "[encoded data removed]",
      "text/plain": [
       "<Figure size 1440x1296 with 5 Axes>"
      ]
     },
     "metadata": {
      "needs_background": "light"
     },
     "output_type": "display_data"
    }
   ],
   "source": [
    "# plots\n",
    "#bins = np.arange(-2, 2, 0.01)\n",
    "\n",
    "print(\"Original Images\")\n",
    "plt.figure(figsize=(20, 18))\n",
    "#for i in range(x_test_normal.shape[1]):\n",
    "for i in range(5):\n",
    "    plt.subplot(5, 6, i+1)\n",
    "    n, bins, patches = plt.hist(x_test_normal[:,i], bins='auto', color = 'orange', alpha=0.5, label='Normal', density=1)\n",
    "    plt.hist(x_test_fraud[:,i], bins, alpha=0.5, label='Fraud', density=1)\n",
    "    plt.xlabel(varname[i])\n",
    "    plt.legend(loc='best')\n",
    "    \n",
    "#plt.savefig('images/AE_fraud_detection_original_variables_all.png')\n"
   ]
  },
  {
   "cell_type": "markdown",
   "metadata": {},
   "source": [
    "## 2. Rescale data\n",
    "\n",
    "Since features have different range we apply a transformation to each feature. For this we  use the MinMaxScaler that scales and translates each feature individually such that it is in the given range on the training set, e.g. between zero and one:\n",
    "\n",
    "See: https://scikit-learn.org/stable/modules/generated/sklearn.preprocessing.MinMaxScaler.html\n",
    "\n",
    "a) Fit and transofrm the training dataset using the scaler with the `fit_transform` method.\n",
    "\n",
    "b) Apply the transformation on the tests samples using the `transform` method.\n",
    "\n",
    "c) Plot the first 5 features of the normal and fraud test data and see how they changed."
   ]
  },
  {
   "cell_type": "code",
   "execution_count": 4,
   "metadata": {},
   "outputs": [],
   "source": [
    "# Rescale data\n",
    "#-------------\n",
    "scaler = MinMaxScaler()\n",
    "\n",
    "# fit (get min and max) and transform x_train\n",
    "x_train_normal = scaler.fit_transform(x_train_normal)\n",
    "\n",
    "# transform x_test (using scale parameters of x_train)\n",
    "x_test_normal = scaler.transform(x_test_normal)\n",
    "x_test_fraud = scaler.transform(x_test_fraud)"
   ]
  },
  {
   "cell_type": "code",
   "execution_count": 5,
   "metadata": {},
   "outputs": [
    {
     "name": "stdout",
     "output_type": "stream",
     "text": [
      "Rescaled Images\n"
     ]
    },
    {
     "data": {
      "image/png": "[encoded data removed]",
      "text/plain": [
       "<Figure size 1440x1296 with 5 Axes>"
      ]
     },
     "metadata": {
      "needs_background": "light"
     },
     "output_type": "display_data"
    }
   ],
   "source": [
    "# Show variables after rescaling\n",
    "\n",
    "print(\"Rescaled Images\")\n",
    "plt.figure(figsize=(20, 18))\n",
    "#for i in range(x_test_normal.shape[1]):\n",
    "for i in range(5):\n",
    "    plt.subplot(5, 6, i+1)\n",
    "    n, bins, patches = plt.hist(x_test_normal[:,i], bins='auto', color = 'orange', alpha=0.5, label='Normal', density=1)\n",
    "    plt.hist(x_test_fraud[:,i], bins, alpha=0.5, label='Fraud', density=1)\n",
    "    plt.xlabel(varname[i])\n",
    "    plt.legend(loc='best')\n",
    "    \n",
    "#plt.savefig('images/AE_fraud_detection_rescaled_variables_all.png')\n"
   ]
  },
  {
   "cell_type": "markdown",
   "metadata": {},
   "source": [
    "## 3. Partition training data\n",
    "\n",
    "After all of this, it's important to partition the data. In order for your model to generalize well, you split the training data into two parts: a training and a validation set. You will train your model on 80% of the data and validate it on 20% of the remaining training data. "
   ]
  },
  {
   "cell_type": "code",
   "execution_count": 6,
   "metadata": {},
   "outputs": [
    {
     "name": "stdout",
     "output_type": "stream",
     "text": [
      "(113725, 30)\n",
      "(28432, 30)\n"
     ]
    }
   ],
   "source": [
    "x_train_train,x_train_valid = train_test_split(x_train_normal,test_size=0.2,random_state=13) \n",
    "print(x_train_train.shape)\n",
    "print(x_train_valid.shape)"
   ]
  },
  {
   "cell_type": "markdown",
   "metadata": {},
   "source": [
    "## 4. AutoEncoder model\n",
    "\n",
    "Now we create the AutoEncoder model. \n",
    "\n",
    "Complete the network structure below using linear functions `nn.Linear(dim1,dim2)` (where `dim1` is the input dim of the layer and `dim2` the dimension of the layer output) and sigmoid activation functions `nn.Sigmoid()`:\n",
    "\n",
    "a) in the encoding part create layers of dimension 30 (input) - 30 (hidden layer 1) - 25 (hidden layer 2) - 20 (latence space), each with a sigmoid activation function\n",
    "\n",
    "b) in the decoding part create layers of dimension 25 (hidden layer 2) - 30 (hidden layer 1) - 30 (output) , where only the 1st layer has a sigmoid activation function\n",
    "\n",
    "c) look at the forward function, what does it return ?"
   ]
  },
  {
   "cell_type": "markdown",
   "metadata": {},
   "source": [
    "### Hyperparameters of the network"
   ]
  },
  {
   "cell_type": "raw",
   "metadata": {},
   "source": [
    "num_epochs = 200\n",
    "batch_size = 2048\n",
    "hidden_layer1 = 20\n",
    "hidden_layer2 = 15\n",
    "encoding_dim = 10"
   ]
  },
  {
   "cell_type": "code",
   "execution_count": 7,
   "metadata": {},
   "outputs": [],
   "source": [
    "num_epochs = 200\n",
    "batch_size = 2048\n",
    "hidden_layer1 = 30\n",
    "hidden_layer2 = 25\n",
    "encoding_dim = 20"
   ]
  },
  {
   "cell_type": "raw",
   "metadata": {},
   "source": [
    "num_epochs = 200\n",
    "batch_size = 2048\n",
    "hidden_layer1 = 100\n",
    "hidden_layer2 = 100\n",
    "encoding_dim = 15"
   ]
  },
  {
   "cell_type": "markdown",
   "metadata": {},
   "source": [
    "### AutoEncoder structure"
   ]
  },
  {
   "cell_type": "code",
   "execution_count": 8,
   "metadata": {},
   "outputs": [],
   "source": [
    "input_dim = x_train_train.shape[1]\n",
    "\n",
    "class autoencoder(nn.Module):\n",
    "    def __init__(self):\n",
    "        super(autoencoder, self).__init__()\n",
    "        self.encoder = nn.Sequential(\n",
    "            nn.Linear(input_dim, hidden_layer1),\n",
    "            nn.Sigmoid(),\n",
    "            nn.Linear(hidden_layer1, hidden_layer2),\n",
    "            nn.Sigmoid(),\n",
    "            nn.Linear(hidden_layer2, encoding_dim),\n",
    "            nn.Sigmoid()\n",
    "        )\n",
    "        self.decoder = nn.Sequential(\n",
    "            nn.Linear(encoding_dim, hidden_layer2),\n",
    "            nn.Sigmoid(),\n",
    "            nn.Linear(hidden_layer2, hidden_layer1),\n",
    "            nn.Sigmoid(),\n",
    "            nn.Linear(hidden_layer1,input_dim),\n",
    "            #nn.Sigmoid()\n",
    "        )\n",
    "\n",
    "    def forward(self, x):\n",
    "        x = self.encoder(x)\n",
    "        x = self.decoder(x)\n",
    "        return x\n",
    "\n",
    "    \n",
    "# Settings\n",
    "if (use_gpu):\n",
    "    model = autoencoder().cuda() # enable GPU\n",
    "else:\n",
    "    model = autoencoder()\n"
   ]
  },
  {
   "cell_type": "markdown",
   "metadata": {},
   "source": [
    "## 5. Set the data loading utilities\n",
    "\n",
    "We now call the [DataLoader](https://pytorch.org/docs/stable/data.html) constructors for the following datasets:\n",
    "* normal data used for training\n",
    "* normal data used for validation\n",
    "* normal data used for testing\n",
    "* fraud data used for testing\n",
    "\n",
    "We shuffle the loading process of the train and validation datasets to make the learning process independent of data orderness, but the order of test datasets remains the same to examine whether we can handle unspecified bias order of inputs.\n",
    "\n",
    "See how this is done below (you need to replace your own dataset names where appropriate)."
   ]
  },
  {
   "cell_type": "code",
   "execution_count": 9,
   "metadata": {},
   "outputs": [],
   "source": [
    "# For training on normal samples\n",
    "train_loader = torch.utils.data.DataLoader(dataset=x_train_train,\n",
    "                                          batch_size=batch_size,\n",
    "                                          shuffle=True)\n",
    "\n",
    "valid_loader = torch.utils.data.DataLoader(dataset=x_train_valid,\n",
    "                                          batch_size=batch_size,\n",
    "                                          shuffle=True)\n",
    "\n",
    "# For testing on fraud examples (shuffle=False)\n",
    "test_fraud_loader = torch.utils.data.DataLoader(dataset=x_test_fraud,\n",
    "                                          batch_size=batch_size,\n",
    "                                          shuffle=False)\n",
    "\n",
    "# For testing on unseen normal sample (shuffle=False)\n",
    "test_normal_loader = torch.utils.data.DataLoader(dataset=x_test_normal,\n",
    "                                          batch_size=batch_size,\n",
    "                                          shuffle=False)\n"
   ]
  },
  {
   "cell_type": "markdown",
   "metadata": {},
   "source": [
    "## 6. Training on normal samples\n",
    "\n",
    "Run the training of the network on the training sample. For this complete the code below by answering the following questions:\n",
    "\n",
    "a) Choose the mean square error loss function. See https://pytorch.org/docs/master/nn.html#loss-functions\n",
    "\n",
    "b) Select the Adam optimizer (= minimization) method with a learning rate of 0.001. See https://pytorch.org/docs/stable/optim.html.\n",
    "\n",
    "c) Fill the validation step knowing that it is the same structure as the training step but without the minimization part (not needed for validation).\n",
    "\n",
    "d) Record for each epoch the loss value calculated for the training and validation steps. Make a figure of the training and validation losses as a function of the number of epochs. Do the two curve agree ?\n"
   ]
  },
  {
   "cell_type": "code",
   "execution_count": 10,
   "metadata": {},
   "outputs": [
    {
     "name": "stdout",
     "output_type": "stream",
     "text": [
      "epoch [1/200], train loss:0.0083, validation loss:0.0079\n",
      "epoch [50/200], train loss:0.0023, validation loss:0.0024\n",
      "epoch [100/200], train loss:0.0023, validation loss:0.0023\n",
      "epoch [150/200], train loss:0.0019, validation loss:0.0020\n",
      "epoch [200/200], train loss:0.0015, validation loss:0.0015\n",
      "Final train loss value: 0.0015\n"
     ]
    },
    {
     "data": {
      "image/png": "[encoded data removed]",
      "text/plain": [
       "<Figure size 432x288 with 1 Axes>"
      ]
     },
     "metadata": {
      "needs_background": "light"
     },
     "output_type": "display_data"
    }
   ],
   "source": [
    "# Loss function: https://pytorch.org/docs/master/nn.html#loss-functions\n",
    "criterion = nn.MSELoss()\n",
    "\n",
    "# Optimizer: https://pytorch.org/docs/stable/optim.html\n",
    "learning_rate = 0.001  # default is 0.001\n",
    "l2_norm = 0\n",
    "\n",
    "optimizer = torch.optim.Adam(model.parameters(),lr=learning_rate, weight_decay = l2_norm)\n",
    "\n",
    "# Train\n",
    "train_loss = []\n",
    "valid_loss = []\n",
    "\n",
    "for epoch in range(num_epochs):\n",
    "    \n",
    "    ###################\n",
    "    # train the model #\n",
    "    ###################\n",
    "    model.train() # prep model for training\n",
    "    for data in train_loader:\n",
    "        data = data.type(dtype)\n",
    "        \n",
    "        output = model(data)\n",
    "                \n",
    "        loss = criterion(output, data)\n",
    "        optimizer.zero_grad()\n",
    "        loss.backward()\n",
    "        optimizer.step()\n",
    "\n",
    "    # record train loss\n",
    "    train_loss.append(loss.item())\n",
    "\n",
    "    ######################    \n",
    "    # validate the model #\n",
    "    ######################\n",
    "    model.eval() # prep model for evaluation\n",
    "    for data in valid_loader:\n",
    "        data = data.type(dtype)\n",
    "        output = model(data)\n",
    "        loss = criterion(output, data)\n",
    "        \n",
    "    # record validation loss\n",
    "    valid_loss.append(loss.item())    \n",
    "    \n",
    "    if (epoch==0 or (epoch+1)%50==0):\n",
    "        print('epoch [{}/{}], train loss:{:.4f}, validation loss:{:.4f}'.format(epoch + 1, num_epochs, train_loss[-1],valid_loss[-1]))\n",
    "    \n",
    "print('Final train loss value: %.4f' % train_loss[-1])\n",
    "\n",
    "# Plot model performance\n",
    "epochs = range(num_epochs)\n",
    "plt.figure()\n",
    "plt.plot(epochs, train_loss, 'bo', label='Training loss')\n",
    "plt.plot(epochs, valid_loss, 'r-', label='Validation loss')\n",
    "plt.title('Training and validation losses')\n",
    "plt.legend()\n",
    "plt.savefig('images/AE_fraud_loss.png')"
   ]
  },
  {
   "cell_type": "markdown",
   "metadata": {},
   "source": [
    "## 7. Calculate autoencoder distances\n",
    "\n",
    "Now we calculate the euclidean distance between the autoencoder input and output.\n",
    "\n",
    "$$ \\text{distance} = \\sqrt{ ||x_{\\text{input}} - x_{\\text{output}}||^2} = \\sqrt{ \\sum_i (x^i_{\\text{input}} - x^i_{\\text{output}})^2}$$\n",
    "\n",
    "a) See below how this is done for the normal test data, and do the same for the fraud test data.\n",
    "\n",
    "b) Plot the histograms of the calculated distances of the normal and fraud test data. For better viewing choose a logarithmic scale for the y axis. Comment on the result."
   ]
  },
  {
   "cell_type": "code",
   "execution_count": 11,
   "metadata": {
    "scrolled": true
   },
   "outputs": [],
   "source": [
    "model.eval() # Sets the module in evaluation mode.\n",
    "model.cpu()  # Moves all model parameters and buffers to the CPU to avoid out of memory\n",
    "\n",
    "# Normal test dataset\n",
    "#--------------------\n",
    "test_normal_distance = []\n",
    "for data in test_normal_loader:\n",
    "    data = data.type(dtype).cpu().detach()\n",
    "    output = model(data)\n",
    "    test_normal_distance += torch.sqrt((torch.sum((data-output)**2,axis=1)))\n",
    "\n",
    "# convert list to tensor\n",
    "test_normal_distance = torch.FloatTensor(test_normal_distance)\n",
    "\n",
    "# convert tensor to numpy array\n",
    "test_normal_distance = test_normal_distance.numpy()\n",
    "\n",
    "# Fraud test dataset\n",
    "#-------------------\n",
    "test_fraud_distance = []\n",
    "for data in test_fraud_loader:\n",
    "    data = data.type(dtype).cpu().detach()\n",
    "    output = model(data)\n",
    "    test_fraud_distance += torch.sqrt((torch.sum((data-output)**2,axis=1)))\n",
    "\n",
    "# convert list to tensor\n",
    "test_fraud_distance = torch.FloatTensor(test_fraud_distance)\n",
    "\n",
    "# convert tensor to numpy array\n",
    "test_fraud_distance = test_fraud_distance.numpy()"
   ]
  },
  {
   "cell_type": "code",
   "execution_count": 12,
   "metadata": {},
   "outputs": [
    {
     "data": {
      "image/png": "[encoded data removed]",
      "text/plain": [
       "<Figure size 504x504 with 1 Axes>"
      ]
     },
     "metadata": {
      "needs_background": "light"
     },
     "output_type": "display_data"
    }
   ],
   "source": [
    "bins = np.arange(0, 2, 0.01)\n",
    "plt.figure(figsize=(7, 7))\n",
    "n, bins, patches = plt.hist(test_normal_distance, bins=bins, alpha=0.5, label='Normal (Test)', density=1, log=True)\n",
    "plt.hist(test_fraud_distance, bins, alpha=0.5, label='Fraud (Test)', density=1)\n",
    "plt.xlabel('distance',fontsize=16)\n",
    "plt.legend(loc='upper right',fontsize=16)\n",
    "plt.savefig(\"images/distances.png\")"
   ]
  },
  {
   "cell_type": "markdown",
   "metadata": {},
   "source": [
    "## 8. Confusion matrix\n",
    "\n",
    "Build a confusion matrix with a threshold on the distance such that 50% of fraud transactions are detected. What is the true positive rate in this case ? Is this threshold interesting ?"
   ]
  },
  {
   "cell_type": "code",
   "execution_count": 13,
   "metadata": {},
   "outputs": [
    {
     "data": {
      "image/png": "[encoded data removed]",
      "text/plain": [
       "<Figure size 432x432 with 2 Axes>"
      ]
     },
     "metadata": {
      "needs_background": "light"
     },
     "output_type": "display_data"
    },
    {
     "name": "stdout",
     "output_type": "stream",
     "text": [
      "False positive rate = 49.80 %\n",
      "True positive rate = 99.89 %\n"
     ]
    }
   ],
   "source": [
    "from sklearn.metrics import confusion_matrix\n",
    "\n",
    "LABELS = [\"Normal\", \"Fraud\"]\n",
    "\n",
    "target = np.concatenate((np.zeros(x_test_normal.shape[0]),np.ones(x_test_fraud.shape[0])))\n",
    "scores = np.concatenate((test_normal_distance,test_fraud_distance))  \n",
    "\n",
    "threshold = 0.75\n",
    "\n",
    "y_pred = [1 if e > threshold else 0 for e in scores]\n",
    "conf_matrix = confusion_matrix(target, y_pred)\n",
    "\n",
    "plt.figure(figsize=(6, 6))\n",
    "sns.heatmap(conf_matrix, xticklabels=LABELS, yticklabels=LABELS, annot=True, fmt=\"d\");\n",
    "plt.title(\"Confusion matrix\")\n",
    "plt.ylabel('True class')\n",
    "plt.xlabel('Predicted class')\n",
    "plt.show()\n",
    "\n",
    "NN = conf_matrix[0,0]\n",
    "NF = conf_matrix[0,1]\n",
    "FN = conf_matrix[1,0]\n",
    "FF = conf_matrix[1,1]\n",
    "print('False positive rate = %.2f %%' % (FN/(FN+FF)*100))\n",
    "print('True positive rate = %.2f %%' % (NN/(NN+NF)*100))\n"
   ]
  },
  {
   "cell_type": "markdown",
   "metadata": {},
   "source": [
    "## 9. ROC Curve\n",
    "\n",
    "Draw the ROC curve for the test sample."
   ]
  },
  {
   "cell_type": "code",
   "execution_count": 14,
   "metadata": {},
   "outputs": [
    {
     "data": {
      "image/png": "[encoded data removed]",
      "text/plain": [
       "<Figure size 504x504 with 1 Axes>"
      ]
     },
     "metadata": {
      "needs_background": "light"
     },
     "output_type": "display_data"
    }
   ],
   "source": [
    "from sklearn.metrics import roc_curve, auc\n",
    "from sklearn.model_selection import cross_val_predict\n",
    "\n",
    "target = np.concatenate((np.zeros(x_test_normal.shape[0]),np.ones(x_test_fraud.shape[0])))\n",
    "scores = np.concatenate((test_normal_distance,test_fraud_distance))  \n",
    "\n",
    "plt.figure(figsize=(7, 7))\n",
    "                   \n",
    "fp, vp, thresholds = roc_curve(target,scores,pos_label=1)\n",
    "roc_auc = auc(fp, vp)\n",
    "\n",
    "plt.plot(fp,vp,color='red',label='ROC curve %s (AUC = %0.4f)'%('AE',roc_auc))\n",
    "\n",
    "plt.xlabel('False Positive',fontsize=16)\n",
    "plt.ylabel('True Positive',fontsize=16)\n",
    "plt.plot([0, 1],[0, 1],\n",
    "         linestyle='--',color=(0.6, 0.6, 0.6),\n",
    "         label='Random guess')\n",
    "#plt.plot([0, 0, 1],[0, 1, 1],color='yellow',label='Idéal')\n",
    "plt.grid()\n",
    "plt.legend(loc=\"best\",fontsize=16)\n",
    "plt.tight_layout()\n",
    "plt.savefig(\"images/ROC.png\")"
   ]
  },
  {
   "cell_type": "markdown",
   "metadata": {},
   "source": [
    "# Save the model for future implementations"
   ]
  },
  {
   "cell_type": "raw",
   "metadata": {},
   "source": [
    "torch.save(model.state_dict(), 'models/AE_fraud_model_%d_%d_%d_%d.pkl' % (hidden_layer1,hidden_layer2,encoding_dim,batch_size))\n"
   ]
  }
 ],
 "metadata": {
  "kernelspec": {
   "display_name": "Python 3",
   "language": "python",
   "name": "python3"
  },
  "language_info": {
   "codemirror_mode": {
    "name": "ipython",
    "version": 3
   },
   "file_extension": ".py",
   "mimetype": "text/x-python",
   "name": "python",
   "nbconvert_exporter": "python",
   "pygments_lexer": "ipython3",
   "version": "3.8.8"
  }
 },
 "nbformat": 4,
 "nbformat_minor": 2
}
