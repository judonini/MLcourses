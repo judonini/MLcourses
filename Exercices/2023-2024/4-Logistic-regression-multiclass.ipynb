{
 "cells": [
  {
   "cell_type": "markdown",
   "id": "c03368ef",
   "metadata": {},
   "source": [
    "# Multiclass classification with the Iris dataset\n",
    "\n",
    "The Iris dataset consists of 3 different classes of irises (Setosa, Versicolour, and Virginica). Each iris is described by four features: Sepal Length, Sepal Width, Petal Length and Petal Width. \n",
    "\n",
    "The objective of this exercice is to train a multiclass classification model using the [logistic regression](https://scikit-learn.org/stable/modules/generated/sklearn.linear_model.LogisticRegression.html) model available in `scikit-learn`."
   ]
  },
  {
   "cell_type": "markdown",
   "id": "6da14d24",
   "metadata": {},
   "source": [
    "<img src=\"images/iris-dataset.png\" width=\"600\">"
   ]
  },
  {
   "cell_type": "markdown",
   "id": "f16f41b6",
   "metadata": {},
   "source": [
    "## Initialisation\n",
    "\n",
    "Load the following libraries."
   ]
  },
  {
   "cell_type": "code",
   "execution_count": null,
   "id": "284e122a",
   "metadata": {},
   "outputs": [],
   "source": [
    "import numpy as np\n",
    "import matplotlib\n",
    "import matplotlib.pyplot as plt\n",
    "%matplotlib inline\n",
    "\n",
    "from sklearn import datasets\n",
    "from sklearn.model_selection import train_test_split\n",
    "\n",
    "from sklearn.linear_model import LogisticRegression\n",
    "from sklearn.metrics import accuracy_score"
   ]
  },
  {
   "cell_type": "markdown",
   "id": "a86c1c84",
   "metadata": {},
   "source": [
    "## Question 1: Data exploration\n",
    "\n",
    "Load the Iris dataset (run the cell below). The dataset contains 150 examples, stored in 150x4 numpy array. The rows being the samples and the columns being the features. As there are 3 classes of irises, each example corresponds to a target value: `0 = setosa, 1 = versicolor, 2 = virginica`."
   ]
  },
  {
   "cell_type": "code",
   "execution_count": null,
   "id": "a1867f43",
   "metadata": {},
   "outputs": [],
   "source": [
    "# Load Iris dataset\n",
    "iris = datasets.load_iris()\n",
    "\n",
    "# data\n",
    "X = iris.data   # features\n",
    "t = iris.target # target\n",
    "\n",
    "# description\n",
    "feature_names = iris.feature_names\n",
    "species = iris.target_names\n",
    "\n",
    "print(\"Iris species:\", species)\n",
    "print(\"Features name:\",feature_names)"
   ]
  },
  {
   "cell_type": "markdown",
   "id": "2f7dacd6",
   "metadata": {},
   "source": [
    "Explore the data\n",
    "\n",
    "1. Make a histogram of each feature of the data. On each figure represent with a different color the 3 classes of Iris.\n",
    "2. Show the scatter plots of each feature versus a different feature, again using a different color for each classes (you should make 6 figures in total)."
   ]
  },
  {
   "cell_type": "code",
   "execution_count": null,
   "id": "f044bb7a",
   "metadata": {},
   "outputs": [],
   "source": []
  },
  {
   "cell_type": "markdown",
   "id": "98acc4c9",
   "metadata": {},
   "source": [
    "## Question 2: Train model and predict\n",
    "\n",
    "1. Using the `train_test_split` method to split the dataset as follow: 2 third of the total sample size for training and 1 third for testing.\n",
    "\n",
    "2. Initialize the logistic regression model (described here [LogisticRegression](https://scikit-learn.org/stable/modules/generated/sklearn.linear_model.LogisticRegression.html)) with the following parameters:\n",
    "\n",
    "  `model = LogisticRegression(solver=\"lbfgs\",multi_class='multinomial',penalty='l2',max_iter=500)`\n",
    "  \n",
    "  Describe, briefly, the meaning of all the parameters of this function.\n",
    "\n",
    "3. Train the model on the training set. Display the values of the weights and the bias terms.\n",
    "\n",
    "4. Predict the class label for all samples in the training and test datasets. Give the accuracy of the prediction for both samples. Comment on the results.\n",
    "\n",
    "5. For each class show a histogram of the probability estimate `predict_proba` of being in the right class. "
   ]
  },
  {
   "cell_type": "code",
   "execution_count": null,
   "id": "605e355b",
   "metadata": {},
   "outputs": [],
   "source": []
  },
  {
   "cell_type": "markdown",
   "id": "adf2dcdc",
   "metadata": {},
   "source": [
    "## Question 3: Explain how probability is calculated\n",
    "\n",
    "1. Explain how the probability estimate `predict_proba` is computed. Redo the calculation of this probability on the test dataset by using **only** `numpy` tools. What are the differences with respect to the logistic regression method seen in the lecture and in the hands-on session ?\n",
    "\n",
    "2. Explain how the predicted class (the calculated class label) is determined for each example ?"
   ]
  },
  {
   "cell_type": "code",
   "execution_count": null,
   "id": "0be81c30",
   "metadata": {},
   "outputs": [],
   "source": []
  },
  {
   "cell_type": "markdown",
   "id": "4ea06e74",
   "metadata": {},
   "source": [
    "## Question 4: Plot decision surfaces (optional)\n",
    "\n",
    "Show the decision surfaces on the scatter plots of each feature versus another (question 1.2), with different color for each classes."
   ]
  },
  {
   "cell_type": "code",
   "execution_count": null,
   "id": "b23a3e01",
   "metadata": {},
   "outputs": [],
   "source": []
  },
  {
   "cell_type": "markdown",
   "id": "c181f3b5",
   "metadata": {},
   "source": [
    "***"
   ]
  }
 ],
 "metadata": {
  "kernelspec": {
   "display_name": "Python 3 (ipykernel)",
   "language": "python",
   "name": "python3"
  },
  "language_info": {
   "codemirror_mode": {
    "name": "ipython",
    "version": 3
   },
   "file_extension": ".py",
   "mimetype": "text/x-python",
   "name": "python",
   "nbconvert_exporter": "python",
   "pygments_lexer": "ipython3",
   "version": "3.8.8"
  }
 },
 "nbformat": 4,
 "nbformat_minor": 5
}
