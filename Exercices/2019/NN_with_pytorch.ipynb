{
 "cells": [
  {
   "cell_type": "markdown",
   "metadata": {},
   "source": [
    "# PyTorch Tutorial "
   ]
  },
  {
   "cell_type": "markdown",
   "metadata": {},
   "source": [
    "<center><img src=\"img/pytorch-logo.jpeg\" width=\"400\" /></center>\n",
    "\n",
    "* open-source machine learning library written in Python, C++ and CUDA\n",
    "\n",
    "* has NumPy-like interfaces\n",
    "\n",
    "* provides two core features: operations with tensors and automatic differentiation\n",
    "    \n",
    "* initialy developed at Facebook"
   ]
  },
  {
   "cell_type": "markdown",
   "metadata": {},
   "source": [
    "### Installation: https://pytorch.org/get-started/locally/\n",
    "\n",
    "On university linux server just run 'source activate tensor' to enable pytorch environment"
   ]
  },
  {
   "cell_type": "markdown",
   "metadata": {},
   "source": [
    "### What are tensors?\n",
    "\n",
    "A PyTorch Tensor is basically the same as a numpy multidimensional array: it does not know\n",
    "anything about deep learning or computational graphs or gradients, and is just\n",
    "a generic n-dimensional array to be used for arbitrary numeric computation.\n",
    "\n",
    "The biggest difference between a numpy array and a PyTorch Tensor is that\n",
    "a PyTorch Tensor can run on either CPU or GPU. To run operations on the GPU,\n",
    "just cast the Tensor to a cuda datatype.\n",
    "\n",
    "<img src=\"img/tensor.jpeg\" width=\"800\">"
   ]
  },
  {
   "cell_type": "markdown",
   "metadata": {},
   "source": [
    "### Basic tensor matrix operations"
   ]
  },
  {
   "cell_type": "code",
   "execution_count": null,
   "metadata": {},
   "outputs": [],
   "source": [
    "import torch\n",
    "\n",
    "# Simple matrix\n",
    "m1 = torch.ones(3, 4)\n",
    "print('Matrix m1: \\n', m1)\n",
    "print(m1.shape,\"\\n\")\n",
    "\n",
    "# Another (random) matrix\n",
    "m2 = torch.rand(3, 4) # fill 3x4 matrix with uniform random numbers in [0,1] interval\n",
    "print('Matrix m2: \\n', m2)\n",
    "print(m2.shape,\"\\n\")\n",
    "\n",
    "# Transpose of a matrix\n",
    "print('Matrix m2^T: \\n', m2.t())\n",
    "print(m2.t().shape,\"\\n\")\n",
    "\n",
    "# Matrix operations\n",
    "m3 = m1*m2      # Not a matrix multiplication ! Here each value in matrix m1 are multiplied by value m2\n",
    "print('Matrix m3: \\n', m3)\n",
    "print(m3.shape,\"\\n\")\n",
    "\n",
    "# Matrix multiplication using torch.mm\n",
    "m4 = m1.mm(m2.t())\n",
    "print('Matrix m4: \\n', m4)\n",
    "print(m4.shape,\"\\n\")\n",
    "\n",
    "# Matrix multiplication using torch.matmul\n",
    "m5 = m1.matmul(m2.t())\n",
    "print('Matrix m5: \\n', m5)\n",
    "print(m5.shape,\"\\n\")\n",
    "\n",
    "# For matrix-vector multiplication there is also the possibility to use torch.mv\n",
    "vec = torch.tensor([1.0,2.0,3.0])\n",
    "print(torch.matmul(m5, vec))"
   ]
  },
  {
   "cell_type": "markdown",
   "metadata": {},
   "source": [
    "### More operations (power, sum, clamp, ...)\n",
    "\n",
    "(See even more basic operations here: https://jhui.github.io/2018/02/09/PyTorch-Basic-operations/)"
   ]
  },
  {
   "cell_type": "code",
   "execution_count": null,
   "metadata": {},
   "outputs": [],
   "source": [
    "mat = torch.rand(3, 4)\n",
    "print(mat)\n",
    "\n",
    "# Takes the power of each element in input\n",
    "print(mat.pow(3))\n",
    "\n",
    "# Returns the sum of all elements in the input tensor\n",
    "print(mat.sum())\n",
    "\n",
    "# Clamp all elements in input into the range [ min, max ] and return a resulting tensor\n",
    "print(mat.clamp(0.3,0.7))"
   ]
  },
  {
   "cell_type": "markdown",
   "metadata": {},
   "source": [
    "### Convertion to numpy array"
   ]
  },
  {
   "cell_type": "code",
   "execution_count": null,
   "metadata": {},
   "outputs": [],
   "source": [
    "import numpy as np\n",
    "\n",
    "# convertion PyTorch -> numpy\n",
    "a = torch.randn(5)\n",
    "b = a.numpy()\n",
    "\n",
    "# convertion numpy -> PyTorch\n",
    "c = torch.from_numpy(b)\n",
    "\n",
    "print(a)\n",
    "print(b)\n",
    "print(c)"
   ]
  },
  {
   "cell_type": "markdown",
   "metadata": {},
   "source": [
    "### Autograd\n",
    "\n",
    "A PyTorch Tensor represents a node in a computational graph. If ``x`` is a\n",
    "Tensor that has ``x.requires_grad=True`` then ``x.grad`` is another Tensor\n",
    "holding the gradient of ``x`` with respect to some scalar value.\n",
    "\n",
    "Example for simple regression:"
   ]
  },
  {
   "cell_type": "code",
   "execution_count": null,
   "metadata": {},
   "outputs": [],
   "source": [
    "# Simple regression example\n",
    "x = [1., 2., 3., 4., 5.]           # data\n",
    "y = [10., 20., 30., 40., 50.]      # target values\n",
    "\n",
    "# Gradients will be calculated w.r.t this tensors (has \"requires_grad=True\")\n",
    "w = torch.tensor([1.],requires_grad=True)\n",
    "\n",
    "# Number of loops on all sample\n",
    "for epoch in range(5):\n",
    "    \n",
    "    # Loop on data events and target values\n",
    "    for x_i, y_i in zip(x, y):\n",
    "        \n",
    "        # compute predicted target variable\n",
    "        y_pred = x_i * w\n",
    "                \n",
    "        # compute Mean Squared Error (MSE)\n",
    "        loss = (y_pred - y_i) ** 2\n",
    "        \n",
    "        # With PyTorch we can automatically compute the derivative of the loss \n",
    "        # w.r.t. the tensors that have requires_grad set to True (i.e. weights).\n",
    "        # compute gradients\n",
    "        loss.backward()\n",
    "                        \n",
    "        print('\\t x=%.1f y=%.1f, w=%.2f, dloss/dw=%.1f' % (x_i, y_i, w.data, w.grad.data))\n",
    "                \n",
    "        # make one step towards the local minima, with learning rate 0.01\n",
    "        w.data -= 0.01 * w.grad.data\n",
    "        \n",
    "        # clear gradients after updating weights\n",
    "        w.grad.data.zero_()\n",
    "        \n",
    "    print('Loss at epoch #%d: %.6f \\n' % (epoch+1, loss.data[0]))\n",
    "\n",
    "print('Final: w = %.4f' % (w.data))\n"
   ]
  },
  {
   "cell_type": "markdown",
   "metadata": {},
   "source": [
    "## Exercice\n",
    "Now we have the following data. How should be modified the above code ? How many epochs are needed for convergence ?\n"
   ]
  },
  {
   "cell_type": "code",
   "execution_count": null,
   "metadata": {},
   "outputs": [],
   "source": [
    "x = [1., 2., 3., 4., 5., 6., 7., 8., 9., 10.]           # data\n",
    "y = [15., 25., 35., 45., 55., 65., 75., 85., 95., 105.] # target values\n",
    "\n",
    "# FILL CODE HERE #\n"
   ]
  },
  {
   "cell_type": "markdown",
   "metadata": {},
   "source": [
    "\n",
    "NN with tensor and autograd\n",
    "-------------------------------\n",
    "\n",
    "We consider a fully-connected ReLU network with one hidden layer and no biases, trained to predict y from x using Euclidean error.\n",
    "\n",
    "The model that we want to build has the following structure:\n",
    "$$\\hat{y}(x) = \\text{relu}(x.w_1).w_2,$$\n",
    "where $x$ and $y$ are the input and output features (of dimension 1000 and 10, respectively). Here the relu activation function is used and $w_1$ and $w_2$ are weight matrices.\n",
    "\n",
    "The network consists of a fully-connected ReLU network with one hidden layer and no biases, trained to predict y from x by minimizing squared Euclidean distance.\n",
    "\n",
    "This implementation computes the forward pass using operations on PyTorch Tensors, and uses PyTorch autograd to compute gradients.\n"
   ]
  },
  {
   "cell_type": "code",
   "execution_count": null,
   "metadata": {
    "scrolled": true
   },
   "outputs": [],
   "source": [
    "%matplotlib inline\n",
    "\n",
    "import torch\n",
    "\n",
    "dtype = torch.float\n",
    "device = torch.device(\"cpu\")\n",
    "# device = torch.device(\"cuda:0\") # Uncomment this to run on GPU\n",
    "\n",
    "# N is batch size; D_in is input dimension;\n",
    "# H is hidden dimension; D_out is output dimension.\n",
    "N, D_in, H, D_out = 64, 1000, 100, 10\n",
    "\n",
    "# Create random Tensors to hold input and outputs.\n",
    "# Setting requires_grad=False indicates that we do not need to compute gradients\n",
    "# with respect to these Tensors during the backward pass.\n",
    "x = torch.randn(N, D_in, device=device, dtype=dtype)\n",
    "y = torch.randn(N, D_out, device=device, dtype=dtype)\n",
    "\n",
    "# Create random Tensors for weights.\n",
    "# Setting requires_grad=True indicates that we want to compute gradients with\n",
    "# respect to these Tensors during the backward pass.\n",
    "w1 = torch.randn(D_in, H, device=device, dtype=dtype, requires_grad=True)\n",
    "w2 = torch.randn(H, D_out, device=device, dtype=dtype, requires_grad=True)\n",
    "\n",
    "learning_rate = 1e-6\n",
    "for t in range(500):\n",
    "    \n",
    "    # IMPLEMENT NETWORK TRAINING USING PYTORCH\n",
    "    \n"
   ]
  },
  {
   "cell_type": "markdown",
   "metadata": {},
   "source": [
    "## Optional: Exercice\n",
    "Add one more hidden layer with 100 neurons. Use successively sigmoid (torch.sigmoid) and relu (torch.relu) activation functions.\n",
    "\n",
    "Note: you might need to increase the numbers of epochs (this solution is much less effective than the previous one !)\n"
   ]
  },
  {
   "cell_type": "code",
   "execution_count": null,
   "metadata": {},
   "outputs": [],
   "source": []
  }
 ],
 "metadata": {
  "kernelspec": {
   "display_name": "Python 3",
   "language": "python",
   "name": "python3"
  },
  "language_info": {
   "codemirror_mode": {
    "name": "ipython",
    "version": 3
   },
   "file_extension": ".py",
   "mimetype": "text/x-python",
   "name": "python",
   "nbconvert_exporter": "python",
   "pygments_lexer": "ipython3",
   "version": "3.6.6"
  }
 },
 "nbformat": 4,
 "nbformat_minor": 1
}
