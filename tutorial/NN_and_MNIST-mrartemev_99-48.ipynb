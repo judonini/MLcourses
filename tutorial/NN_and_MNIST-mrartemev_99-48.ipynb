{
 "cells": [
  {
   "cell_type": "markdown",
   "metadata": {},
   "source": [
    "# MNIST Handwritten Digit Recognition in PyTorch\n",
    "\n",
    "Handwritten digit recognition is the classical 'Hello World\" exercice of machine learning. \n",
    "\n",
    "Here we'll see that it can be done rather efficiently already with a simple feedforward neural network.\n",
    "\n",
    "Example taken from:\n",
    "\n",
    "* Main source: https://towardsdatascience.com/a-simple-starter-guide-to-build-a-neural-network-3c2cf07b8d7c\n",
    "\n",
    "* Complemented with: https://nextjournal.com/gkoehler/pytorch-mnist\n",
    "\n",
    "![image.png](attachment:image.png)"
   ]
  },
  {
   "cell_type": "markdown",
   "metadata": {},
   "source": [
    "## Import PyTorch"
   ]
  },
  {
   "cell_type": "code",
   "execution_count": 1,
   "metadata": {},
   "outputs": [],
   "source": [
    "import torch\n",
    "import torch.nn as nn\n",
    "import torchvision.datasets as dsets\n",
    "import torchvision.transforms as transforms\n",
    "from torch.autograd import Variable\n",
    "\n",
    "import matplotlib.pyplot as plt # For plots"
   ]
  },
  {
   "cell_type": "markdown",
   "metadata": {},
   "source": [
    "## Initialize Hyper-parameters"
   ]
  },
  {
   "cell_type": "code",
   "execution_count": 2,
   "metadata": {},
   "outputs": [],
   "source": [
    "input_size = 784       # The image size = 28 x 28 = 784\n",
    "hidden_size = 500      # The number of nodes at the hidden layer\n",
    "num_classes = 10       # The number of output classes. In this case, from 0 to 9\n",
    "num_epochs = 5         # The number of times entire dataset is trained\n",
    "batch_size = 100       # The size of input data took for one iteration\n",
    "learning_rate = 0.001  # The speed of convergence"
   ]
  },
  {
   "cell_type": "markdown",
   "metadata": {},
   "source": [
    "## Download MNIST Dataset\n",
    "\n",
    "The MNIST database (Yann LeCun et al) consists of images 28 * 28 pixel greyscale images of handwritten digits.\n",
    "\n",
    "It has a training set of 60,000 examples, and a test set of 10,000 examples.\n",
    "\n",
    "The dataset will be downladed (once) just below."
   ]
  },
  {
   "cell_type": "code",
   "execution_count": 3,
   "metadata": {},
   "outputs": [],
   "source": [
    "train_dataset = dsets.MNIST(root='./data',\n",
    "                           train=True,\n",
    "                           transform=transforms.ToTensor(),\n",
    "                           download=True)\n",
    "\n",
    "test_dataset = dsets.MNIST(root='./data',\n",
    "                           train=False,\n",
    "                           transform=transforms.ToTensor())"
   ]
  },
  {
   "cell_type": "markdown",
   "metadata": {},
   "source": [
    "## Load the Dataset"
   ]
  },
  {
   "cell_type": "markdown",
   "metadata": {},
   "source": [
    "We shuffle the loading process of train_dataset to make the learning process independent of data orderness, but the order of test_loader remains to examine whether we can handle unspecified bias order of inputs."
   ]
  },
  {
   "cell_type": "code",
   "execution_count": 4,
   "metadata": {},
   "outputs": [],
   "source": [
    "train_loader = torch.utils.data.DataLoader(dataset=train_dataset,\n",
    "                                          batch_size=batch_size,\n",
    "                                          shuffle=True)\n",
    "\n",
    "test_loader = torch.utils.data.DataLoader(dataset=test_dataset,\n",
    "                                          batch_size=batch_size,\n",
    "                                          shuffle=False)"
   ]
  },
  {
   "cell_type": "markdown",
   "metadata": {},
   "source": [
    "## Let's take a look at some examples. \n",
    "We'll use the test_loader for this."
   ]
  },
  {
   "cell_type": "code",
   "execution_count": 5,
   "metadata": {},
   "outputs": [
    {
     "name": "stdout",
     "output_type": "stream",
     "text": [
      "batch data: torch.Size([100, 1, 28, 28])\n"
     ]
    },
    {
     "data": {
      "image/png": "[encoded data removed]",
      "text/plain": [
       "<matplotlib.figure.Figure at 0x7fc521380400>"
      ]
     },
     "metadata": {},
     "output_type": "display_data"
    }
   ],
   "source": [
    "examples = enumerate(test_loader)\n",
    "batch_idx, (example_data, example_targets) = next(examples)\n",
    "\n",
    "# Let's see what one test data batch consists of\n",
    "# --> we have [batch_size] examples of 28x28 pixels in grayscale (i.e. no rgb channels, hence the one). \n",
    "print(\"batch data:\", example_data.shape)\n",
    "\n",
    "# Plot some examples with matplotlib\n",
    "fig = plt.figure()\n",
    "for i in range(6):\n",
    "  plt.subplot(2,3,i+1)\n",
    "  plt.tight_layout()\n",
    "  plt.imshow(example_data[i][0], cmap='gray', interpolation='none')\n",
    "  plt.title(\"Ground Truth: {}\".format(example_targets[i]))\n",
    "  plt.xticks([])\n",
    "  plt.yticks([])\n",
    "    \n",
    "plt.show()"
   ]
  },
  {
   "cell_type": "markdown",
   "metadata": {},
   "source": [
    "## Feedforward Neural Network Model using nn.Sequential\n",
    "\n",
    "Use the nn package to define our model as a sequence of layers. nn.Sequential is a Module which contains other Modules, and applies them in sequence to produce its output. Each Linear Module computes output from input using a linear function, and holds internal Tensors for its weight and bias."
   ]
  },
  {
   "cell_type": "code",
   "execution_count": 6,
   "metadata": {},
   "outputs": [],
   "source": [
    "class Flatten(nn.Module):\n",
    "    def __init__(self):\n",
    "        super().__init__()\n",
    "        \n",
    "    def forward(self, x):\n",
    "        return x.view(x.size(0), -1)"
   ]
  },
  {
   "cell_type": "code",
   "execution_count": 11,
   "metadata": {},
   "outputs": [],
   "source": [
    "class ConvNN(nn.Module):\n",
    "    def __init__(self):\n",
    "        super().__init__()\n",
    "        self.features = nn.Sequential(\n",
    "            nn.Conv2d(1, 16, 5, padding=2),\n",
    "            nn.BatchNorm2d(16),\n",
    "            nn.Dropout2d(0.3),\n",
    "            nn.LeakyReLU(0.05),\n",
    "            nn.MaxPool2d(3),\n",
    "            nn.Conv2d(16, 32, 3, padding=1),\n",
    "            nn.BatchNorm2d(32),\n",
    "            nn.Dropout2d(0.3),\n",
    "            nn.LeakyReLU(0.05),\n",
    "            nn.MaxPool2d(2),\n",
    "        )\n",
    "        self.convs = nn.ModuleList([nn.Sequential(\n",
    "            nn.Conv2d(32, 32, 3, padding=1),\n",
    "            nn.BatchNorm2d(32),\n",
    "            nn.Dropout2d(0.5),\n",
    "            nn.LeakyReLU(0.05)) for _ in range(10)])\n",
    "    \n",
    "        self.fc = nn.Sequential(\n",
    "            Flatten(),\n",
    "            nn.Linear(512, 256),\n",
    "            nn.BatchNorm1d(256),\n",
    "            nn.Dropout2d(0.5),\n",
    "            nn.LeakyReLU(0.03),\n",
    "            nn.Linear(256, 256),\n",
    "            nn.BatchNorm1d(256),\n",
    "            nn.Dropout2d(0.5),\n",
    "            nn.LeakyReLU(0.03),\n",
    "            nn.Linear(256, 10),\n",
    "        )\n",
    "        \n",
    "    def forward(self, x):\n",
    "        x = self.features(x)\n",
    "        for conv in self.convs:\n",
    "            x = x + conv(x)\n",
    "        return self.fc(x)"
   ]
  },
  {
   "cell_type": "markdown",
   "metadata": {},
   "source": [
    "## Enable GPU "
   ]
  },
  {
   "cell_type": "code",
   "execution_count": 17,
   "metadata": {},
   "outputs": [],
   "source": [
    "net = ConvNN().cuda()    # You can comment out this line to disable GPU"
   ]
  },
  {
   "cell_type": "markdown",
   "metadata": {},
   "source": [
    "## Choose the Loss Function and Optimizer"
   ]
  },
  {
   "cell_type": "code",
   "execution_count": 18,
   "metadata": {},
   "outputs": [],
   "source": [
    "criterion = nn.CrossEntropyLoss()\n",
    "optimizer = torch.optim.Adam(net.parameters())"
   ]
  },
  {
   "cell_type": "markdown",
   "metadata": {},
   "source": [
    "## Counters"
   ]
  },
  {
   "cell_type": "code",
   "execution_count": 19,
   "metadata": {},
   "outputs": [],
   "source": [
    "train_losses = []\n",
    "train_counter = []\n",
    "test_losses = []\n",
    "test_counter = [i*len(train_loader.dataset) for i in range(num_epochs + 1)]"
   ]
  },
  {
   "cell_type": "markdown",
   "metadata": {},
   "source": [
    "## Train the FNN Model\n",
    "\n",
    "Note: torch.nn only supports mini-batches. The entire torch.nn package only supports inputs that are a mini-batch of samples, and not a single sample. If you have a single sample, just use input.unsqueeze(0) to add a fake batch dimension."
   ]
  },
  {
   "cell_type": "code",
   "execution_count": 20,
   "metadata": {},
   "outputs": [
    {
     "data": {
      "text/plain": [
       "5"
      ]
     },
     "execution_count": 20,
     "metadata": {},
     "output_type": "execute_result"
    }
   ],
   "source": [
    "num_epochs"
   ]
  },
  {
   "cell_type": "code",
   "execution_count": null,
   "metadata": {
    "scrolled": true
   },
   "outputs": [
    {
     "name": "stdout",
     "output_type": "stream",
     "text": [
      "Epoch [1/5], Step [100/600], Loss: 0.8814\n",
      "Epoch [1/5], Step [200/600], Loss: 0.4144\n",
      "Epoch [1/5], Step [300/600], Loss: 0.2860\n",
      "Epoch [1/5], Step [400/600], Loss: 0.2486\n",
      "Epoch [1/5], Step [500/600], Loss: 0.2140\n",
      "Epoch [1/5], Step [600/600], Loss: 0.2391\n",
      "Epoch [2/5], Step [100/600], Loss: 0.1077\n",
      "Epoch [2/5], Step [200/600], Loss: 0.3042\n",
      "Epoch [2/5], Step [300/600], Loss: 0.3398\n",
      "Epoch [2/5], Step [400/600], Loss: 0.1505\n",
      "Epoch [2/5], Step [500/600], Loss: 0.2274\n",
      "Epoch [2/5], Step [600/600], Loss: 0.1106\n",
      "Epoch [3/5], Step [100/600], Loss: 0.2211\n",
      "Epoch [3/5], Step [200/600], Loss: 0.1397\n",
      "Epoch [3/5], Step [300/600], Loss: 0.0958\n",
      "Epoch [3/5], Step [400/600], Loss: 0.1908\n",
      "Epoch [3/5], Step [500/600], Loss: 0.0485\n",
      "Epoch [3/5], Step [600/600], Loss: 0.0964\n",
      "Epoch [4/5], Step [100/600], Loss: 0.1878\n",
      "Epoch [4/5], Step [200/600], Loss: 0.1508\n",
      "Epoch [4/5], Step [300/600], Loss: 0.1573\n",
      "Epoch [4/5], Step [400/600], Loss: 0.0837\n",
      "Epoch [4/5], Step [500/600], Loss: 0.0816\n",
      "Epoch [4/5], Step [600/600], Loss: 0.0427\n",
      "Epoch [5/5], Step [100/600], Loss: 0.1252\n",
      "Epoch [5/5], Step [200/600], Loss: 0.1200\n",
      "Epoch [5/5], Step [300/600], Loss: 0.1182\n",
      "Epoch [5/5], Step [400/600], Loss: 0.1278\n",
      "Epoch [5/5], Step [500/600], Loss: 0.0574\n",
      "Epoch [5/5], Step [600/600], Loss: 0.0369\n",
      "Epoch [6/5], Step [100/600], Loss: 0.0476\n",
      "Epoch [6/5], Step [200/600], Loss: 0.1300\n",
      "Epoch [6/5], Step [300/600], Loss: 0.0817\n",
      "Epoch [6/5], Step [400/600], Loss: 0.0743\n",
      "Epoch [6/5], Step [500/600], Loss: 0.1489\n",
      "Epoch [6/5], Step [600/600], Loss: 0.1224\n",
      "Epoch [7/5], Step [100/600], Loss: 0.1716\n",
      "Epoch [7/5], Step [200/600], Loss: 0.0461\n",
      "Epoch [7/5], Step [300/600], Loss: 0.1441\n",
      "Epoch [7/5], Step [400/600], Loss: 0.0403\n",
      "Epoch [7/5], Step [500/600], Loss: 0.0478\n",
      "Epoch [7/5], Step [600/600], Loss: 0.0822\n",
      "Epoch [8/5], Step [100/600], Loss: 0.0216\n",
      "Epoch [8/5], Step [200/600], Loss: 0.0469\n",
      "Epoch [8/5], Step [300/600], Loss: 0.2020\n",
      "Epoch [8/5], Step [400/600], Loss: 0.0531\n",
      "Epoch [8/5], Step [500/600], Loss: 0.0131\n",
      "Epoch [8/5], Step [600/600], Loss: 0.0448\n",
      "Epoch [9/5], Step [100/600], Loss: 0.0290\n",
      "Epoch [9/5], Step [200/600], Loss: 0.0141\n",
      "Epoch [9/5], Step [300/600], Loss: 0.0992\n",
      "Epoch [9/5], Step [400/600], Loss: 0.0961\n",
      "Epoch [9/5], Step [500/600], Loss: 0.1659\n",
      "Epoch [9/5], Step [600/600], Loss: 0.0428\n",
      "Epoch [10/5], Step [100/600], Loss: 0.1071\n",
      "Epoch [10/5], Step [200/600], Loss: 0.0568\n",
      "Epoch [10/5], Step [300/600], Loss: 0.0234\n",
      "Epoch [10/5], Step [400/600], Loss: 0.2046\n",
      "Epoch [10/5], Step [500/600], Loss: 0.0380\n",
      "Epoch [10/5], Step [600/600], Loss: 0.0354\n",
      "Epoch [11/5], Step [100/600], Loss: 0.0607\n",
      "Epoch [11/5], Step [200/600], Loss: 0.1051\n",
      "Epoch [11/5], Step [300/600], Loss: 0.0779\n",
      "Epoch [11/5], Step [400/600], Loss: 0.1292\n",
      "Epoch [11/5], Step [500/600], Loss: 0.0643\n",
      "Epoch [11/5], Step [600/600], Loss: 0.0491\n",
      "Epoch [12/5], Step [100/600], Loss: 0.0519\n",
      "Epoch [12/5], Step [200/600], Loss: 0.0215\n",
      "Epoch [12/5], Step [300/600], Loss: 0.0403\n",
      "Epoch [12/5], Step [400/600], Loss: 0.0794\n",
      "Epoch [12/5], Step [500/600], Loss: 0.0208\n",
      "Epoch [12/5], Step [600/600], Loss: 0.1673\n",
      "Epoch [13/5], Step [100/600], Loss: 0.0657\n",
      "Epoch [13/5], Step [200/600], Loss: 0.0568\n",
      "Epoch [13/5], Step [300/600], Loss: 0.1106\n",
      "Epoch [13/5], Step [400/600], Loss: 0.0286\n",
      "Epoch [13/5], Step [500/600], Loss: 0.0464\n"
     ]
    }
   ],
   "source": [
    "net.train()\n",
    "\n",
    "for epoch in range(100):\n",
    "    for i, (images, labels) in enumerate(train_loader):   # Load a batch of images with its (index, data, class)        \n",
    "        images, labels = images.cuda(), labels.cuda()\n",
    "        optimizer.zero_grad()                             # Intialize the hidden weight to all zeros\n",
    "        outputs = net(images)                             # Forward pass: compute the output class given a image\n",
    "        loss = criterion(outputs, labels)                 # Compute the loss: difference between the output class and the pre-given label\n",
    "        loss.backward()                                   # Backward pass: compute the weight\n",
    "        optimizer.step()                                  # Optimizer: update the weights of hidden nodes\n",
    "        \n",
    "        if (i+1) % 100 == 0:                              # Logging\n",
    "            print('Epoch [%d/%d], Step [%d/%d], Loss: %.4f'\n",
    "                 %(epoch+1, num_epochs, i+1, len(train_dataset)//batch_size, loss.item()))\n",
    "            \n",
    "        if (i+1) % 10 == 0:                              # keep track of loss value\n",
    "            train_losses.append(loss.item())\n",
    "            train_counter.append(((i+1)*batch_size) + ((epoch)*len(train_loader.dataset)))"
   ]
  },
  {
   "cell_type": "markdown",
   "metadata": {},
   "source": [
    "## Test the FNN Model"
   ]
  },
  {
   "cell_type": "markdown",
   "metadata": {},
   "source": [
    "Similar to training the neural network, we also need to load batches of test images and collect the outputs. The differences are that:\n",
    "* No loss & weights calculation\n",
    "* No weights update\n",
    "* Has correct prediction calculation"
   ]
  },
  {
   "cell_type": "code",
   "execution_count": 14,
   "metadata": {},
   "outputs": [
    {
     "name": "stdout",
     "output_type": "stream",
     "text": [
      "Accuracy of the network on the 10K test images: 99.48\n"
     ]
    }
   ],
   "source": [
    "net.eval()\n",
    "\n",
    "correct = 0\n",
    "total = 0\n",
    "for images, labels in test_loader:\n",
    "    images = images.cuda()\n",
    "    outputs = net(images).cpu()\n",
    "    _, predicted = torch.max(outputs.data, 1)  # Choose the best class from the output: The class with the best score\n",
    "    total += labels.size(0)                    # Increment the total count\n",
    "    correct += (predicted == labels).sum()     # Increment the correct count\n",
    "    \n",
    "print('Accuracy of the network on the 10K test images: {}'.format(100 * (correct.item() / total)))"
   ]
  },
  {
   "cell_type": "code",
   "execution_count": null,
   "metadata": {},
   "outputs": [],
   "source": []
  },
  {
   "cell_type": "markdown",
   "metadata": {},
   "source": [
    "## Evaluating the Model's Performance\n",
    "\n",
    "Show in a plot (using mathplotlib) the evolution of the loss as a function of the number of training example seen. "
   ]
  },
  {
   "cell_type": "code",
   "execution_count": 71,
   "metadata": {},
   "outputs": [
    {
     "data": {
      "image/png": "[encoded data removed]",
      "text/plain": [
       "<matplotlib.figure.Figure at 0x7f39c06ded68>"
      ]
     },
     "metadata": {},
     "output_type": "display_data"
    }
   ],
   "source": [
    "plt.plot(train_losses)\n",
    "plt.show()"
   ]
  },
  {
   "cell_type": "code",
   "execution_count": null,
   "metadata": {
    "collapsed": true
   },
   "outputs": [],
   "source": []
  }
 ],
 "metadata": {
  "kernelspec": {
   "display_name": "Python 3",
   "language": "python",
   "name": "python3"
  },
  "language_info": {
   "codemirror_mode": {
    "name": "ipython",
    "version": 3
   },
   "file_extension": ".py",
   "mimetype": "text/x-python",
   "name": "python",
   "nbconvert_exporter": "python",
   "pygments_lexer": "ipython3",
   "version": "3.7.4"
  }
 },
 "nbformat": 4,
 "nbformat_minor": 2
}
