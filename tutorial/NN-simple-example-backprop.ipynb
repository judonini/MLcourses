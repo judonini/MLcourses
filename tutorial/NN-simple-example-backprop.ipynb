{
 "cells": [
  {
   "cell_type": "markdown",
   "metadata": {},
   "source": [
    "## NN backpropagation"
   ]
  },
  {
   "cell_type": "code",
   "execution_count": 1,
   "metadata": {},
   "outputs": [],
   "source": [
    "import numpy as np\n",
    "import pandas as pd\n",
    "\n",
    "def sigmoid(x):\n",
    "    return 1/(1+np.exp(-x))\n",
    "\n",
    "def loss(y,t):\n",
    "    return (y-t)**2\n",
    "\n",
    "def dloss(y,t):\n",
    "    return 2*(y-t)\n",
    "\n",
    "def dsig(x):\n",
    "    return sigmoid(x)*sigmoid(1-x)\n"
   ]
  },
  {
   "cell_type": "code",
   "execution_count": 2,
   "metadata": {},
   "outputs": [],
   "source": [
    "# intitial weights\n",
    "x = np.array([0.2,0.3])\n",
    "W1 = np.array([[0.1,0.2],[0.3,0.4]])\n",
    "b1 = np.array([0.5,0.5])\n",
    "W2 = np.array([0.5,0.6])\n",
    "b2 = np.array([0.5])"
   ]
  },
  {
   "cell_type": "code",
   "execution_count": 3,
   "metadata": {},
   "outputs": [
    {
     "name": "stdout",
     "output_type": "stream",
     "text": [
      "s1 [0.58 0.68] x1 [0.64106741 0.6637387 ]\n",
      "s2 [1.21877692] x2 [0.77184824]\n"
     ]
    }
   ],
   "source": [
    "# Propagation\n",
    "def propagation(x,W1,b1,W2,b2):\n",
    "    s1 = np.matmul(W1,x) + b1\n",
    "    x1 = sigmoid(s1)\n",
    "    print('s1',s1,'x1',x1)\n",
    "    s2 = np.matmul(W2,x1) + b2\n",
    "    x2 = sigmoid(s2)\n",
    "    print('s2',s2,'x2',x2)\n",
    "    return s1,x1,s2,x2\n",
    "\n",
    "s1,x1,s2,x2 = propagation(x,W1,b1,W2,b2)"
   ]
  },
  {
   "cell_type": "code",
   "execution_count": 4,
   "metadata": {},
   "outputs": [
    {
     "name": "stdout",
     "output_type": "stream",
     "text": [
      "dl/dW2 =  [0.34030438 0.35233922]\n",
      "dl/db2 =  [0.53084025]\n",
      "dl/dW1 = \n",
      " [[0.0205368  0.0308052 ]\n",
      " [0.02449424 0.03674136]]\n",
      "dl/db1 = \n",
      " [0.102684   0.12247119]\n"
     ]
    }
   ],
   "source": [
    "# backpropagation\n",
    "\n",
    "t = 0 # target\n",
    "y = x2\n",
    "\n",
    "dW2 = dloss(y,t) * dsig(s2)*x1\n",
    "print('dl/dW2 = ',dW2)\n",
    "\n",
    "db2 = dloss(y,t) * dsig(s2)\n",
    "print('dl/db2 = ',db2)\n",
    "\n",
    "dW  = dloss(y,t) * dsig(s2) * W2 * dsig(s1)\n",
    "dW1 = dW.reshape(2,1).dot(x.reshape(1,2))\n",
    "print('dl/dW1 = \\n',dW1)\n",
    "\n",
    "db1 = dW\n",
    "print('dl/db1 = \\n',db1)\n"
   ]
  },
  {
   "cell_type": "code",
   "execution_count": 5,
   "metadata": {},
   "outputs": [
    {
     "name": "stdout",
     "output_type": "stream",
     "text": [
      "W1 [[0.0794632  0.1691948 ]\n",
      " [0.27550576 0.36325864]]\n",
      "W2 [0.15969562 0.24766078]\n",
      "b1 [0.397316   0.37752881]\n",
      "b2 [-0.03084025]\n"
     ]
    }
   ],
   "source": [
    "# Updated weights\n",
    "eta = 1\n",
    "W1 -= eta*dW1\n",
    "W2 -= eta*dW2\n",
    "b1 -= eta*db1\n",
    "b2 -= eta*db2\n",
    "\n",
    "print('W1',W1)\n",
    "print('W2',W2)\n",
    "print('b1',b1)\n",
    "print('b2',b2)"
   ]
  },
  {
   "cell_type": "code",
   "execution_count": 6,
   "metadata": {},
   "outputs": [
    {
     "name": "stdout",
     "output_type": "stream",
     "text": [
      "s1 [0.46396708 0.54160755] x1 [0.61395486 0.6321863 ]\n",
      "s2 [0.2237734] x2 [0.55571107]\n"
     ]
    }
   ],
   "source": [
    "s1,x1,s2,x2 = propagation(x,W1,b1,W2,b2)"
   ]
  },
  {
   "cell_type": "code",
   "execution_count": null,
   "metadata": {},
   "outputs": [],
   "source": []
  }
 ],
 "metadata": {
  "kernelspec": {
   "display_name": "Python 3",
   "language": "python",
   "name": "python3"
  },
  "language_info": {
   "codemirror_mode": {
    "name": "ipython",
    "version": 3
   },
   "file_extension": ".py",
   "mimetype": "text/x-python",
   "name": "python",
   "nbconvert_exporter": "python",
   "pygments_lexer": "ipython3",
   "version": "3.6.6"
  }
 },
 "nbformat": 4,
 "nbformat_minor": 2
}
