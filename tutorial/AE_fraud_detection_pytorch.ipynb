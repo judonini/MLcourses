{
 "cells": [
  {
   "cell_type": "markdown",
   "metadata": {},
   "source": [
    "# Autoencoder for credit card detection (Pytorch)\n",
    "\n",
    "See example here: \n",
    "\n",
    "* This example: https://github.com/curiousily/Credit-Card-Fraud-Detection-using-Autoencoders-in-Keras/blob/master/fraud_detection.ipynb\n",
    "\n",
    "* Another example: https://github.com/GitiHubi/deepAI/blob/master/GTC_2018_Lab.ipynb\n"
   ]
  },
  {
   "cell_type": "markdown",
   "metadata": {},
   "source": [
    "## Setup"
   ]
  },
  {
   "cell_type": "code",
   "execution_count": 1,
   "metadata": {},
   "outputs": [
    {
     "name": "stdout",
     "output_type": "stream",
     "text": [
      "3.6.6 |Anaconda, Inc.| (default, Jun 28 2018, 17:14:51) \n",
      "[GCC 7.2.0]\n",
      "<module 'torch.version' from '/home/donini/anaconda3/lib/python3.6/site-packages/torch/version.py'>\n",
      "cuda: 9.0.176\n",
      "\n",
      "Enable gpu\n"
     ]
    }
   ],
   "source": [
    "import matplotlib.pyplot as plt\n",
    "%matplotlib inline\n",
    "import numpy as np\n",
    "import seaborn as sns\n",
    "\n",
    "from scipy import stats\n",
    "from sklearn.utils import shuffle\n",
    "\n",
    "import pandas as pd\n",
    "\n",
    "from sklearn.preprocessing import StandardScaler, RobustScaler, MinMaxScaler, Normalizer, QuantileTransformer, MaxAbsScaler\n",
    "\n",
    "import torch\n",
    "import torch.nn as nn\n",
    "import torchvision.datasets as dsets\n",
    "import torchvision.transforms as transforms\n",
    "from torch.autograd import Variable\n",
    "import torch.nn.functional as F\n",
    "\n",
    "import sys\n",
    "print(sys.version)\n",
    "print(torch.version)\n",
    "print('cuda:',torch.version.cuda)\n",
    "\n",
    "# Choose cpu/gpu\n",
    "use_gpu=1\n",
    "if (use_gpu):\n",
    "    print('\\nEnable gpu')\n",
    "    dtype = torch.cuda.FloatTensor\n",
    "    device = torch.device(\"cuda\") # Uncomment this to run on GPU\n",
    "    \n",
    "else:\n",
    "    print('\\nRun on cpu')\n",
    "    dtype = torch.FloatTensor\n",
    "    device = torch.device(\"cpu\")\n"
   ]
  },
  {
   "cell_type": "markdown",
   "metadata": {},
   "source": [
    "## Hyperparameters"
   ]
  },
  {
   "cell_type": "code",
   "execution_count": 2,
   "metadata": {},
   "outputs": [
    {
     "data": {
      "text/plain": [
       "'\\nAUC=0.9624\\nDistance > 0.55\\nFalse positive rate = 0.20 %\\nTrue positive rate = 62.60 %\\n'"
      ]
     },
     "execution_count": 2,
     "metadata": {},
     "output_type": "execute_result"
    }
   ],
   "source": [
    "num_epochs = 500\n",
    "batch_size = 2048\n",
    "hidden_layer1 = 100\n",
    "hidden_layer2 = 100\n",
    "encoding_dim = 15\n",
    "\n",
    "'''\n",
    "AUC=0.9624\n",
    "Distance > 0.55\n",
    "False positive rate = 0.20 %\n",
    "True positive rate = 62.60 %\n",
    "'''"
   ]
  },
  {
   "cell_type": "markdown",
   "metadata": {},
   "source": [
    "## Get Data\n",
    "\n",
    "The dataset we're going to use can be downloaded from [Kaggle](https://www.kaggle.com/mlg-ulb/creditcardfraud). It contains data about credit card transactions that occurred during a period of two days, with 492 frauds out of 284,807 transactions.\n",
    "\n",
    "All variables in the dataset are numerical. The data has been transformed using PCA transformation(s) due to privacy reasons. The two features that haven't been changed are Time and Amount. Time contains the seconds elapsed between each transaction and the first transaction in the dataset."
   ]
  },
  {
   "cell_type": "code",
   "execution_count": 3,
   "metadata": {},
   "outputs": [
    {
     "name": "stdout",
     "output_type": "stream",
     "text": [
      "   Time        V1        V2        V3        V4        V5        V6        V7  \\\n",
      "0   0.0 -1.359807 -0.072781  2.536347  1.378155 -0.338321  0.462388  0.239599   \n",
      "1   0.0  1.191857  0.266151  0.166480  0.448154  0.060018 -0.082361 -0.078803   \n",
      "2   1.0 -1.358354 -1.340163  1.773209  0.379780 -0.503198  1.800499  0.791461   \n",
      "3   1.0 -0.966272 -0.185226  1.792993 -0.863291 -0.010309  1.247203  0.237609   \n",
      "4   2.0 -1.158233  0.877737  1.548718  0.403034 -0.407193  0.095921  0.592941   \n",
      "5   2.0 -0.425966  0.960523  1.141109 -0.168252  0.420987 -0.029728  0.476201   \n",
      "6   4.0  1.229658  0.141004  0.045371  1.202613  0.191881  0.272708 -0.005159   \n",
      "7   7.0 -0.644269  1.417964  1.074380 -0.492199  0.948934  0.428118  1.120631   \n",
      "8   7.0 -0.894286  0.286157 -0.113192 -0.271526  2.669599  3.721818  0.370145   \n",
      "9   9.0 -0.338262  1.119593  1.044367 -0.222187  0.499361 -0.246761  0.651583   \n",
      "\n",
      "         V8        V9  ...         V21       V22       V23       V24  \\\n",
      "0  0.098698  0.363787  ...   -0.018307  0.277838 -0.110474  0.066928   \n",
      "1  0.085102 -0.255425  ...   -0.225775 -0.638672  0.101288 -0.339846   \n",
      "2  0.247676 -1.514654  ...    0.247998  0.771679  0.909412 -0.689281   \n",
      "3  0.377436 -1.387024  ...   -0.108300  0.005274 -0.190321 -1.175575   \n",
      "4 -0.270533  0.817739  ...   -0.009431  0.798278 -0.137458  0.141267   \n",
      "5  0.260314 -0.568671  ...   -0.208254 -0.559825 -0.026398 -0.371427   \n",
      "6  0.081213  0.464960  ...   -0.167716 -0.270710 -0.154104 -0.780055   \n",
      "7 -3.807864  0.615375  ...    1.943465 -1.015455  0.057504 -0.649709   \n",
      "8  0.851084 -0.392048  ...   -0.073425 -0.268092 -0.204233  1.011592   \n",
      "9  0.069539 -0.736727  ...   -0.246914 -0.633753 -0.120794 -0.385050   \n",
      "\n",
      "        V25       V26       V27       V28  Amount  Class  \n",
      "0  0.128539 -0.189115  0.133558 -0.021053  149.62      0  \n",
      "1  0.167170  0.125895 -0.008983  0.014724    2.69      0  \n",
      "2 -0.327642 -0.139097 -0.055353 -0.059752  378.66      0  \n",
      "3  0.647376 -0.221929  0.062723  0.061458  123.50      0  \n",
      "4 -0.206010  0.502292  0.219422  0.215153   69.99      0  \n",
      "5 -0.232794  0.105915  0.253844  0.081080    3.67      0  \n",
      "6  0.750137 -0.257237  0.034507  0.005168    4.99      0  \n",
      "7 -0.415267 -0.051634 -1.206921 -1.085339   40.80      0  \n",
      "8  0.373205 -0.384157  0.011747  0.142404   93.20      0  \n",
      "9 -0.069733  0.094199  0.246219  0.083076    3.68      0  \n",
      "\n",
      "[10 rows x 31 columns]\n"
     ]
    }
   ],
   "source": [
    "# Load data\n",
    "df = pd.read_csv(\"data/creditcard.csv\")\n",
    "\n",
    "# Print fisrt 10 entries\n",
    "print(df[:10])"
   ]
  },
  {
   "cell_type": "markdown",
   "metadata": {},
   "source": [
    "## Construct train and test samples"
   ]
  },
  {
   "cell_type": "code",
   "execution_count": 4,
   "metadata": {},
   "outputs": [
    {
     "name": "stdout",
     "output_type": "stream",
     "text": [
      "bg all= (284315, 30) sig all= (492, 30) x_train= (142157, 30) x_test_back= (142157, 30) x_test_signal= (492, 30)\n"
     ]
    }
   ],
   "source": [
    "# Get events for each class\n",
    "#--------------------------\n",
    "signal_sel = df[df['Class']==1]      # Signal = Fraud\n",
    "background_sel = df[df['Class']==0]  # Background = Normal transactions\n",
    "\n",
    "# Remove target (not needed)\n",
    "drop=['Class']\n",
    "signal_sel = signal_sel.drop(columns=drop)\n",
    "background_sel = background_sel.drop(columns=drop)\n",
    "\n",
    "# Shuffle samples \n",
    "#----------------\n",
    "back = shuffle(background_sel)\n",
    "sig  = shuffle(signal_sel)\n",
    "\n",
    "varname = list(signal_sel)\n",
    "\n",
    "# Separate Background in two (train and test)\n",
    "Nb = back.shape[0]//2\n",
    "x_train = back[0:Nb]\n",
    "x_test_back = back[Nb+1:]\n",
    "\n",
    "# test signal (=fraud)\n",
    "x_test_signal = sig\n",
    "\n",
    "# Combine test sample (Normal + Fraud)\n",
    "x_test = pd.concat([x_test_back,x_test_signal])\n",
    "\n",
    "print('bg all=', background_sel.shape, 'sig all=', signal_sel.shape, 'x_train=', x_train.shape,  'x_test_back=', x_test_back.shape, 'x_test_signal=', x_test_signal.shape)\n"
   ]
  },
  {
   "cell_type": "markdown",
   "metadata": {},
   "source": [
    "### Look at data"
   ]
  },
  {
   "cell_type": "raw",
   "metadata": {},
   "source": [
    "# plots\n",
    "#bins = np.arange(-2, 2, 0.01)\n",
    "\n",
    "print(\"Original Images\")\n",
    "plt.figure(figsize=(20, 18))\n",
    "for i in range(x_test_signal.shape[1]):\n",
    "    plt.subplot(5, 6, i+1)\n",
    "    n, bins, patches = plt.hist(x_train.values[:,i], bins='auto', color = 'orange', alpha=0.5, label='Normal', normed=1)\n",
    "    plt.hist(x_test_signal.values[:,i], bins, alpha=0.5, label='Fraud', normed=1)\n",
    "    plt.xlabel(varname[i])\n",
    "    plt.legend(loc='best')\n",
    "    \n",
    "plt.savefig('images/Original_variables_all.png')\n"
   ]
  },
  {
   "cell_type": "code",
   "execution_count": 5,
   "metadata": {},
   "outputs": [
    {
     "data": {
      "text/plain": [
       "Text(0.5,0,'V11')"
      ]
     },
     "execution_count": 5,
     "metadata": {},
     "output_type": "execute_result"
    },
    {
     "data": {
      "image/png": "[encoded data removed]",
      "text/plain": [
       "<matplotlib.figure.Figure at 0x7f82ecdbf160>"
      ]
     },
     "metadata": {},
     "output_type": "display_data"
    }
   ],
   "source": [
    "# Make box plots\n",
    "# See: https://matplotlib.org/3.1.1/gallery/pyplots/boxplot_demo_pyplot.html#sphx-glr-gallery-pyplots-boxplot-demo-pyplot-py\n",
    "# https://towardsdatascience.com/understanding-boxplots-5e2df7bcbd51\n",
    "\n",
    "ind=11\n",
    "\n",
    "plt.figure(figsize=(14, 5))\n",
    "\n",
    "plt.subplot(1, 2, 1)\n",
    "n, bins, patches = plt.hist(x_train.values[:,ind],bins='auto', color = 'orange', alpha=0.5, label='Normal', normed=1)\n",
    "plt.hist(x_test_signal.values[:,ind], bins, alpha=0.5, label='Fraud', normed=1)\n",
    "plt.xlabel(varname[ind])\n",
    "plt.legend(loc='best',fontsize=16)\n",
    "    \n",
    "plt.subplot(1, 2, 2)\n",
    "data=[x_train.values[:,ind],x_test_signal.values[:,ind]]\n",
    "#data=[x_test_signal.values[:,ind]]\n",
    "plt.boxplot(data)\n",
    "plt.xticks([1, 2], ['Normal', 'Fraud'])\n",
    "plt.xlabel(varname[ind])\n",
    "\n"
   ]
  },
  {
   "cell_type": "code",
   "execution_count": 6,
   "metadata": {},
   "outputs": [
    {
     "data": {
      "text/plain": [
       "Text(0.5,0,'V11')"
      ]
     },
     "execution_count": 6,
     "metadata": {},
     "output_type": "execute_result"
    },
    {
     "data": {
      "image/png": "[encoded data removed]",
      "text/plain": [
       "<matplotlib.figure.Figure at 0x7f82e8c1dbe0>"
      ]
     },
     "metadata": {},
     "output_type": "display_data"
    }
   ],
   "source": [
    "# Make box plots\n",
    "# See: https://matplotlib.org/3.1.1/gallery/pyplots/boxplot_demo_pyplot.html#sphx-glr-gallery-pyplots-boxplot-demo-pyplot-py\n",
    "# https://towardsdatascience.com/understanding-boxplots-5e2df7bcbd51\n",
    "\n",
    "ind=11\n",
    "\n",
    "plt.figure(figsize=(14, 5))\n",
    "\n",
    "plt.subplot(1, 2, 1)\n",
    "n, bins, patches = plt.hist(x_train.values[:,ind], bins='auto', color = 'orange', alpha=0.5, label='Train', normed=1,log=False)\n",
    "plt.hist(x_test.values[:,ind], bins, alpha=0.5, label='Test', normed=1)\n",
    "plt.xlabel(varname[ind])\n",
    "plt.legend(loc='best',fontsize=16)\n",
    "    \n",
    "plt.subplot(1, 2, 2)\n",
    "data=[x_train.values[:,ind],x_test.values[:,ind]]\n",
    "#data=[x_test_signal.values[:,ind]]\n",
    "plt.boxplot(data,vert=False)\n",
    "plt.yticks([1, 2], ['Train', 'Test'])\n",
    "plt.xlabel(varname[ind])\n",
    "\n"
   ]
  },
  {
   "cell_type": "markdown",
   "metadata": {},
   "source": [
    "## Rescale data"
   ]
  },
  {
   "cell_type": "code",
   "execution_count": 7,
   "metadata": {},
   "outputs": [
    {
     "name": "stdout",
     "output_type": "stream",
     "text": [
      "Trial sample size:  (492, 30)\n",
      "Benchmark sample size:  (142157, 30)\n"
     ]
    }
   ],
   "source": [
    "# Rescale data\n",
    "#-------------\n",
    "scaler = MinMaxScaler()\n",
    "#scaler = StandardScaler()\n",
    "#scaler = RobustScaler()\n",
    "#scaler = Normalizer()\n",
    "#scaler = QuantileTransformer(output_distribution='normal', random_state=0)\n",
    "#scaler = MaxAbsScaler()\n",
    "\n",
    "# fit (get min and max) and transform x_train\n",
    "x_train = scaler.fit_transform(x_train)\n",
    "\n",
    "# transform x_test (using scale parameters of x_train)\n",
    "x_test_back = scaler.transform(x_test_back)\n",
    "x_test_signal = scaler.transform(x_test_signal)\n",
    "x_test = scaler.transform(x_test)\n",
    "\n",
    "print('Trial sample size: ',x_test_signal.shape)\n",
    "print('Benchmark sample size: ',x_train.shape)"
   ]
  },
  {
   "cell_type": "raw",
   "metadata": {},
   "source": [
    "# Show variables after rescaling\n",
    "\n",
    "print(\"Rescaled Images\")\n",
    "plt.figure(figsize=(20, 18))\n",
    "for i in range(x_test_signal.shape[1]):\n",
    "    plt.subplot(5, 6, i+1)\n",
    "    n, bins, patches = plt.hist(x_train[:,i], bins='auto', color = 'orange', alpha=0.5, label='Train', normed=1)\n",
    "    plt.hist(x_test_signal[:,i], bins, alpha=0.5, label='Test', normed=1)\n",
    "    plt.xlabel(varname[i])\n",
    "    plt.legend(loc='best')\n",
    "    \n",
    "plt.savefig('images/Rescaled_variables.png')\n"
   ]
  },
  {
   "cell_type": "markdown",
   "metadata": {},
   "source": [
    "## Partition training data"
   ]
  },
  {
   "cell_type": "code",
   "execution_count": 8,
   "metadata": {},
   "outputs": [
    {
     "name": "stdout",
     "output_type": "stream",
     "text": [
      "(113725, 30)\n",
      "(28432, 30)\n"
     ]
    }
   ],
   "source": [
    "# After all of this, it's important to partition the data. In order for your model to generalize well, \n",
    "# you split the training data into two parts: a training and a validation set. \n",
    "# You will train your model on 80% of the data and validate it on 20% of the remaining training data. \n",
    "\n",
    "from sklearn.model_selection import train_test_split\n",
    "\n",
    "x_train_train,x_train_valid = train_test_split(x_train,test_size=0.2,random_state=13) \n",
    "print(x_train_train.shape)\n",
    "print(x_train_valid.shape)"
   ]
  },
  {
   "cell_type": "markdown",
   "metadata": {},
   "source": [
    "# Load the Dataset\n",
    "We shuffle the loading process of train_dataset to make the learning process independent of data orderness, but the order of test_loader remains to examine whether we can handle unspecified bias order of inputs."
   ]
  },
  {
   "cell_type": "code",
   "execution_count": 9,
   "metadata": {},
   "outputs": [],
   "source": [
    "\n",
    "# For training on background samples\n",
    "train_loader = torch.utils.data.DataLoader(dataset=x_train_train,\n",
    "                                          batch_size=batch_size,\n",
    "                                          shuffle=True)\n",
    "\n",
    "valid_loader = torch.utils.data.DataLoader(dataset=x_train_valid,\n",
    "                                          batch_size=batch_size,\n",
    "                                          shuffle=True)\n",
    "\n",
    "# For testing on signal (shuffle=False)\n",
    "test_loader = torch.utils.data.DataLoader(dataset=x_test_signal,\n",
    "                                          batch_size=batch_size,\n",
    "                                          shuffle=False)\n",
    "\n",
    "# For testing on all training sample (shuffle=False)\n",
    "train_all_loader = torch.utils.data.DataLoader(dataset=x_train,\n",
    "                                          batch_size=batch_size,\n",
    "                                          shuffle=False)\n",
    "\n",
    "# For testing on unseen background sample (shuffle=False)\n",
    "test_bg_loader = torch.utils.data.DataLoader(dataset=x_test_back,\n",
    "                                          batch_size=batch_size,\n",
    "                                          shuffle=False)\n"
   ]
  },
  {
   "cell_type": "markdown",
   "metadata": {},
   "source": [
    "# AutoEncoder model\n"
   ]
  },
  {
   "cell_type": "code",
   "execution_count": 10,
   "metadata": {},
   "outputs": [],
   "source": [
    "input_dim = x_train.shape[1]\n",
    "\n",
    "class autoencoder(nn.Module):\n",
    "    def __init__(self):\n",
    "        super(autoencoder, self).__init__()\n",
    "        self.encoder = nn.Sequential(\n",
    "            nn.Linear(input_dim, hidden_layer1),\n",
    "            nn.Sigmoid(),\n",
    "            nn.Linear(hidden_layer1, hidden_layer2),\n",
    "            nn.Sigmoid(),\n",
    "            nn.Linear(hidden_layer2, encoding_dim),\n",
    "            nn.Sigmoid()\n",
    "        )\n",
    "        self.decoder = nn.Sequential(\n",
    "            nn.Linear(encoding_dim, hidden_layer2),\n",
    "            nn.Sigmoid(),\n",
    "            nn.Linear(hidden_layer2, hidden_layer1),\n",
    "            nn.Sigmoid(),\n",
    "            nn.Linear(hidden_layer1,input_dim),\n",
    "            #nn.Sigmoid()\n",
    "        )\n",
    "\n",
    "    def forward(self, x):\n",
    "        x = self.encoder(x)\n",
    "        x = self.decoder(x)\n",
    "        return x\n",
    "\n",
    "    \n",
    "# Settings\n",
    "if (use_gpu):\n",
    "    model = autoencoder().cuda() # enable GPU\n",
    "else:\n",
    "    model = autoencoder()\n"
   ]
  },
  {
   "cell_type": "markdown",
   "metadata": {},
   "source": [
    "# Training on Background samples\n"
   ]
  },
  {
   "cell_type": "code",
   "execution_count": 11,
   "metadata": {},
   "outputs": [
    {
     "name": "stdout",
     "output_type": "stream",
     "text": [
      "epoch [1/500], train loss:0.0049, validation loss:0.0049\n",
      "epoch [50/500], train loss:0.0019, validation loss:0.0020\n",
      "epoch [100/500], train loss:0.0017, validation loss:0.0017\n",
      "epoch [150/500], train loss:0.0014, validation loss:0.0014\n",
      "epoch [200/500], train loss:0.0012, validation loss:0.0013\n",
      "epoch [250/500], train loss:0.0011, validation loss:0.0011\n",
      "epoch [300/500], train loss:0.0010, validation loss:0.0010\n",
      "epoch [350/500], train loss:0.0009, validation loss:0.0009\n",
      "epoch [400/500], train loss:0.0008, validation loss:0.0008\n",
      "epoch [450/500], train loss:0.0008, validation loss:0.0008\n",
      "epoch [500/500], train loss:0.0007, validation loss:0.0007\n",
      "Final train loss value: 0.0007\n"
     ]
    },
    {
     "data": {
      "image/png": "[encoded data removed]",
      "text/plain": [
       "<matplotlib.figure.Figure at 0x7f82e84457b8>"
      ]
     },
     "metadata": {},
     "output_type": "display_data"
    }
   ],
   "source": [
    "# Loss function: https://pytorch.org/docs/master/nn.html#loss-functions\n",
    "criterion = nn.MSELoss()\n",
    "#criterion = nn.L1Loss()\n",
    "\n",
    "# Optimizer: https://pytorch.org/docs/stable/optim.html\n",
    "learning_rate = 0.001  # default is 0.001\n",
    "#l2_norm       = 1e-3   # L2 norm regularization (0 is no regularization)\n",
    "l2_norm       = 0   # L2 norm regularization (0 is no regularization)\n",
    "optimizer = torch.optim.Adam(model.parameters(),lr=learning_rate, weight_decay = l2_norm)\n",
    "\n",
    "# Train\n",
    "train_loss = []\n",
    "valid_loss = []\n",
    "\n",
    "for epoch in range(num_epochs):\n",
    "    \n",
    "    ###################\n",
    "    # train the model #\n",
    "    ###################\n",
    "    model.train() # prep model for training\n",
    "    for data in train_loader:\n",
    "        data = data.type(dtype)\n",
    "        \n",
    "        output = model(data)\n",
    "                \n",
    "        loss = criterion(output, data)\n",
    "        optimizer.zero_grad()\n",
    "        loss.backward()\n",
    "        optimizer.step()\n",
    "\n",
    "    # record train loss\n",
    "    train_loss.append(loss.item())\n",
    "\n",
    "    ######################    \n",
    "    # validate the model #\n",
    "    ######################\n",
    "    model.eval() # prep model for evaluation\n",
    "    for data in valid_loader:\n",
    "        data = data.type(dtype)\n",
    "        output = model(data)\n",
    "        loss = criterion(output, data)\n",
    "        \n",
    "    # record validation loss\n",
    "    valid_loss.append(loss.item())    \n",
    "    \n",
    "    if (epoch==0 or (epoch+1)%50==0):\n",
    "        print('epoch [{}/{}], train loss:{:.4f}, validation loss:{:.4f}'.format(epoch + 1, num_epochs, train_loss[-1],valid_loss[-1]))\n",
    "    \n",
    "print('Final train loss value: %.4f' % train_loss[-1])\n",
    "\n",
    "# Plot model performance\n",
    "epochs = range(num_epochs)\n",
    "plt.figure()\n",
    "plt.plot(epochs, train_loss, 'bo', label='Training loss')\n",
    "plt.plot(epochs, valid_loss, 'r-', label='Validation loss')\n",
    "plt.title('Training and validation losses')\n",
    "plt.legend()\n",
    "plt.savefig('images/loss.png')"
   ]
  },
  {
   "cell_type": "markdown",
   "metadata": {},
   "source": [
    "## Load existing model (optional)"
   ]
  },
  {
   "cell_type": "raw",
   "metadata": {},
   "source": [
    "#model.load_state_dict(torch.load('models/AE_fraud_model_%d_%d_%d.pkl' % (hidden_layer1,hidden_layer2,encoding_dim)))\n",
    "model.load_state_dict(torch.load('models/AE_fraud_model_%d_%d_%d_%d.pkl' % (hidden_layer1,hidden_layer2,encoding_dim,batch_size)))"
   ]
  },
  {
   "cell_type": "markdown",
   "metadata": {},
   "source": [
    "## Calculate distances on test and train data\n",
    "Calculate L2 norm of train and test samples\n"
   ]
  },
  {
   "cell_type": "code",
   "execution_count": 12,
   "metadata": {},
   "outputs": [
    {
     "data": {
      "text/plain": [
       "autoencoder(\n",
       "  (encoder): Sequential(\n",
       "    (0): Linear(in_features=30, out_features=100, bias=True)\n",
       "    (1): Sigmoid()\n",
       "    (2): Linear(in_features=100, out_features=100, bias=True)\n",
       "    (3): Sigmoid()\n",
       "    (4): Linear(in_features=100, out_features=15, bias=True)\n",
       "    (5): Sigmoid()\n",
       "  )\n",
       "  (decoder): Sequential(\n",
       "    (0): Linear(in_features=15, out_features=100, bias=True)\n",
       "    (1): Sigmoid()\n",
       "    (2): Linear(in_features=100, out_features=100, bias=True)\n",
       "    (3): Sigmoid()\n",
       "    (4): Linear(in_features=100, out_features=30, bias=True)\n",
       "  )\n",
       ")"
      ]
     },
     "execution_count": 12,
     "metadata": {},
     "output_type": "execute_result"
    }
   ],
   "source": [
    "model.eval() # Sets the module in evaluation mode.\n",
    "model.cpu()  # Moves all model parameters and buffers to the CPU to avoid out of memory"
   ]
  },
  {
   "cell_type": "code",
   "execution_count": 13,
   "metadata": {},
   "outputs": [],
   "source": [
    "# Training sample = Normal\n",
    "train_encoded = []\n",
    "train_decoded = []\n",
    "train_norm = []\n",
    "\n",
    "for data in train_all_loader:\n",
    "    data = data.type(dtype).cpu().detach()\n",
    "    train_encoded += [model.encoder(data)]\n",
    "    train_decoded += [model(data)]\n",
    "    train_norm    += [model(data) - data]\n",
    "\n",
    "train_latence = torch.cat(train_encoded).cpu().detach().numpy()\n",
    "train_output  = torch.cat(train_decoded).cpu().detach().numpy()\n",
    "train_distance = torch.norm(torch.cat(train_norm),dim=1)"
   ]
  },
  {
   "cell_type": "code",
   "execution_count": 14,
   "metadata": {},
   "outputs": [],
   "source": [
    "# Test signal sample = Fraud\n",
    "\n",
    "test_encoded = []\n",
    "test_decoded = []\n",
    "test_norm = []\n",
    "\n",
    "for data in test_loader:\n",
    "    data = data.type(dtype).cpu().detach()\n",
    "    #data = data.type(dtype)\n",
    "    test_encoded += [model.encoder(data)]\n",
    "    test_decoded += [model(data)]\n",
    "    test_norm    += [model(data) - data]\n",
    "\n",
    "test_latence = torch.cat(test_encoded).cpu().detach().numpy()\n",
    "test_output  = torch.cat(test_decoded).cpu().detach().numpy()\n",
    "test_distance = torch.norm(torch.cat(test_norm),dim=1)"
   ]
  },
  {
   "cell_type": "code",
   "execution_count": 15,
   "metadata": {},
   "outputs": [],
   "source": [
    "# Test background sample = Normal\n",
    "\n",
    "test_bg_encoded = []\n",
    "test_bg_decoded = []\n",
    "test_bg_norm = []\n",
    "\n",
    "for data in test_bg_loader:\n",
    "    data = data.type(dtype).cpu().detach()\n",
    "    #data = data.type(dtype)\n",
    "    test_bg_encoded += [model.encoder(data)]\n",
    "    test_bg_decoded += [model(data)]\n",
    "    test_bg_norm    += [model(data) - data]\n",
    "\n",
    "test_bg_latence = torch.cat(test_bg_encoded).cpu().detach().numpy()\n",
    "test_bg_output  = torch.cat(test_bg_decoded).cpu().detach().numpy()\n",
    "test_bg_distance = torch.norm(torch.cat(test_bg_norm),dim=1)"
   ]
  },
  {
   "cell_type": "code",
   "execution_count": 16,
   "metadata": {},
   "outputs": [],
   "source": [
    "# Convert tensors to numpy arrays\n",
    "norm_test  = test_distance.cpu().detach().numpy()\n",
    "norm_train = train_distance.cpu().detach().numpy()\n",
    "norm_test_bg  = test_bg_distance.cpu().detach().numpy()\n",
    "\n",
    "# All test sample (Normal + Fraud)\n",
    "norm_test_all = np.concatenate((norm_test_bg,norm_test))"
   ]
  },
  {
   "cell_type": "markdown",
   "metadata": {},
   "source": [
    "## Show plot of distances\n"
   ]
  },
  {
   "cell_type": "code",
   "execution_count": 17,
   "metadata": {},
   "outputs": [
    {
     "data": {
      "image/png": "[encoded data removed]",
      "text/plain": [
       "<matplotlib.figure.Figure at 0x7f82e785acc0>"
      ]
     },
     "metadata": {},
     "output_type": "display_data"
    }
   ],
   "source": [
    "bins = np.arange(0, 2, 0.01)\n",
    "plt.figure(figsize=(7, 7))\n",
    "n, bins, patches = plt.hist(norm_test_all, bins=bins, alpha=0.5, label='Test', normed=1, log=True)\n",
    "#plt.hist(norm_train, bins, alpha=0.5, label='Normal (train)', normed=1)\n",
    "plt.hist(norm_train, bins, alpha=0.5, label='Train (Normal)', normed=1)\n",
    "plt.xlabel('distance',fontsize=16)\n",
    "plt.legend(loc='upper right',fontsize=16)\n",
    "plt.savefig(\"images/distances.png\")"
   ]
  },
  {
   "cell_type": "code",
   "execution_count": 18,
   "metadata": {},
   "outputs": [
    {
     "data": {
      "image/png": "[encoded data removed]",
      "text/plain": [
       "<matplotlib.figure.Figure at 0x7f82dd36ed30>"
      ]
     },
     "metadata": {},
     "output_type": "display_data"
    }
   ],
   "source": [
    "bins = np.arange(0, 2, 0.01)\n",
    "plt.figure(figsize=(7, 7))\n",
    "n, bins, patches = plt.hist(norm_test, bins=bins, alpha=0.5, label='Fraud', normed=1, log=True)\n",
    "#plt.hist(norm_train, bins, alpha=0.5, label='Normal (train)', normed=1)\n",
    "plt.hist(norm_test_bg, bins, alpha=0.5, label='Normal', normed=1)\n",
    "plt.xlabel('distance')\n",
    "plt.legend(loc='upper right',fontsize=16)\n",
    "plt.title('Test sample')\n",
    "plt.savefig(\"images/distances.png\")"
   ]
  },
  {
   "cell_type": "markdown",
   "metadata": {},
   "source": [
    "## Confusion matrix"
   ]
  },
  {
   "cell_type": "code",
   "execution_count": 34,
   "metadata": {},
   "outputs": [
    {
     "data": {
      "image/png": "[encoded data removed]",
      "text/plain": [
       "<matplotlib.figure.Figure at 0x7f82d7c53400>"
      ]
     },
     "metadata": {},
     "output_type": "display_data"
    },
    {
     "name": "stdout",
     "output_type": "stream",
     "text": [
      "False positive rate = 0.05 %\n",
      "True positive rate = 40.65 %\n"
     ]
    }
   ],
   "source": [
    "from sklearn.metrics import confusion_matrix\n",
    "\n",
    "LABELS = [\"Normal\", \"Fraud\"]\n",
    "\n",
    "target = np.concatenate((np.zeros(x_train.shape[0]),np.ones(x_test_signal.shape[0])))\n",
    "scores = np.concatenate((norm_test_bg,norm_test))  \n",
    "\n",
    "threshold = 0.75\n",
    "\n",
    "y_pred = [1 if e > threshold else 0 for e in scores]\n",
    "conf_matrix = confusion_matrix(target, y_pred)\n",
    "\n",
    "plt.figure(figsize=(6, 6))\n",
    "sns.heatmap(conf_matrix, xticklabels=LABELS, yticklabels=LABELS, annot=True, fmt=\"d\");\n",
    "plt.title(\"Confusion matrix\")\n",
    "plt.ylabel('True class')\n",
    "plt.xlabel('Predicted class')\n",
    "plt.show()\n",
    "\n",
    "NN = conf_matrix[0,0]\n",
    "NF = conf_matrix[0,1]\n",
    "FN = conf_matrix[1,0]\n",
    "FF = conf_matrix[1,1]\n",
    "print('False positive rate = %.2f %%' % (NF/(NN+NF)*100))\n",
    "print('True positive rate = %.2f %%' % (FF/(FN+FF)*100))\n"
   ]
  },
  {
   "cell_type": "markdown",
   "metadata": {},
   "source": [
    "## ROC Curve"
   ]
  },
  {
   "cell_type": "code",
   "execution_count": 20,
   "metadata": {},
   "outputs": [
    {
     "data": {
      "image/png": "[encoded data removed]",
      "text/plain": [
       "<matplotlib.figure.Figure at 0x7f82d7bcdb00>"
      ]
     },
     "metadata": {},
     "output_type": "display_data"
    }
   ],
   "source": [
    "from sklearn.metrics import roc_curve, auc\n",
    "from sklearn.model_selection import cross_val_predict\n",
    "\n",
    "target = np.concatenate((np.zeros(x_train.shape[0]),np.ones(x_test_signal.shape[0])))\n",
    "scores = np.concatenate((norm_test_bg,norm_test))  \n",
    "\n",
    "plt.figure(figsize=(7, 7))\n",
    "                   \n",
    "fp, vp, thresholds = roc_curve(target,scores,pos_label=1)\n",
    "roc_auc = auc(fp, vp)\n",
    "\n",
    "plt.plot(fp,vp,color='red',label='ROC curve %s (AUC = %0.4f)'%('AE',roc_auc))\n",
    "\n",
    "plt.xlabel('False Positive',fontsize=16)\n",
    "plt.ylabel('True Positive',fontsize=16)\n",
    "plt.plot([0, 1],[0, 1],\n",
    "         linestyle='--',color=(0.6, 0.6, 0.6),\n",
    "         label='Random guess')\n",
    "#plt.plot([0, 0, 1],[0, 1, 1],color='yellow',label='Idéal')\n",
    "plt.grid()\n",
    "plt.legend(loc=\"best\",fontsize=16)\n",
    "plt.tight_layout()\n",
    "plt.savefig(\"images/ROC.png\")"
   ]
  },
  {
   "cell_type": "markdown",
   "metadata": {},
   "source": [
    "# Save the model for future implementations"
   ]
  },
  {
   "cell_type": "raw",
   "metadata": {},
   "source": [
    "torch.save(model.state_dict(), 'models/AE_fraud_model_%d_%d_%d_%d.pkl' % (hidden_layer1,hidden_layer2,encoding_dim,batch_size))\n"
   ]
  }
 ],
 "metadata": {
  "kernelspec": {
   "display_name": "Python 3",
   "language": "python",
   "name": "python3"
  },
  "language_info": {
   "codemirror_mode": {
    "name": "ipython",
    "version": 3
   },
   "file_extension": ".py",
   "mimetype": "text/x-python",
   "name": "python",
   "nbconvert_exporter": "python",
   "pygments_lexer": "ipython3",
   "version": "3.7.4"
  }
 },
 "nbformat": 4,
 "nbformat_minor": 2
}
