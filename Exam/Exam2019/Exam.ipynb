{
 "cells": [
  {
   "cell_type": "markdown",
   "metadata": {},
   "source": [
    "# Problem: Logistic regression\n",
    "\n",
    "In this exercice we consider students that apply to a Master program in an University. Their chance of being accepted depend on several criteria among which the marks they obtained to two exams (called Exam1 and Exam2).\n",
    "\n",
    "We want to build a simple probabilistic model based only on the results obtained for these two exams. For this we use Logistic Regression to calculate the probability for a student to be accepted to the Master program given the marks he obtained for each exam:\n",
    "\n",
    "$$\\text{p(accepted)} = \\sigma(w_0 + w_1 \\cdot \\text{Exam1} + w_2 \\cdot \\text{Exam2}),$$\n",
    "\n",
    "where $\\sigma()$ is the sigmoid function.\n",
    "\n",
    "By analysing the success rate of the applicants of the previous years it was possible to determine the weights of this model, and these were estimated to be:\n",
    "\n",
    "$$ w_0 = -44.997, w_1 = 0.36357, w_2 = 0.35662$$\n",
    "\n",
    "In this exercice we would like to estimate the probability of 100 new students to be accepted to the Master program given the marks that they obtained to their exams.\n"
   ]
  },
  {
   "cell_type": "markdown",
   "metadata": {},
   "source": [
    "### Initialize"
   ]
  },
  {
   "cell_type": "code",
   "execution_count": null,
   "metadata": {},
   "outputs": [],
   "source": [
    "import numpy as np\n",
    "import matplotlib\n",
    "import matplotlib.pyplot as plt\n",
    "%matplotlib inline"
   ]
  },
  {
   "cell_type": "markdown",
   "metadata": {},
   "source": [
    "## 0) Question on lecture\n",
    "\n",
    "Explain how the model is trained:\n",
    "\n",
    "a) What is the loss function used here and why ?\n",
    "\n",
    "b) What method is used to minimize the loss function ?\n",
    "\n",
    "c) How are determined the weights $w_0$, $w_1$ and $w_2$ ?\n"
   ]
  },
  {
   "cell_type": "raw",
   "metadata": {},
   "source": []
  },
  {
   "cell_type": "markdown",
   "metadata": {},
   "source": [
    "## 1) The data\n",
    "The text file below contains the marks obtained by 100 students at the two exams. \n",
    "\n",
    "a) Print the first 10 entries of the file.\n",
    "\n",
    "b) Represent this dataset on a figure with two axes: Exam1 and Exam2."
   ]
  },
  {
   "cell_type": "code",
   "execution_count": null,
   "metadata": {},
   "outputs": [],
   "source": [
    "# Load and read file\n",
    "from numpy import genfromtxt\n",
    "student_marks = genfromtxt('marks_nolabels.txt', delimiter=',')\n"
   ]
  },
  {
   "cell_type": "markdown",
   "metadata": {},
   "source": [
    "## 2) The model\n",
    "\n",
    "a) Write two functions, `sigmoid(x)` and `dsig(x)` that returns, respectively $\\sigma(x)$ and $\\frac{\\text{d} \\sigma}{\\text{d} x}(x)$.\n",
    "\n",
    "b) Write a function `predict` that returns the probability for each student to be accepted by the University."
   ]
  },
  {
   "cell_type": "code",
   "execution_count": null,
   "metadata": {},
   "outputs": [],
   "source": []
  },
  {
   "cell_type": "markdown",
   "metadata": {},
   "source": [
    "## 3) Probabilities\n",
    "\n",
    "a) With the values of the weights $w_0,w_1,w_2$ given above calculate the probability for each student to be accepted. Represent the distribution of all probabilities in a histogram.\n",
    "\n",
    "b) For a threshold of p(accepted) = 0.5 how many how many students are predicted to pass or fail the acceptation at the University ?"
   ]
  },
  {
   "cell_type": "code",
   "execution_count": null,
   "metadata": {},
   "outputs": [],
   "source": []
  },
  {
   "cell_type": "markdown",
   "metadata": {},
   "source": [
    "## 4) Results\n",
    "\n",
    "a) Represent the data in a figure with two axes (Exam1 and Exam2). Show with a red marker students that are predicted to fail the admission and with a blue marker students who are predicted to pass.\n",
    "\n",
    "b) Modify this figure showing this time the markers with a color depending on the probability value: from dark red for low probabilities to dark blue for high probabilities.\n",
    "\n",
    "c) Add a line showing the decision boundary separing both classes.  Hint: this line correspond to points for which p(accepted)=0.5, that is, students for which the weighted sum is such that $(w_0 + w_1 \\cdot \\text{Exam1} + w_2 \\cdot \\text{Exam2})=0$."
   ]
  },
  {
   "cell_type": "code",
   "execution_count": null,
   "metadata": {},
   "outputs": [],
   "source": []
  },
  {
   "cell_type": "markdown",
   "metadata": {},
   "source": [
    "************************************************"
   ]
  },
  {
   "cell_type": "markdown",
   "metadata": {},
   "source": [
    "# Exercices\n",
    "\n",
    "All questions below are independent of each other. "
   ]
  },
  {
   "cell_type": "markdown",
   "metadata": {},
   "source": [
    "## 1) Neural network with Pytorch\n",
    "\n",
    "Look below at the pytorch implementation of a fully connected neural network (do not try to run the cell). \n",
    "\n",
    "a) How is called this specific NN architecture ? In which cases can it be used ?\n",
    "\n",
    "b) How many weights, including bias terms, need to be determined for each layer and in total for this network ?\n",
    "\n",
    "c) Modify the code by introducing two layers of dimension `hidden_layer2=25` with a sigmoid activitation function.\n",
    "Be careful to respect this specific NN architecture."
   ]
  },
  {
   "cell_type": "raw",
   "metadata": {},
   "source": [
    "input_dim = 100\n",
    "hidden_layer1 = 50\n",
    "latence_space=10\n",
    "net = torch.nn.Sequential(\n",
    "    torch.nn.Linear(input_dim, hidden_layer1),     \n",
    "    torch.nn.ReLU(),                              \n",
    "    torch.nn.Linear(hidden_layer1, latence_space),            \n",
    "    torch.nn.ReLU(),                              \n",
    "    torch.nn.Linear(latence_space,hidden_layer1),                     \n",
    "    torch.nn.ReLU(),                              \n",
    "    torch.nn.Linear(hidden_layer1, input_dim),            \n",
    ")"
   ]
  },
  {
   "cell_type": "raw",
   "metadata": {},
   "source": []
  },
  {
   "cell_type": "markdown",
   "metadata": {},
   "source": [
    "## 2) Implementation of a simple NN with Numpy\n",
    "\n",
    "In the chap.3 of the lectures, pages 54-56, an illustration of a NN calculation is given. \n",
    "\n",
    "a) Implement this example, using **only** the `numpy` library, and check you obtain the same results as in page 56 after 1 iteration. For this define all necessary functions, apply forward pass and backward pass, etc.\n",
    "\n",
    "b) Give the result (weights, output value) after another iteration. "
   ]
  },
  {
   "cell_type": "code",
   "execution_count": null,
   "metadata": {},
   "outputs": [],
   "source": []
  },
  {
   "cell_type": "markdown",
   "metadata": {},
   "source": [
    "## 3) Regression\n",
    "\n",
    "Describe the figure below. What is the difference between these models ? Which one seems to generalize better ?\n",
    "\n",
    "By the way is this figure an example of linear regression ? Why ?\n",
    "\n",
    "<center><img src=\"fit.png\" width=\"600\" /></center>\n"
   ]
  },
  {
   "cell_type": "markdown",
   "metadata": {},
   "source": []
  }
 ],
 "metadata": {
  "kernelspec": {
   "display_name": "Python 3",
   "language": "python",
   "name": "python3"
  },
  "language_info": {
   "codemirror_mode": {
    "name": "ipython",
    "version": 3
   },
   "file_extension": ".py",
   "mimetype": "text/x-python",
   "name": "python",
   "nbconvert_exporter": "python",
   "pygments_lexer": "ipython3",
   "version": "3.6.6"
  }
 },
 "nbformat": 4,
 "nbformat_minor": 2
}
