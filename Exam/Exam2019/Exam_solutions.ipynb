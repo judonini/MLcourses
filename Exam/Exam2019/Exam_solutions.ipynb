{
 "cells": [
  {
   "cell_type": "markdown",
   "metadata": {},
   "source": [
    "# Problem: Logistic regression\n",
    "\n",
    "In this exercice we consider students that apply to a Master program in an University. Their chance of being accepted depend on several criteria among which the marks they obtained to two exams (called Exam1 and Exam2).\n",
    "\n",
    "We want to build a simple probabilistic model based only on the results obtained for these two exams. For this we use Logistic Regression to calculate the probability for a student to be accepted to the Master program given the marks he obtained for each exam:\n",
    "\n",
    "$$\\text{p(accepted)} = \\sigma(w_0 + w_1 \\cdot \\text{Exam1} + w_2 \\cdot \\text{Exam2})$$\n",
    "\n",
    "By analysing the success rate of the applicants of the previous years it was possible to determine the weights of this model, and these were estimated to be:\n",
    "\n",
    "$$ w_0 = -44.997, w_1 = 0.36357, w_2 = 0.35662$$\n",
    "\n",
    "In this exercice we would like to estimate the probability of 100 new students to be accepted to the Master program given the marks that they obtained to their exams.\n",
    "\n",
    "Data taken from:\n",
    "https://towardsdatascience.com/building-a-logistic-regression-in-python-301d27367c24\n"
   ]
  },
  {
   "cell_type": "markdown",
   "metadata": {},
   "source": [
    "### Initialize"
   ]
  },
  {
   "cell_type": "code",
   "execution_count": 1,
   "metadata": {},
   "outputs": [],
   "source": [
    "import numpy as np\n",
    "import matplotlib\n",
    "import matplotlib.pyplot as plt\n",
    "%matplotlib inline"
   ]
  },
  {
   "cell_type": "markdown",
   "metadata": {},
   "source": [
    "## 0) Question on lecture [1pt]\n",
    "\n",
    "Explain how the model is trained:\n",
    "\n",
    "a) What is the loss function used here and why ?\n",
    "\n",
    "b) What method is used to minimize the loss function ?\n",
    "\n",
    "c) How are determined the weights $w_0$, $w_1$ and $w_2$ ?\n"
   ]
  },
  {
   "cell_type": "raw",
   "metadata": {},
   "source": [
    "a) cross-entropy loss function, better suited for classification problems.\n",
    "b) Training dataset (with labels) and SGD\n",
    "b) update weights using gradient of the loss function. Calculated using SGD. Iterate on sufficient epochs so that cost function reaches a plateau."
   ]
  },
  {
   "cell_type": "markdown",
   "metadata": {},
   "source": [
    "## 1) The data [1pt]\n",
    "The text file below contains the marks obtained at the two exams by 100 students. \n",
    "\n",
    "a) Print the first 10 entries of the file.\n",
    "\n",
    "b) Represent this dataset on a figure with two axes: Exam1 and Exam2."
   ]
  },
  {
   "cell_type": "code",
   "execution_count": 15,
   "metadata": {},
   "outputs": [
    {
     "name": "stdout",
     "output_type": "stream",
     "text": [
      "     Exam1      Exam2\n",
      "[[34.62365962 78.02469282]\n",
      " [30.28671077 43.89499752]\n",
      " [35.84740877 72.90219803]\n",
      " [60.18259939 86.3085521 ]\n",
      " [79.03273605 75.34437644]\n",
      " [45.08327748 56.31637178]\n",
      " [61.10666454 96.51142588]\n",
      " [75.02474557 46.55401354]\n",
      " [76.0987867  87.42056972]\n",
      " [84.43281996 43.53339331]]\n"
     ]
    },
    {
     "data": {
      "image/png": "[encoded data removed]",
      "text/plain": [
       "<matplotlib.figure.Figure at 0x7f47d40f9e48>"
      ]
     },
     "metadata": {},
     "output_type": "display_data"
    }
   ],
   "source": [
    "# Load and read file\n",
    "from numpy import genfromtxt\n",
    "student_marks = genfromtxt('marks_nolabels.txt', delimiter=',')\n",
    "\n",
    "# Print first 10 entries\n",
    "print('%10s %10s'% ('Exam1', 'Exam2'))\n",
    "print(student_marks[:10,:])\n",
    "\n",
    "# Show data\n",
    "plt.figure(figsize=(6,6))\n",
    "plt.scatter(student_marks[:,0],student_marks[:,1])\n",
    "plt.xlabel('Marks in 1st Exam')\n",
    "plt.ylabel('Marks in 2nd Exam')\n",
    "plt.grid()\n",
    "plt.show()"
   ]
  },
  {
   "cell_type": "markdown",
   "metadata": {},
   "source": [
    "## 2) The model [1 pt]\n",
    "\n",
    "a) Write two functions, `sigmoid(x)` and `dsig(x)` that returns, respectively $\\sigma(x)$ and $\\frac{\\text{d} \\sigma}{\\text{d} x}(x)$.\n",
    "\n",
    "b) Write a function `predict` that returns the probability for each student to be accepted by the University."
   ]
  },
  {
   "cell_type": "code",
   "execution_count": 16,
   "metadata": {},
   "outputs": [],
   "source": [
    "def sigmoid(x):\n",
    "    return 1/(1+np.exp(-x))\n",
    "\n",
    "def dsig(x):\n",
    "    return sigmoid(x)*(1-sigmoid(x))\n",
    "\n",
    "def predict(features, weights):\n",
    "    '''\n",
    "    Returns 1D array of probabilities\n",
    "    that the class label == 1\n",
    "    '''\n",
    "    z = np.dot(features, weights)\n",
    "    return sigmoid(z)\n"
   ]
  },
  {
   "cell_type": "markdown",
   "metadata": {},
   "source": [
    "## 3) Probabilities [4 pts = 3+1]\n",
    "\n",
    "a) With the values of the weights $w_0,w_1,w_2$ given above calculate the probability for each student to be accepted. Represent the distribution of all probabilities in a histogram.\n",
    "\n",
    "b) For a threshold of p(accepted) = 0.5 how many how many students are predicted to pass or fail the acceptation at the University ?"
   ]
  },
  {
   "cell_type": "code",
   "execution_count": 17,
   "metadata": {},
   "outputs": [
    {
     "name": "stdout",
     "output_type": "stream",
     "text": [
      "N fail=41 pass=59\n"
     ]
    },
    {
     "data": {
      "image/png": "[encoded data removed]",
      "text/plain": [
       "<matplotlib.figure.Figure at 0x7f47d40df7b8>"
      ]
     },
     "metadata": {},
     "output_type": "display_data"
    }
   ],
   "source": [
    "# Extend data features: [1, Exam1, Exam2]\n",
    "bias = np.ones(shape=(len(student_marks),1))\n",
    "features = np.append(bias, student_marks, axis=1)\n",
    "\n",
    "# Weight vector\n",
    "weights = np.array([-44.997, 0.36357,0.35662])\n",
    "\n",
    "# Prediction\n",
    "predicted_probabilities = predict(features, weights)\n",
    "\n",
    "# Show histogram\n",
    "plt.figure(figsize=(7, 7))\n",
    "bins = np.linspace(0,1,15)\n",
    "n, bins, patches = plt.hist(predicted_probabilities, bins, alpha=0.5, label='students', normed=1)\n",
    "plt.xlabel('Predicted probabilities',fontsize=18)\n",
    "plt.legend(loc='best',fontsize=16)\n",
    "\n",
    "# number of students who pass/fail\n",
    "n_fail = predicted_probabilities[predicted_probabilities<0.5].shape[0]\n",
    "n_pass = predicted_probabilities[predicted_probabilities>0.5].shape[0]\n",
    "print('N fail=%d pass=%d' % (n_fail,n_pass))"
   ]
  },
  {
   "cell_type": "markdown",
   "metadata": {},
   "source": [
    "## 4) Results [4 pts = 2+1+1]\n",
    "\n",
    "a) Represent the data in a figure with two axes (Exam1 and Exam2). Show with a red marker students that are predicted to fail the admission and with a blue marker students who are predicted to pass.\n",
    "\n",
    "b) Modify this figure showing this time the markers with a color depending on the probability value: from dark red for low probabilities to dark blue for high probabilities.\n",
    "\n",
    "c) Add a line showing the decision boundary separing both classes.  Hint: this line correspond to points for which p(accepted)=0.5, that is, students for which the weighted sum is such that $(w_0 + w_1 \\cdot \\text{Exam1} + w_2 \\cdot \\text{Exam2})=0$."
   ]
  },
  {
   "cell_type": "code",
   "execution_count": 25,
   "metadata": {},
   "outputs": [
    {
     "data": {
      "image/png": "[encoded data removed]",
      "text/plain": [
       "<matplotlib.figure.Figure at 0x7f47c77304a8>"
      ]
     },
     "metadata": {},
     "output_type": "display_data"
    }
   ],
   "source": [
    "# Show data in two classes\n",
    "plt.figure(figsize=(6,6))\n",
    "plt.scatter(student_marks[predicted_probabilities>0.5][:,0],student_marks[predicted_probabilities>0.5][:,1],c='blue',label='passed')\n",
    "plt.scatter(student_marks[predicted_probabilities<0.5][:,0],student_marks[predicted_probabilities<0.5][:,1],c='red',label='failed')\n",
    "plt.xlabel('Marks in 1st Exam')\n",
    "plt.ylabel('Marks in 2nd Exam')\n",
    "plt.legend()\n",
    "plt.grid()\n",
    "plt.show()"
   ]
  },
  {
   "cell_type": "markdown",
   "metadata": {},
   "source": [
    "c) If the weighted sum of inputs is greater than zero, the predicted class is 1 and vice-versa. So the decision boundary separating both the classes can be found by setting the weighted sum of inputs to 0.\n",
    "As there are two features in our dataset, the model can be represented by,\n",
    "\n",
    "$$y(x) = \\sigma(w_0 + w_1 x_1 + w_2 x_2)$$\n",
    "\n",
    "The decision boundary can be found by setting the weighted sum of inputs to 0. Equating the linear sum to 0 gives us:\n",
    "\n",
    "$$x_2 = -\\frac{w_0 + w_1 x_1}{w_2}$$\n"
   ]
  },
  {
   "cell_type": "code",
   "execution_count": 24,
   "metadata": {},
   "outputs": [
    {
     "data": {
      "image/png": "[encoded data removed]",
      "text/plain": [
       "<matplotlib.figure.Figure at 0x7f47c789a0f0>"
      ]
     },
     "metadata": {},
     "output_type": "display_data"
    }
   ],
   "source": [
    "# Decision boundary\n",
    "x_values = [np.min(features[:, 1] - 5), np.max(features[:, 2] + 5)]\n",
    "y_values = - (weights[0] + np.dot(weights[1], x_values)) / weights[2]\n",
    "\n",
    "# Show plot with marker color depending on probability\n",
    "plt.figure(figsize=(6,6))\n",
    "plt.scatter(features[:,1],features[:,2],c=predicted_probabilities,cmap='coolwarm_r',vmin=0, vmax=1)\n",
    "plt.colorbar()\n",
    "plt.xlabel('Marks in 1st Exam')\n",
    "plt.ylabel('Marks in 2nd Exam')\n",
    "plt.grid()\n",
    "plt.plot(x_values, y_values, label='Decision Boundary')\n",
    "plt.legend(loc='upper right',fontsize=10)\n",
    "plt.show()"
   ]
  },
  {
   "cell_type": "markdown",
   "metadata": {},
   "source": [
    "************************************************"
   ]
  },
  {
   "cell_type": "markdown",
   "metadata": {},
   "source": [
    "# Exercices\n",
    "\n",
    "All questions below are independent of each other. "
   ]
  },
  {
   "cell_type": "markdown",
   "metadata": {},
   "source": [
    "## 1) Neural network with Pytorch [3pts = 1+1+1]\n",
    "\n",
    "Look at the pytorch implementation of a fully connected neural network below (do not try to run the cell). \n",
    "\n",
    "a) How is called this specific NN architecture ? In which cases can it be used ?\n",
    "\n",
    "b) How many weights, including bias terms, need to be determined for each layer and in total for this network ?\n",
    "\n",
    "c) Modify the code by introducing two layers of dimension `hidden_layer2=25` with a sigmoid activitation function.\n",
    "Be careful to respect this specific NN architecture."
   ]
  },
  {
   "cell_type": "markdown",
   "metadata": {},
   "source": [
    "```python\n",
    "input_dim = 100\n",
    "hidden_layer1 = 50\n",
    "latence_space=10\n",
    "net = torch.nn.Sequential(\n",
    "    torch.nn.Linear(input_dim, hidden_layer1),     \n",
    "    torch.nn.ReLU(),                              \n",
    "    torch.nn.Linear(hidden_layer1, latence_space),            \n",
    "    torch.nn.ReLU(),                              \n",
    "    torch.nn.Linear(latence_space,hidden_layer1),                     \n",
    "    torch.nn.ReLU(),                              \n",
    "    torch.nn.Linear(hidden_layer1, input_dim),            \n",
    ")\n",
    "```"
   ]
  },
  {
   "cell_type": "markdown",
   "metadata": {},
   "source": [
    "Answers\n",
    "\n",
    "a) Autoencoder. Used for data compression and anomaly detection.\n",
    "\n",
    "b) number of weights = (100x50 + 50) + (50x10+10) + (10x50 +50) + (50x100 + 100) = 11210\n",
    "\n",
    "c) \n",
    "```python\n",
    "input_dim = 100\n",
    "hidden_layer1 = 50\n",
    "hidden_layer2 = 25\n",
    "latence_space=10\n",
    "net = torch.nn.Sequential(\n",
    "    torch.nn.Linear(input_dim, hidden_layer1),     \n",
    "    torch.nn.ReLU(),                              \n",
    "    torch.nn.Linear(hidden_layer1, hidden_layer2),            \n",
    "    torch.nn.Sigmoid(),\n",
    "    torch.nn.Linear(hidden_layer2, latence_space),            \n",
    "    torch.nn.ReLU(),                              \n",
    "    torch.nn.Linear(latence_space,hidden_layer2),                     \n",
    "    torch.nn.Sigmoid(),\n",
    "    torch.nn.Linear(hidden_layer2,hidden_layer1),                     \n",
    "    torch.nn.ReLU(),                              \n",
    "    torch.nn.Linear(hidden_layer1, input_dim),            \n",
    ")\n",
    "```"
   ]
  },
  {
   "cell_type": "markdown",
   "metadata": {},
   "source": [
    "## 2) Implementation of a simple NN with Numpy [5 pts = 4 (fwd,bckwd,update,res) + 1 (res)]\n",
    "\n",
    "In the chap.3 of the lectures, pages 54-56, a very simple example of NN calculation is shown:\n",
    "\n",
    "<center><img src=\"simple-nn.jpeg\" width=\"800\" /></center>\n",
    "\n",
    "a) Implement this example, using **only** the `numpy` library, and check you obtain the same results as in page 56 after 1 iteration. For this define all necessary functions, apply forward pass and backward pass, etc.\n",
    "\n",
    "b) Give the result (weights, output value) for another iteration. "
   ]
  },
  {
   "cell_type": "raw",
   "metadata": {},
   "source": [
    "--> Answer (maths):"
   ]
  },
  {
   "cell_type": "markdown",
   "metadata": {},
   "source": [
    "Forward propagation:\n",
    "$$\n",
    "{\\bf x} \\rightarrow {\\bf s^{(1)}} = {\\bf W x + b} \\rightarrow {\\bf x^{(1)}} = \\sigma({\\bf s^{(1)}}) \\rightarrow {\\bf s^{(2)}} = {\\bf W' x + b'} \\rightarrow {\\bf y = x^{(2)}} = \\sigma({\\bf s^{(2)}})\n",
    "$$\n",
    "\n",
    "Loss function:\n",
    "$$\\ell = (y-t)^2$$\n",
    "\n",
    "Backward propagation:\n",
    "\n",
    "$$\n",
    "\\frac{\\partial \\ell}{\\partial {\\bf W'}} = \\frac{\\partial \\ell}{\\partial y} \\frac{\\partial {\\bf y}}{\\partial {\\bf s^{(2)}}} \\frac{\\partial {\\bf s^{(2)}}}{\\partial {\\bf W'}} \\Rightarrow \\frac{\\partial \\ell}{\\partial W'_i} = \\frac{\\partial \\ell}{\\partial y} \\frac{\\partial y}{\\partial s^{(2)}} \\frac{\\partial s^{(2)}}{\\partial W'_i} = 2(y-t) \\sigma'(s^{(2)}) x_i^{(1)}\n",
    "$$\n",
    "\n",
    "$$\n",
    "\\frac{\\partial \\ell}{\\partial {\\bf W}} = \\frac{\\partial \\ell}{\\partial {\\bf y}} \\frac{\\partial {\\bf y}}{\\partial {\\bf s^{(2)}}} \\frac{\\partial {\\bf s^{(2)}}}{\\partial {\\bf x^{(1)}}} \\frac{\\partial {\\bf x^{(1)}}}{\\partial {\\bf s^{(1)}}} \\frac{\\partial {\\bf s^{(1)}}}{\\partial {\\bf W}} \\Rightarrow \\frac{\\partial \\ell}{\\partial W_{ij}} = \\frac{\\partial \\ell}{\\partial y} \\frac{\\partial y}{\\partial s^{(2)}} \\frac{\\partial s^{(2)}}{\\partial x_i^{(1)}} \\frac{\\partial x_i^{(1)}}{\\partial s_i^{(1)}} \\frac{\\partial s^{(1)}}{\\partial W_{ij}} = 2(y-t) \\sigma'(s^{(2)}) W'_{i} \\sigma'(s^{(1)}_i) x_{j}\n",
    "$$\n",
    "\n",
    "For $\\frac{\\partial \\ell}{\\partial {\\bf b'}}$ and $\\frac{\\partial \\ell}{\\partial {\\bf b}}$ derivatives we have the same expressions as above where the final term ($x^{(1)}$ and $x$, respectively) is replaced by 1:\n",
    "$$\n",
    "\\frac{\\partial \\ell}{\\partial b'} = \\frac{\\partial \\ell}{\\partial y} \\frac{\\partial y}{\\partial s^{(2)}} \\frac{\\partial s^{(2)}}{\\partial b'} = 2(y-t) \\sigma'(s^{(2)}),\n",
    "$$\n",
    "\n",
    "$$\n",
    "\\frac{\\partial \\ell}{\\partial b_i} = \\frac{\\partial \\ell}{\\partial y} \\frac{\\partial y}{\\partial s^{(2)}} \\frac{\\partial s^{(2)}}{\\partial x_i^{(1)}} \\frac{\\partial x_i^{(1)}}{\\partial s_i^{(1)}} \\frac{\\partial s^{(1)}}{\\partial b_i} = 2(y-t) \\sigma'(s^{(2)}) W'_{i} \\sigma'(s^{(1)}_i)\n",
    "$$\n",
    "\n",
    "Note: In practice for the implementation of $\\frac{\\partial \\ell}{\\partial {\\bf W}}$ we proceed as follow:\n",
    "\n",
    "$$\n",
    "\\frac{\\partial \\ell}{\\partial W_{ij}} = \\left( 2(y-t) \\sigma'(s^{(2)}) W'_{i} \\sigma'(s^{(1)}_i) \\right) x_{j} = dW_i \\, x_j\n",
    "$$\n",
    "Hence:\n",
    "\n",
    "$$\n",
    "\\frac{\\partial \\ell}{\\partial {\\bf W}} = \\begin{pmatrix} dW_1 \\\\ dW_2 \\end{pmatrix} \\left( x_1 \\,\\, x_2 \\right) = \\begin{pmatrix} dW_1 x_1 & dW_1 x_2 \\\\ dW_2 x_1 & dW_2 x_2 \\end{pmatrix} \n",
    "$$\n",
    "\n"
   ]
  },
  {
   "cell_type": "code",
   "execution_count": 9,
   "metadata": {},
   "outputs": [],
   "source": [
    "import numpy as np\n",
    "\n",
    "# Input data\n",
    "x = np.array([0.2,0.3])\n",
    "\n",
    "# target value\n",
    "t  = np.array([0.])\n",
    "\n",
    "# Initial weights\n",
    "W1 = np.array([[0.1,0.2],[0.3,0.4]])\n",
    "b1 = np.array([0.5,0.5])\n",
    "W2 = np.array([0.5,0.6])\n",
    "b2 = np.array([0.5])\n",
    "\n",
    "# Learning rate\n",
    "eta = 1"
   ]
  },
  {
   "cell_type": "code",
   "execution_count": 10,
   "metadata": {},
   "outputs": [],
   "source": [
    "def sigmoid(x):\n",
    "    return 1/(1+np.exp(-x))\n",
    "\n",
    "def loss(y,t):\n",
    "    return (y-t)**2\n",
    "\n",
    "def dloss(y,t):\n",
    "    return 2*(y-t)\n",
    "\n",
    "def dsig(x):\n",
    "    return sigmoid(x)*(1-sigmoid(x))\n",
    "\n",
    "# FWD propagation\n",
    "def forward(x,W1,b1,W2,b2,t):\n",
    "    s1 = np.matmul(W1,x) + b1\n",
    "    x1 = sigmoid(s1)\n",
    "    print('s1',s1,'x1',x1)\n",
    "    s2 = np.matmul(W2,x1) + b2\n",
    "    x2 = sigmoid(s2)\n",
    "    print('s2',s2,'x2',x2)\n",
    "    cost=loss(x2,t)\n",
    "    print('\\nfwd pass: y = %.3f, cost = %.3f\\n' %(x2,cost))\n",
    "    return s1,x1,s2,x2,cost\n",
    "\n",
    "def backprop(x,x1,s1,s2,W2,y,t):\n",
    "    dW2 = dloss(y,t) * dsig(s2)*x1\n",
    "    print('dl/dW2 = ',dW2)\n",
    "    \n",
    "    db2 = dloss(y,t) * dsig(s2)\n",
    "    print('dl/db2 = ',db2)\n",
    "\n",
    "    dW  = dloss(y,t) * dsig(s2) * W2 * dsig(s1)\n",
    "    dW1 = dW.reshape(2,1).dot(x.reshape(1,2))\n",
    "    print('dl/dW1 = \\n',dW1)\n",
    "    \n",
    "    db1 = dW\n",
    "    print('dl/db1 = \\n',db1)\n",
    "    \n",
    "    return dW1,db1,dW2,db2\n",
    "\n",
    "def update(W1,b1,W2,b2,dW1,dW2,db1,db2):\n",
    "    # Updated weights\n",
    "    W1 -= eta*dW1\n",
    "    W2 -= eta*dW2\n",
    "    b1 -= eta*db1\n",
    "    b2 -= eta*db2\n",
    "    return W1,b1,W2,b2\n",
    "\n",
    "def iterate(x,W1,b1,W2,b2,t):\n",
    "    s1,x1,s2,x2,cost = forward(x,W1,b1,W2,b2,t)\n",
    "    dW1,db1,dW2,db2=backprop(x,x1,s1,s2,W2,x2,t)\n",
    "    W1,b1,W2,b2=update(W1,b1,W2,b2,dW1,dW2,db1,db2)\n",
    "    return W1,b1,W2,b2"
   ]
  },
  {
   "cell_type": "raw",
   "metadata": {},
   "source": [
    "print(dsig(1.21877692))"
   ]
  },
  {
   "cell_type": "code",
   "execution_count": 11,
   "metadata": {},
   "outputs": [
    {
     "name": "stdout",
     "output_type": "stream",
     "text": [
      "1st iteration\n",
      "s1 [0.58 0.68] x1 [0.64106741 0.6637387 ]\n",
      "s2 [1.21877692] x2 [0.77184824]\n",
      "\n",
      "fwd pass: y = 0.772, cost = 0.596\n",
      "\n",
      "dl/dW2 =  [0.17426949 0.18043251]\n",
      "dl/db2 =  [0.27184269]\n",
      "dl/dW1 = \n",
      " [[0.0062551  0.00938265]\n",
      " [0.0072807  0.01092104]]\n",
      "dl/db1 = \n",
      " [0.0312755  0.03640348]\n",
      "--> New weights W1,b1,W2,b2:\n",
      " [[0.0937449  0.19061735]\n",
      " [0.2927193  0.38907896]] [0.4687245  0.46359652] [0.32573051 0.41956749] [0.22815731]\n",
      "\n",
      "2nd iteration\n",
      "s1 [0.54465869 0.63886406] x1 [0.63289548 0.65449664]\n",
      "s2 [0.70891619] x2 [0.67016163]\n",
      "\n",
      "fwd pass: y = 0.670, cost = 0.449\n",
      "\n",
      "dl/dW2 =  [0.18750907 0.19390888]\n",
      "dl/db2 =  [0.29627178]\n",
      "dl/dW1 = \n",
      " [[0.00448436 0.00672654]\n",
      " [0.00562188 0.00843282]]\n",
      "dl/db1 = \n",
      " [0.0224218  0.02810942]\n",
      "--> New weights W1,b1,W2,b2:\n",
      " [[0.08926054 0.18389081]\n",
      " [0.28709742 0.38064613]] [0.4463027 0.4354871] [0.13822144 0.2256586 ] [-0.06811447]\n",
      "s1 [0.51932205 0.60710042] x1 [0.62698923 0.64727909]\n",
      "s2 [0.16461298] x2 [0.54106057]\n",
      "\n",
      "fwd pass: y = 0.541, cost = 0.293\n",
      "\n"
     ]
    }
   ],
   "source": [
    "# 1st iteration\n",
    "print('1st iteration')\n",
    "W1,b1,W2,b2 = iterate(x,W1,b1,W2,b2,t)\n",
    "print('--> New weights W1,b1,W2,b2:\\n',W1,b1,W2,b2)\n",
    "\n",
    "# 2nd iteration\n",
    "print('\\n2nd iteration')\n",
    "W1,b1,W2,b2 = iterate(x,W1,b1,W2,b2,t)\n",
    "print('--> New weights W1,b1,W2,b2:\\n',W1,b1,W2,b2)\n",
    "_,_,_,_,_=forward(x,W1,b1,W2,b2,t)"
   ]
  },
  {
   "cell_type": "markdown",
   "metadata": {},
   "source": [
    "## 3) Regression [1 pt]\n",
    "\n",
    "Describe the figure below. What is the difference between these models ? Which one seems to generalize better ?\n",
    "\n",
    "By the way is this figure an example of linear regression ? Why ?\n",
    "\n",
    "<center><img src=\"fit.png\" width=\"600\" /></center>\n"
   ]
  },
  {
   "cell_type": "raw",
   "metadata": {},
   "source": [
    "Answer:\n",
    "    a) model obtained on train dataset where clearly the black curve (no regularization) tends to overfit. This is fixed by regularization. The data show the test dataset where the red model seems to generalize correctly.\n",
    "    b) This look like a linear regression where the model uses linear weights (and in this case basis functions)."
   ]
  }
 ],
 "metadata": {
  "kernelspec": {
   "display_name": "Python 3",
   "language": "python",
   "name": "python3"
  },
  "language_info": {
   "codemirror_mode": {
    "name": "ipython",
    "version": 3
   },
   "file_extension": ".py",
   "mimetype": "text/x-python",
   "name": "python",
   "nbconvert_exporter": "python",
   "pygments_lexer": "ipython3",
   "version": "3.7.4"
  }
 },
 "nbformat": 4,
 "nbformat_minor": 2
}
